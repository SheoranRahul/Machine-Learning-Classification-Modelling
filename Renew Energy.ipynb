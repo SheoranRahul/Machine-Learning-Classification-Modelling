{
 "cells": [
  {
   "cell_type": "code",
   "execution_count": 1,
   "metadata": {
    "_cell_guid": "b1076dfc-b9ad-4769-8c92-a6c4dae69d19",
    "_uuid": "8f2839f25d086af736a60e9eeb907d3b93b6e0e5",
    "execution": {
     "iopub.execute_input": "2022-09-04T05:40:40.188595Z",
     "iopub.status.busy": "2022-09-04T05:40:40.187984Z",
     "iopub.status.idle": "2022-09-04T05:40:40.218076Z",
     "shell.execute_reply": "2022-09-04T05:40:40.217081Z",
     "shell.execute_reply.started": "2022-09-04T05:40:40.188505Z"
    }
   },
   "outputs": [],
   "source": [
    "import numpy as np \n",
    "import pandas as pd \n"
   ]
  },
  {
   "cell_type": "code",
   "execution_count": 2,
   "metadata": {
    "execution": {
     "iopub.execute_input": "2022-09-04T05:41:31.318747Z",
     "iopub.status.busy": "2022-09-04T05:41:31.318403Z",
     "iopub.status.idle": "2022-09-04T05:41:35.552612Z",
     "shell.execute_reply": "2022-09-04T05:41:35.551331Z",
     "shell.execute_reply.started": "2022-09-04T05:41:31.318720Z"
    }
   },
   "outputs": [],
   "source": [
    "train=pd.read_csv(r\"C:\\Users\\Lenovo\\Downloads\\train_renew.csv~\\train.csv\")\n",
    "test=pd.read_csv(r\"C:\\Users\\Lenovo\\Downloads\\test_renew.csv~\\test.csv\")"
   ]
  },
  {
   "cell_type": "code",
   "execution_count": 3,
   "metadata": {
    "execution": {
     "iopub.execute_input": "2022-09-04T05:42:52.379626Z",
     "iopub.status.busy": "2022-09-04T05:42:52.379181Z",
     "iopub.status.idle": "2022-09-04T05:42:52.390051Z",
     "shell.execute_reply": "2022-09-04T05:42:52.388687Z",
     "shell.execute_reply.started": "2022-09-04T05:42:52.379590Z"
    }
   },
   "outputs": [
    {
     "data": {
      "text/plain": [
       "((909604, 16), (303202, 15))"
      ]
     },
     "execution_count": 3,
     "metadata": {},
     "output_type": "execute_result"
    }
   ],
   "source": [
    "train.shape,test.shape"
   ]
  },
  {
   "cell_type": "code",
   "execution_count": 4,
   "metadata": {
    "execution": {
     "iopub.execute_input": "2022-09-04T06:02:29.443115Z",
     "iopub.status.busy": "2022-09-04T06:02:29.442752Z",
     "iopub.status.idle": "2022-09-04T06:02:29.450471Z",
     "shell.execute_reply": "2022-09-04T06:02:29.448709Z",
     "shell.execute_reply.started": "2022-09-04T06:02:29.443089Z"
    }
   },
   "outputs": [
    {
     "data": {
      "text/plain": [
       "Index(['timestamp', 'active_power_calculated_by_converter', 'active_power_raw',\n",
       "       'ambient_temperature', 'generator_speed', 'generator_winding_temp_max',\n",
       "       'grid_power10min_average', 'nc1_inside_temp', 'nacelle_temp',\n",
       "       'reactice_power_calculated_by_converter', 'reactive_power',\n",
       "       'wind_direction_raw', 'wind_speed_raw', 'wind_speed_turbulence',\n",
       "       'turbine_id', 'Target'],\n",
       "      dtype='object')"
      ]
     },
     "execution_count": 4,
     "metadata": {},
     "output_type": "execute_result"
    }
   ],
   "source": [
    "train.columns"
   ]
  },
  {
   "cell_type": "code",
   "execution_count": 5,
   "metadata": {
    "execution": {
     "iopub.execute_input": "2022-09-04T06:02:43.556972Z",
     "iopub.status.busy": "2022-09-04T06:02:43.556622Z",
     "iopub.status.idle": "2022-09-04T06:02:43.562280Z",
     "shell.execute_reply": "2022-09-04T06:02:43.561727Z",
     "shell.execute_reply.started": "2022-09-04T06:02:43.556948Z"
    }
   },
   "outputs": [
    {
     "data": {
      "text/plain": [
       "Index(['timestamp', 'active_power_calculated_by_converter', 'active_power_raw',\n",
       "       'ambient_temperature', 'generator_speed', 'generator_winding_temp_max',\n",
       "       'grid_power10min_average', 'nc1_inside_temp', 'nacelle_temp',\n",
       "       'reactice_power_calculated_by_converter', 'reactive_power',\n",
       "       'wind_direction_raw', 'wind_speed_raw', 'wind_speed_turbulence',\n",
       "       'turbine_id'],\n",
       "      dtype='object')"
      ]
     },
     "execution_count": 5,
     "metadata": {},
     "output_type": "execute_result"
    }
   ],
   "source": [
    "test.columns"
   ]
  },
  {
   "cell_type": "code",
   "execution_count": 6,
   "metadata": {
    "execution": {
     "iopub.execute_input": "2022-09-04T06:42:30.192542Z",
     "iopub.status.busy": "2022-09-04T06:42:30.192056Z",
     "iopub.status.idle": "2022-09-04T06:42:34.868927Z",
     "shell.execute_reply": "2022-09-04T06:42:34.868036Z",
     "shell.execute_reply.started": "2022-09-04T06:42:30.192516Z"
    }
   },
   "outputs": [
    {
     "data": {
      "text/plain": [
       "<AxesSubplot:xlabel='Target', ylabel='Density'>"
      ]
     },
     "execution_count": 6,
     "metadata": {},
     "output_type": "execute_result"
    },
    {
     "data": {
      "image/png": "[encoded data removed]",
      "text/plain": [
       "<Figure size 432x288 with 1 Axes>"
      ]
     },
     "metadata": {
      "needs_background": "light"
     },
     "output_type": "display_data"
    }
   ],
   "source": [
    " #EDA\n",
    "#Disttribution of target\n",
    "import warnings\n",
    "warnings.filterwarnings('ignore')\n",
    "import seaborn as sns\n",
    "import matplotlib.pyplot as plt\n",
    "sns.distplot(train.Target)\n"
   ]
  },
  {
   "cell_type": "code",
   "execution_count": 7,
   "metadata": {
    "execution": {
     "iopub.execute_input": "2022-09-04T06:43:53.720003Z",
     "iopub.status.busy": "2022-09-04T06:43:53.718822Z",
     "iopub.status.idle": "2022-09-04T06:43:53.827377Z",
     "shell.execute_reply": "2022-09-04T06:43:53.826451Z",
     "shell.execute_reply.started": "2022-09-04T06:43:53.719942Z"
    }
   },
   "outputs": [
    {
     "name": "stdout",
     "output_type": "stream",
     "text": [
      "<class 'pandas.core.frame.DataFrame'>\n",
      "RangeIndex: 909604 entries, 0 to 909603\n",
      "Data columns (total 16 columns):\n",
      " #   Column                                  Non-Null Count   Dtype  \n",
      "---  ------                                  --------------   -----  \n",
      " 0   timestamp                               909604 non-null  object \n",
      " 1   active_power_calculated_by_converter    909604 non-null  float64\n",
      " 2   active_power_raw                        909604 non-null  float64\n",
      " 3   ambient_temperature                     909604 non-null  float64\n",
      " 4   generator_speed                         909604 non-null  float64\n",
      " 5   generator_winding_temp_max              909604 non-null  float64\n",
      " 6   grid_power10min_average                 909604 non-null  float64\n",
      " 7   nc1_inside_temp                         909604 non-null  float64\n",
      " 8   nacelle_temp                            909604 non-null  float64\n",
      " 9   reactice_power_calculated_by_converter  909604 non-null  float64\n",
      " 10  reactive_power                          909604 non-null  float64\n",
      " 11  wind_direction_raw                      909604 non-null  float64\n",
      " 12  wind_speed_raw                          909604 non-null  float64\n",
      " 13  wind_speed_turbulence                   909604 non-null  float64\n",
      " 14  turbine_id                              909604 non-null  object \n",
      " 15  Target                                  909604 non-null  float64\n",
      "dtypes: float64(14), object(2)\n",
      "memory usage: 111.0+ MB\n"
     ]
    }
   ],
   "source": [
    "train.info()"
   ]
  },
  {
   "cell_type": "code",
   "execution_count": 8,
   "metadata": {
    "execution": {
     "iopub.execute_input": "2022-09-04T06:44:16.742357Z",
     "iopub.status.busy": "2022-09-04T06:44:16.742023Z",
     "iopub.status.idle": "2022-09-04T06:44:17.274131Z",
     "shell.execute_reply": "2022-09-04T06:44:17.272945Z",
     "shell.execute_reply.started": "2022-09-04T06:44:16.742331Z"
    }
   },
   "outputs": [
    {
     "data": {
      "text/html": [
       "<div>\n",
       "<style scoped>\n",
       "    .dataframe tbody tr th:only-of-type {\n",
       "        vertical-align: middle;\n",
       "    }\n",
       "\n",
       "    .dataframe tbody tr th {\n",
       "        vertical-align: top;\n",
       "    }\n",
       "\n",
       "    .dataframe thead th {\n",
       "        text-align: right;\n",
       "    }\n",
       "</style>\n",
       "<table border=\"1\" class=\"dataframe\">\n",
       "  <thead>\n",
       "    <tr style=\"text-align: right;\">\n",
       "      <th></th>\n",
       "      <th>count</th>\n",
       "      <th>mean</th>\n",
       "      <th>std</th>\n",
       "      <th>min</th>\n",
       "      <th>25%</th>\n",
       "      <th>50%</th>\n",
       "      <th>75%</th>\n",
       "      <th>max</th>\n",
       "    </tr>\n",
       "  </thead>\n",
       "  <tbody>\n",
       "    <tr>\n",
       "      <th>active_power_calculated_by_converter</th>\n",
       "      <td>909604.0</td>\n",
       "      <td>525.886061</td>\n",
       "      <td>474.619576</td>\n",
       "      <td>0.000000</td>\n",
       "      <td>149.620898</td>\n",
       "      <td>379.989929</td>\n",
       "      <td>781.357475</td>\n",
       "      <td>1999.999858</td>\n",
       "    </tr>\n",
       "    <tr>\n",
       "      <th>active_power_raw</th>\n",
       "      <td>909604.0</td>\n",
       "      <td>537.639468</td>\n",
       "      <td>482.394907</td>\n",
       "      <td>0.000008</td>\n",
       "      <td>155.813244</td>\n",
       "      <td>383.985926</td>\n",
       "      <td>800.261108</td>\n",
       "      <td>1999.984456</td>\n",
       "    </tr>\n",
       "    <tr>\n",
       "      <th>ambient_temperature</th>\n",
       "      <td>909604.0</td>\n",
       "      <td>25.573921</td>\n",
       "      <td>8.025649</td>\n",
       "      <td>5.616541</td>\n",
       "      <td>17.093680</td>\n",
       "      <td>27.919035</td>\n",
       "      <td>32.171696</td>\n",
       "      <td>48.089017</td>\n",
       "    </tr>\n",
       "    <tr>\n",
       "      <th>generator_speed</th>\n",
       "      <td>909604.0</td>\n",
       "      <td>931.130882</td>\n",
       "      <td>193.674384</td>\n",
       "      <td>0.000000</td>\n",
       "      <td>770.538574</td>\n",
       "      <td>884.068502</td>\n",
       "      <td>1123.335856</td>\n",
       "      <td>1267.140625</td>\n",
       "    </tr>\n",
       "    <tr>\n",
       "      <th>generator_winding_temp_max</th>\n",
       "      <td>909604.0</td>\n",
       "      <td>60.730112</td>\n",
       "      <td>9.721582</td>\n",
       "      <td>25.636366</td>\n",
       "      <td>54.916767</td>\n",
       "      <td>60.034490</td>\n",
       "      <td>65.737187</td>\n",
       "      <td>129.846405</td>\n",
       "    </tr>\n",
       "    <tr>\n",
       "      <th>grid_power10min_average</th>\n",
       "      <td>909604.0</td>\n",
       "      <td>527.579537</td>\n",
       "      <td>472.656976</td>\n",
       "      <td>0.000000</td>\n",
       "      <td>147.181552</td>\n",
       "      <td>391.303187</td>\n",
       "      <td>794.875710</td>\n",
       "      <td>1999.991455</td>\n",
       "    </tr>\n",
       "    <tr>\n",
       "      <th>nc1_inside_temp</th>\n",
       "      <td>909604.0</td>\n",
       "      <td>31.755823</td>\n",
       "      <td>3.929794</td>\n",
       "      <td>11.141922</td>\n",
       "      <td>29.913803</td>\n",
       "      <td>31.762946</td>\n",
       "      <td>33.469745</td>\n",
       "      <td>52.790030</td>\n",
       "    </tr>\n",
       "    <tr>\n",
       "      <th>nacelle_temp</th>\n",
       "      <td>909604.0</td>\n",
       "      <td>31.686413</td>\n",
       "      <td>3.554426</td>\n",
       "      <td>16.010218</td>\n",
       "      <td>30.267423</td>\n",
       "      <td>31.961610</td>\n",
       "      <td>33.546260</td>\n",
       "      <td>48.406106</td>\n",
       "    </tr>\n",
       "    <tr>\n",
       "      <th>reactice_power_calculated_by_converter</th>\n",
       "      <td>909604.0</td>\n",
       "      <td>111.080610</td>\n",
       "      <td>78.219944</td>\n",
       "      <td>-318.393721</td>\n",
       "      <td>81.540850</td>\n",
       "      <td>92.005826</td>\n",
       "      <td>124.879153</td>\n",
       "      <td>523.892695</td>\n",
       "    </tr>\n",
       "    <tr>\n",
       "      <th>reactive_power</th>\n",
       "      <td>909604.0</td>\n",
       "      <td>133.692333</td>\n",
       "      <td>91.232152</td>\n",
       "      <td>-5.461607</td>\n",
       "      <td>96.045765</td>\n",
       "      <td>107.633378</td>\n",
       "      <td>154.153730</td>\n",
       "      <td>592.815938</td>\n",
       "    </tr>\n",
       "    <tr>\n",
       "      <th>wind_direction_raw</th>\n",
       "      <td>909604.0</td>\n",
       "      <td>199.487161</td>\n",
       "      <td>104.617261</td>\n",
       "      <td>0.309692</td>\n",
       "      <td>98.916060</td>\n",
       "      <td>232.821159</td>\n",
       "      <td>287.667503</td>\n",
       "      <td>359.455531</td>\n",
       "    </tr>\n",
       "    <tr>\n",
       "      <th>wind_speed_raw</th>\n",
       "      <td>909604.0</td>\n",
       "      <td>5.894950</td>\n",
       "      <td>1.977684</td>\n",
       "      <td>0.904500</td>\n",
       "      <td>4.400753</td>\n",
       "      <td>5.637207</td>\n",
       "      <td>7.092771</td>\n",
       "      <td>19.795001</td>\n",
       "    </tr>\n",
       "    <tr>\n",
       "      <th>wind_speed_turbulence</th>\n",
       "      <td>909604.0</td>\n",
       "      <td>0.651916</td>\n",
       "      <td>0.317513</td>\n",
       "      <td>0.000000</td>\n",
       "      <td>0.432129</td>\n",
       "      <td>0.583863</td>\n",
       "      <td>0.798240</td>\n",
       "      <td>9.534769</td>\n",
       "    </tr>\n",
       "    <tr>\n",
       "      <th>Target</th>\n",
       "      <td>909604.0</td>\n",
       "      <td>46.328595</td>\n",
       "      <td>2.617691</td>\n",
       "      <td>25.865320</td>\n",
       "      <td>44.816740</td>\n",
       "      <td>46.302899</td>\n",
       "      <td>47.733105</td>\n",
       "      <td>65.037689</td>\n",
       "    </tr>\n",
       "  </tbody>\n",
       "</table>\n",
       "</div>"
      ],
      "text/plain": [
       "                                           count        mean         std  \\\n",
       "active_power_calculated_by_converter    909604.0  525.886061  474.619576   \n",
       "active_power_raw                        909604.0  537.639468  482.394907   \n",
       "ambient_temperature                     909604.0   25.573921    8.025649   \n",
       "generator_speed                         909604.0  931.130882  193.674384   \n",
       "generator_winding_temp_max              909604.0   60.730112    9.721582   \n",
       "grid_power10min_average                 909604.0  527.579537  472.656976   \n",
       "nc1_inside_temp                         909604.0   31.755823    3.929794   \n",
       "nacelle_temp                            909604.0   31.686413    3.554426   \n",
       "reactice_power_calculated_by_converter  909604.0  111.080610   78.219944   \n",
       "reactive_power                          909604.0  133.692333   91.232152   \n",
       "wind_direction_raw                      909604.0  199.487161  104.617261   \n",
       "wind_speed_raw                          909604.0    5.894950    1.977684   \n",
       "wind_speed_turbulence                   909604.0    0.651916    0.317513   \n",
       "Target                                  909604.0   46.328595    2.617691   \n",
       "\n",
       "                                               min         25%         50%  \\\n",
       "active_power_calculated_by_converter      0.000000  149.620898  379.989929   \n",
       "active_power_raw                          0.000008  155.813244  383.985926   \n",
       "ambient_temperature                       5.616541   17.093680   27.919035   \n",
       "generator_speed                           0.000000  770.538574  884.068502   \n",
       "generator_winding_temp_max               25.636366   54.916767   60.034490   \n",
       "grid_power10min_average                   0.000000  147.181552  391.303187   \n",
       "nc1_inside_temp                          11.141922   29.913803   31.762946   \n",
       "nacelle_temp                             16.010218   30.267423   31.961610   \n",
       "reactice_power_calculated_by_converter -318.393721   81.540850   92.005826   \n",
       "reactive_power                           -5.461607   96.045765  107.633378   \n",
       "wind_direction_raw                        0.309692   98.916060  232.821159   \n",
       "wind_speed_raw                            0.904500    4.400753    5.637207   \n",
       "wind_speed_turbulence                     0.000000    0.432129    0.583863   \n",
       "Target                                   25.865320   44.816740   46.302899   \n",
       "\n",
       "                                                75%          max  \n",
       "active_power_calculated_by_converter     781.357475  1999.999858  \n",
       "active_power_raw                         800.261108  1999.984456  \n",
       "ambient_temperature                       32.171696    48.089017  \n",
       "generator_speed                         1123.335856  1267.140625  \n",
       "generator_winding_temp_max                65.737187   129.846405  \n",
       "grid_power10min_average                  794.875710  1999.991455  \n",
       "nc1_inside_temp                           33.469745    52.790030  \n",
       "nacelle_temp                              33.546260    48.406106  \n",
       "reactice_power_calculated_by_converter   124.879153   523.892695  \n",
       "reactive_power                           154.153730   592.815938  \n",
       "wind_direction_raw                       287.667503   359.455531  \n",
       "wind_speed_raw                             7.092771    19.795001  \n",
       "wind_speed_turbulence                      0.798240     9.534769  \n",
       "Target                                    47.733105    65.037689  "
      ]
     },
     "execution_count": 8,
     "metadata": {},
     "output_type": "execute_result"
    }
   ],
   "source": [
    "train.describe().T"
   ]
  },
  {
   "cell_type": "markdown",
   "metadata": {},
   "source": [
    "* some of the values are +ve,-ve and 0\n",
    "* this hints that since the data has different scales,it will not good pattern  capturing\n",
    "* therefore we will transform the data\n",
    "* some hints for transformation -Log Transformation,Power transformation,Box-Cox Transformation"
   ]
  },
  {
   "cell_type": "code",
   "execution_count": 9,
   "metadata": {
    "execution": {
     "iopub.execute_input": "2022-09-04T06:48:54.838111Z",
     "iopub.status.busy": "2022-09-04T06:48:54.837491Z",
     "iopub.status.idle": "2022-09-04T06:48:56.645875Z",
     "shell.execute_reply": "2022-09-04T06:48:56.644360Z",
     "shell.execute_reply.started": "2022-09-04T06:48:54.838081Z"
    }
   },
   "outputs": [
    {
     "data": {
      "text/plain": [
       "<Figure size 1440x1152 with 0 Axes>"
      ]
     },
     "metadata": {},
     "output_type": "display_data"
    },
    {
     "data": {
      "image/png": "[encoded data removed]",
      "text/plain": [
       "<Figure size 432x288 with 16 Axes>"
      ]
     },
     "metadata": {
      "needs_background": "light"
     },
     "output_type": "display_data"
    }
   ],
   "source": [
    "plt.figure(figsize=(20,16))\n",
    "train.hist()\n",
    "plt.show()"
   ]
  },
  {
   "cell_type": "code",
   "execution_count": 10,
   "metadata": {
    "execution": {
     "iopub.execute_input": "2022-09-04T06:53:39.846857Z",
     "iopub.status.busy": "2022-09-04T06:53:39.846508Z",
     "iopub.status.idle": "2022-09-04T06:53:41.006257Z",
     "shell.execute_reply": "2022-09-04T06:53:41.004612Z",
     "shell.execute_reply.started": "2022-09-04T06:53:39.846832Z"
    }
   },
   "outputs": [],
   "source": [
    "#TimeStamp-Day,Month,Year,Hour,Minute,Weekday\n",
    "train['day']=pd.DatetimeIndex(train.timestamp).day\n",
    "train['month']=pd.DatetimeIndex(train.timestamp).month\n",
    "train['year']=pd.DatetimeIndex(train.timestamp).year\n",
    "train['hour']=pd.DatetimeIndex(train.timestamp).hour\n",
    "train['minute']=pd.DatetimeIndex(train.timestamp).minute\n",
    "train['weekday']=pd.DatetimeIndex(train.timestamp).weekday"
   ]
  },
  {
   "cell_type": "code",
   "execution_count": null,
   "metadata": {},
   "outputs": [],
   "source": []
  },
  {
   "cell_type": "code",
   "execution_count": 11,
   "metadata": {
    "execution": {
     "iopub.execute_input": "2022-09-04T06:54:53.389342Z",
     "iopub.status.busy": "2022-09-04T06:54:53.388992Z",
     "iopub.status.idle": "2022-09-04T06:54:53.805555Z",
     "shell.execute_reply": "2022-09-04T06:54:53.804230Z",
     "shell.execute_reply.started": "2022-09-04T06:54:53.389318Z"
    }
   },
   "outputs": [],
   "source": [
    "#test data \n",
    "test['day']=pd.DatetimeIndex(test.timestamp).day\n",
    "test['month']=pd.DatetimeIndex(test.timestamp).month\n",
    "test['year']=pd.DatetimeIndex(test.timestamp).year\n",
    "test['hour']=pd.DatetimeIndex(test.timestamp).hour\n",
    "test['minute']=pd.DatetimeIndex(test.timestamp).minute\n",
    "test['weekday']=pd.DatetimeIndex(test.timestamp).weekday"
   ]
  },
  {
   "cell_type": "code",
   "execution_count": 12,
   "metadata": {
    "execution": {
     "iopub.execute_input": "2022-09-04T06:57:59.758733Z",
     "iopub.status.busy": "2022-09-04T06:57:59.757526Z",
     "iopub.status.idle": "2022-09-04T06:57:59.852294Z",
     "shell.execute_reply": "2022-09-04T06:57:59.850990Z",
     "shell.execute_reply.started": "2022-09-04T06:57:59.758699Z"
    }
   },
   "outputs": [],
   "source": [
    "# drop the insigificant\n",
    "newtrain=train.drop(['timestamp','year','turbine_id','Target'],axis=1)\n",
    "target=train.Target\n",
    "\n",
    "test.drop(['timestamp','year'],axis=1,inplace=True)"
   ]
  },
  {
   "cell_type": "code",
   "execution_count": 13,
   "metadata": {
    "execution": {
     "iopub.execute_input": "2022-09-04T07:00:15.426032Z",
     "iopub.status.busy": "2022-09-04T07:00:15.425572Z",
     "iopub.status.idle": "2022-09-04T07:00:15.434314Z",
     "shell.execute_reply": "2022-09-04T07:00:15.433060Z",
     "shell.execute_reply.started": "2022-09-04T07:00:15.425949Z"
    }
   },
   "outputs": [
    {
     "data": {
      "text/plain": [
       "Index(['active_power_calculated_by_converter', 'active_power_raw',\n",
       "       'ambient_temperature', 'generator_speed', 'generator_winding_temp_max',\n",
       "       'grid_power10min_average', 'nc1_inside_temp', 'nacelle_temp',\n",
       "       'reactice_power_calculated_by_converter', 'reactive_power',\n",
       "       'wind_direction_raw', 'wind_speed_raw', 'wind_speed_turbulence', 'day',\n",
       "       'month', 'hour', 'minute', 'weekday'],\n",
       "      dtype='object')"
      ]
     },
     "execution_count": 13,
     "metadata": {},
     "output_type": "execute_result"
    }
   ],
   "source": [
    "#feature Engineering\n",
    "newtrain.columns"
   ]
  },
  {
   "cell_type": "code",
   "execution_count": 14,
   "metadata": {
    "execution": {
     "iopub.execute_input": "2022-09-04T07:07:27.947549Z",
     "iopub.status.busy": "2022-09-04T07:07:27.946623Z",
     "iopub.status.idle": "2022-09-04T07:07:27.973291Z",
     "shell.execute_reply": "2022-09-04T07:07:27.971947Z",
     "shell.execute_reply.started": "2022-09-04T07:07:27.947494Z"
    }
   },
   "outputs": [],
   "source": [
    "#Active power raw\n",
    "newtrain['diff_active_power']=newtrain['active_power_raw']-newtrain['active_power_calculated_by_converter']\n",
    "test['diff_active_power']=test['active_power_raw']-test['active_power_calculated_by_converter']\n",
    "\n",
    "#nacelle temp\n",
    "newtrain['diff_nacelle']=newtrain['nacelle_temp']-newtrain['nc1_inside_temp']\n",
    "test['diff_nacelle']=test['nacelle_temp']-test['nc1_inside_temp']\n",
    "\n",
    "#Reactive power\n",
    "\n",
    "newtrain['diff_react']=newtrain['reactive_power']-newtrain['reactice_power_calculated_by_converter']\n",
    "test['diff_react']=test['reactive_power']-test['reactice_power_calculated_by_converter']\n"
   ]
  },
  {
   "cell_type": "code",
   "execution_count": 15,
   "metadata": {
    "execution": {
     "iopub.execute_input": "2022-09-04T07:07:41.062159Z",
     "iopub.status.busy": "2022-09-04T07:07:41.060732Z",
     "iopub.status.idle": "2022-09-04T07:07:41.068524Z",
     "shell.execute_reply": "2022-09-04T07:07:41.067243Z",
     "shell.execute_reply.started": "2022-09-04T07:07:41.062105Z"
    }
   },
   "outputs": [
    {
     "data": {
      "text/plain": [
       "Index(['active_power_calculated_by_converter', 'active_power_raw',\n",
       "       'ambient_temperature', 'generator_speed', 'generator_winding_temp_max',\n",
       "       'grid_power10min_average', 'nc1_inside_temp', 'nacelle_temp',\n",
       "       'reactice_power_calculated_by_converter', 'reactive_power',\n",
       "       'wind_direction_raw', 'wind_speed_raw', 'wind_speed_turbulence', 'day',\n",
       "       'month', 'hour', 'minute', 'weekday', 'diff_active_power',\n",
       "       'diff_nacelle', 'diff_react'],\n",
       "      dtype='object')"
      ]
     },
     "execution_count": 15,
     "metadata": {},
     "output_type": "execute_result"
    }
   ],
   "source": [
    "newtrain.columns"
   ]
  },
  {
   "cell_type": "code",
   "execution_count": 16,
   "metadata": {
    "execution": {
     "iopub.execute_input": "2022-09-04T07:12:41.287110Z",
     "iopub.status.busy": "2022-09-04T07:12:41.286715Z",
     "iopub.status.idle": "2022-09-04T07:12:41.561357Z",
     "shell.execute_reply": "2022-09-04T07:12:41.559978Z",
     "shell.execute_reply.started": "2022-09-04T07:12:41.287085Z"
    }
   },
   "outputs": [],
   "source": [
    "#lets build Random forest model\n",
    "from sklearn.ensemble import RandomForestRegressor,ExtraTreesRegressor\n",
    "from lightgbm import LGBMRegressor\n",
    "from xgboost import XGBRegressor\n",
    "import catboost as cboost"
   ]
  },
  {
   "cell_type": "code",
   "execution_count": 17,
   "metadata": {
    "execution": {
     "iopub.execute_input": "2022-09-04T07:14:19.078168Z",
     "iopub.status.busy": "2022-09-04T07:14:19.077842Z",
     "iopub.status.idle": "2022-09-04T07:14:19.090114Z",
     "shell.execute_reply": "2022-09-04T07:14:19.088923Z",
     "shell.execute_reply.started": "2022-09-04T07:14:19.078143Z"
    }
   },
   "outputs": [],
   "source": [
    "#model instances\n",
    "rf=RandomForestRegressor(random_state=42)\n",
    "etr=ExtraTreesRegressor(random_state=123,n_estimators=200)\n",
    "lgbm=LGBMRegressor(random_state=494)\n",
    "xgbr=XGBRegressor(random_state=500)\n",
    "cbr=cboost.CatBoostRegressor(random_state=0)"
   ]
  },
  {
   "cell_type": "code",
   "execution_count": null,
   "metadata": {
    "execution": {
     "iopub.execute_input": "2022-09-04T08:12:22.196283Z",
     "iopub.status.busy": "2022-09-04T08:12:22.195712Z"
    }
   },
   "outputs": [],
   "source": [
    "#fit and predict\n",
    "pred_rf=rf.fit(newtrain,target).predict(test.drop('turbine_id',axis=1))"
   ]
  },
  {
   "cell_type": "code",
   "execution_count": null,
   "metadata": {
    "execution": {
     "iopub.execute_input": "2022-09-04T08:12:05.261970Z",
     "iopub.status.busy": "2022-09-04T08:12:05.261621Z",
     "iopub.status.idle": "2022-09-04T08:12:05.281115Z",
     "shell.execute_reply": "2022-09-04T08:12:05.279996Z",
     "shell.execute_reply.started": "2022-09-04T08:12:05.261936Z"
    }
   },
   "outputs": [],
   "source": [
    "pred_rf"
   ]
  },
  {
   "cell_type": "raw",
   "metadata": {},
   "source": [
    "#Submission File\n",
    "\n",
    "submission=pd.DataFrame({'Target':pred_rf})\n",
    "submission.to_csv('RFModel.csv',index=False)  #RF MAPE-0.00724"
   ]
  },
  {
   "cell_type": "code",
   "execution_count": null,
   "metadata": {},
   "outputs": [],
   "source": []
  },
  {
   "cell_type": "markdown",
   "metadata": {},
   "source": [
    " ## Log Transformation"
   ]
  },
  {
   "cell_type": "code",
   "execution_count": null,
   "metadata": {},
   "outputs": [],
   "source": [
    "# apply log transformation\n",
    "features=['active_power_calculated_by_converter', 'active_power_raw',\n",
    "       'ambient_temperature', 'generator_speed', 'generator_winding_temp_max',\n",
    "       'grid_power10min_average', 'nc1_inside_temp', 'nacelle_temp',\n",
    "       'reactice_power_calculated_by_converter', 'reactive_power',\n",
    "       'wind_direction_raw', 'wind_speed_raw', 'wind_speed_turbulence', 'diff_active_power',\n",
    "       'diff_nacelle', 'diff_react']"
   ]
  },
  {
   "cell_type": "code",
   "execution_count": null,
   "metadata": {},
   "outputs": [],
   "source": [
    "#has +ve ,-ve ....\n",
    "for i in features:\n",
    "    #use very small values for neagative and zero values\n",
    "    newtrain[i]=newtrain[i].apply(lambda col:0.000001 if col<=0 else col)\n",
    "    newtrain[i]=np.log(newtrain[i])"
   ]
  },
  {
   "cell_type": "code",
   "execution_count": null,
   "metadata": {},
   "outputs": [],
   "source": [
    "#test\n",
    "for i in features:\n",
    "    #use very small values for neagative and zero values\n",
    "    test[i]=test[i].apply(lambda col:0.000001 if col<=0 else col)\n",
    "    test[i]=np.log(test[i])"
   ]
  },
  {
   "cell_type": "code",
   "execution_count": null,
   "metadata": {},
   "outputs": [],
   "source": [
    "newtrain.head()"
   ]
  },
  {
   "cell_type": "code",
   "execution_count": null,
   "metadata": {},
   "outputs": [],
   "source": [
    "#turbine id\n",
    "train.turbine_id.unique()"
   ]
  },
  {
   "cell_type": "code",
   "execution_count": null,
   "metadata": {},
   "outputs": [],
   "source": [
    "# test\n",
    "test.turbine_id.unique()\n",
    "\n",
    "# we can see that values are same in both means we have train and test with same values"
   ]
  },
  {
   "cell_type": "code",
   "execution_count": null,
   "metadata": {},
   "outputs": [],
   "source": [
    "# using target with mean value of turbine id\n",
    "\n",
    "\n",
    "# Target mean encoding\n",
    "\n",
    "encoded=train.groupby('turbine_id')['Target'].mean()"
   ]
  },
  {
   "cell_type": "code",
   "execution_count": null,
   "metadata": {},
   "outputs": [],
   "source": [
    "# map the Train and test\n",
    "newtrain['turbine_id']=train.turbine_id.map(encoded)\n",
    "test['turbine_id']=test.turbine_id.map(encoded)"
   ]
  },
  {
   "cell_type": "code",
   "execution_count": null,
   "metadata": {},
   "outputs": [],
   "source": [
    "newtrain.head()"
   ]
  },
  {
   "cell_type": "markdown",
   "metadata": {},
   "source": [
    "## Feature Selection using RFE"
   ]
  },
  {
   "cell_type": "code",
   "execution_count": null,
   "metadata": {},
   "outputs": [],
   "source": [
    "from sklearn.feature_selection import RFECV"
   ]
  },
  {
   "cell_type": "code",
   "execution_count": null,
   "metadata": {},
   "outputs": [],
   "source": [
    "from sklearn.tree import DecisionTreeRegressor\n",
    "dtree=DecisionTreeRegressor()\n",
    "selector=RFECV(estimator=dtree,step=1,cv=5,verbose=5,\n",
    "               scoring='neg_mean_absolute_percentage_error',min_features_to_select=5)"
   ]
  },
  {
   "cell_type": "code",
   "execution_count": null,
   "metadata": {},
   "outputs": [],
   "source": [
    "from sklearn.metrics import mean_absolute_percentage_error"
   ]
  },
  {
   "cell_type": "raw",
   "metadata": {},
   "source": [
    "#fit the model and find out the optimal features\n",
    "selector.fit(newtrain,target)\n",
    "\n",
    "\n",
    "feat_names=list(selector.get_feature_names_out())\n",
    "\n",
    "print(feat_names)"
   ]
  },
  {
   "cell_type": "code",
   "execution_count": null,
   "metadata": {},
   "outputs": [],
   "source": [
    "#\n",
    "rfetrain=newtrain.loc[:,['nacelle_temp','ambient_temperature','turbine_id','hour','day','month']]\n",
    "\n",
    "rfetest=test.loc[:,['nacelle_temp','ambient_temperature','turbine_id','hour','day','month']]"
   ]
  },
  {
   "cell_type": "markdown",
   "metadata": {},
   "source": [
    "## Ensembles\n",
    "\n",
    "* Split the data in train and test\n",
    "* Build  my models -ExtraTree,CatBoost,XGB,Lightgbm and Rf\n",
    "\n",
    "* Take the Ensembles and find the Median Predicted Values and Submit it"
   ]
  },
  {
   "cell_type": "code",
   "execution_count": null,
   "metadata": {},
   "outputs": [],
   "source": [
    "#train test split\n",
    "\n",
    "# stratify we will use in categorical only\n",
    "from sklearn.model_selection import train_test_split\n",
    "X_train,X_test,y_train,y_test=train_test_split(rfetrain,target,test_size=0.20,random_state=598,\n",
    "                                               stratify=train['turbine_id'])"
   ]
  },
  {
   "cell_type": "code",
   "execution_count": null,
   "metadata": {},
   "outputs": [],
   "source": [
    "# Build ensemble model\n",
    "from sklearn.metrics import mean_absolute_percentage_error\n",
    "\n",
    "final_prediction=[]\n",
    "\n",
    "for model,names in zip([rf,etr,lgbm,xgbr,cbr],['rf','etr','lgbm','xgbr','cbr']):\n",
    "    \n",
    "\n",
    "    #fit the model and find the MAPE of each model\n",
    "    pred=model.fit(X_train,y_train).predict(X_test)\n",
    "\n",
    "    #print the MAPE\n",
    "    print('{} MAPE is:'.format(names,mean_absolute_percentage_error(ytest,pred)))\n",
    "\n",
    "# final prediction\n",
    "final_prediction.append(model.predict(rfetest))"
   ]
  },
  {
   "cell_type": "markdown",
   "metadata": {},
   "source": [
    "## Summary of the models\n",
    "\n",
    "* Taking Date,Time and Creating the new Features gave us 0.0074\n",
    "\n",
    "* Mean Encoding+Log Transformation on Features date and time -0.00316\n",
    "\n",
    "# Note- \n",
    "* In both the Models ,only Random Forest has been able to secure a very good score.\n",
    "\n",
    "\n",
    "# Next Steps-\n",
    "\n",
    "* one can try parameter tuning of the Random Forest Model\n",
    "\n",
    "* one can explore the LightGBM Model\n",
    "\n",
    "        "
   ]
  },
  {
   "cell_type": "code",
   "execution_count": null,
   "metadata": {},
   "outputs": [],
   "source": []
  },
  {
   "cell_type": "code",
   "execution_count": null,
   "metadata": {},
   "outputs": [],
   "source": []
  },
  {
   "cell_type": "code",
   "execution_count": null,
   "metadata": {},
   "outputs": [],
   "source": []
  }
 ],
 "metadata": {
  "kernelspec": {
   "display_name": "Python 3 (ipykernel)",
   "language": "python",
   "name": "python3"
  },
  "language_info": {
   "codemirror_mode": {
    "name": "ipython",
    "version": 3
   },
   "file_extension": ".py",
   "mimetype": "text/x-python",
   "name": "python",
   "nbconvert_exporter": "python",
   "pygments_lexer": "ipython3",
   "version": "3.9.7"
  }
 },
 "nbformat": 4,
 "nbformat_minor": 4
}
