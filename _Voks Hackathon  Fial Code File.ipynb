{
 "cells": [
  {
   "cell_type": "raw",
   "id": "1700378b",
   "metadata": {},
   "source": [
    "Data Dictionary :\n",
    "1) index - Index No/Row No\n",
    "2) year_of_poll - Year for the conducted poll\n",
    "3) own_self_emp - Business Status( Unemployed - 0 , Business Owned - 1 , Self Employed - 2)\n",
    "4) veteran benefits - Veteran Benefits (0 - No Benefits, 1 - Cadre1 Benefits, 2- Cadre2 Benefits)\n",
    "5) currently_enrolled - Current enrolled in college/school.\n",
    "6) race - Race of people in the poll\n",
    "7) father_country - Birth country of father\n",
    "8) educ - Specific education status\n",
    "9) house_stat - Demography in person's house\n",
    "10) major_ind_code - Different Industries where a person is working\n",
    "11) labour_union - Member of Labour Union\n",
    "12) self_country - Country of oneself\n",
    "13) major_occ_code - Occupation a person performs in specific industry\n",
    "14) age - age of a person\n",
    "15) mother_country - Birth country of mother\n",
    "16) house_summary - detailed household summary\n",
    "17) gender - Gender of a person\n",
    "18) hisp_origin - Origins of people in South America\n",
    "19) gains - capital gains on investments\n",
    "20) dividends - dividends earned from stocks\n",
    "21) marriage_status - Current marital status\n",
    "22) losses - capital losses on investments\n",
    "23) employer_of - Number of people employed under an employer\n",
    "24) house_1yr_ago - Living in house for under 1 yr\n",
    "25) income_filled - Income filled for tax\n",
    "26) weeks_worked - weeks worked in year\n",
    "27) under18 - family members under 18\n",
    "28) hourly_wage - wage earned hourly\n",
    "29) unemp_reason - reason for unemployment\n",
    "30) citizenship - Citizenship of a person ( ' Foreign born- Not a citizen of U S ':'FB', ' Native- Born in Puerto Rico or U S Outlying':'NB_PR',' Native- Born in the United States':'NB_US', ' Foreign born- U S citizen by naturalization':'FB_US',' Native- Born abroad of American Parent(s)':'NB_US_Parents')\n",
    "31) woker_type - Kind of worker\n",
    "32) fed_liability - Federal tax liability for people\n",
    "33) full_partime_job - type of full/part-time job\n",
    "34)income - Less/More than 50k$ yearly"
   ]
  },
  {
   "cell_type": "markdown",
   "id": "f5d1267a",
   "metadata": {},
   "source": [
    "## Importing Libraries"
   ]
  },
  {
   "cell_type": "code",
   "execution_count": 1,
   "id": "bdc8ba8c",
   "metadata": {},
   "outputs": [],
   "source": [
    "import pandas as pd\n",
    "import numpy as np\n",
    "import seaborn as sns\n",
    "import matplotlib.pyplot as plt\n",
    "import warnings \n",
    "warnings.filterwarnings('ignore')\n"
   ]
  },
  {
   "cell_type": "markdown",
   "id": "c8889292",
   "metadata": {},
   "source": [
    "## Importing DataSet"
   ]
  },
  {
   "cell_type": "code",
   "execution_count": 2,
   "id": "18e1d1f3",
   "metadata": {},
   "outputs": [],
   "source": [
    "train=pd.read_csv(r\"C:\\Users\\Lenovo\\Downloads\\Voks train.csv\")\n",
    "\n",
    "test=pd.read_csv(r\"C:\\Users\\Lenovo\\Downloads\\Voks test.csv\")"
   ]
  },
  {
   "cell_type": "markdown",
   "id": "7139b8ec",
   "metadata": {},
   "source": [
    "## Shape of Data"
   ]
  },
  {
   "cell_type": "code",
   "execution_count": 3,
   "id": "faa0383c",
   "metadata": {},
   "outputs": [
    {
     "data": {
      "text/plain": [
       "((105000, 34), (42000, 33))"
      ]
     },
     "execution_count": 3,
     "metadata": {},
     "output_type": "execute_result"
    }
   ],
   "source": [
    "train.shape,test.shape"
   ]
  },
  {
   "cell_type": "code",
   "execution_count": 4,
   "id": "c857c9c8",
   "metadata": {},
   "outputs": [
    {
     "data": {
      "text/html": [
       "<div>\n",
       "<style scoped>\n",
       "    .dataframe tbody tr th:only-of-type {\n",
       "        vertical-align: middle;\n",
       "    }\n",
       "\n",
       "    .dataframe tbody tr th {\n",
       "        vertical-align: top;\n",
       "    }\n",
       "\n",
       "    .dataframe thead th {\n",
       "        text-align: right;\n",
       "    }\n",
       "</style>\n",
       "<table border=\"1\" class=\"dataframe\">\n",
       "  <thead>\n",
       "    <tr style=\"text-align: right;\">\n",
       "      <th></th>\n",
       "      <th>ID</th>\n",
       "      <th>year_of_poll</th>\n",
       "      <th>own_self_emp</th>\n",
       "      <th>veteran benefits</th>\n",
       "      <th>currently_enrolled</th>\n",
       "      <th>race</th>\n",
       "      <th>father_country</th>\n",
       "      <th>educ</th>\n",
       "      <th>house_stat</th>\n",
       "      <th>major_ind_code</th>\n",
       "      <th>...</th>\n",
       "      <th>income_filled</th>\n",
       "      <th>weeks_worked</th>\n",
       "      <th>under18</th>\n",
       "      <th>hourly_wage</th>\n",
       "      <th>unemp_reason</th>\n",
       "      <th>citizenship</th>\n",
       "      <th>woker_type</th>\n",
       "      <th>fed_liability</th>\n",
       "      <th>full_partime_job</th>\n",
       "      <th>income</th>\n",
       "    </tr>\n",
       "  </thead>\n",
       "  <tbody>\n",
       "    <tr>\n",
       "      <th>0</th>\n",
       "      <td>0</td>\n",
       "      <td>2004</td>\n",
       "      <td>0</td>\n",
       "      <td>2</td>\n",
       "      <td>High school</td>\n",
       "      <td>White</td>\n",
       "      <td>United-States</td>\n",
       "      <td>Associates degree-academic program</td>\n",
       "      <td>Householder</td>\n",
       "      <td>Business and repair services</td>\n",
       "      <td>...</td>\n",
       "      <td>No</td>\n",
       "      <td>47</td>\n",
       "      <td>NaN</td>\n",
       "      <td>0.0</td>\n",
       "      <td>NaN</td>\n",
       "      <td>NB_US</td>\n",
       "      <td>Pvt</td>\n",
       "      <td>Joint_both_under65</td>\n",
       "      <td>Children/Armed_Forces</td>\n",
       "      <td>More than 50K $</td>\n",
       "    </tr>\n",
       "    <tr>\n",
       "      <th>1</th>\n",
       "      <td>1</td>\n",
       "      <td>2005</td>\n",
       "      <td>0</td>\n",
       "      <td>0</td>\n",
       "      <td>College/University</td>\n",
       "      <td>White</td>\n",
       "      <td>Japan</td>\n",
       "      <td>Children</td>\n",
       "      <td>Child &lt;18 never marr not in subfamily</td>\n",
       "      <td>Not in universe or children</td>\n",
       "      <td>...</td>\n",
       "      <td>No</td>\n",
       "      <td>0</td>\n",
       "      <td>Both_Pr</td>\n",
       "      <td>0.0</td>\n",
       "      <td>NaN</td>\n",
       "      <td>NB_US</td>\n",
       "      <td>NaN</td>\n",
       "      <td>Nonfiler</td>\n",
       "      <td>Children/Armed_Forces</td>\n",
       "      <td>More than 50K $</td>\n",
       "    </tr>\n",
       "    <tr>\n",
       "      <th>2</th>\n",
       "      <td>2</td>\n",
       "      <td>2004</td>\n",
       "      <td>0</td>\n",
       "      <td>2</td>\n",
       "      <td>NaN</td>\n",
       "      <td>White</td>\n",
       "      <td>United-States</td>\n",
       "      <td>Some college but no degree</td>\n",
       "      <td>Secondary individual</td>\n",
       "      <td>Manufacturing-durable goods</td>\n",
       "      <td>...</td>\n",
       "      <td>Yes</td>\n",
       "      <td>47</td>\n",
       "      <td>NaN</td>\n",
       "      <td>0.0</td>\n",
       "      <td>NaN</td>\n",
       "      <td>NB_US</td>\n",
       "      <td>Pvt</td>\n",
       "      <td>Single</td>\n",
       "      <td>Children/Armed_Forces</td>\n",
       "      <td>More than 50K $</td>\n",
       "    </tr>\n",
       "    <tr>\n",
       "      <th>3</th>\n",
       "      <td>3</td>\n",
       "      <td>2004</td>\n",
       "      <td>0</td>\n",
       "      <td>2</td>\n",
       "      <td>College/University</td>\n",
       "      <td>Amer/Indian/Aleut/Eskimo</td>\n",
       "      <td>United-States</td>\n",
       "      <td>High school graduate</td>\n",
       "      <td>Householder</td>\n",
       "      <td>Wholesale trade</td>\n",
       "      <td>...</td>\n",
       "      <td>NaN</td>\n",
       "      <td>47</td>\n",
       "      <td>NaN</td>\n",
       "      <td>0.0</td>\n",
       "      <td>NaN</td>\n",
       "      <td>NB_US</td>\n",
       "      <td>Pvt</td>\n",
       "      <td>Joint_both_under65</td>\n",
       "      <td>Children/Armed_Forces</td>\n",
       "      <td>More than 50K $</td>\n",
       "    </tr>\n",
       "    <tr>\n",
       "      <th>4</th>\n",
       "      <td>4</td>\n",
       "      <td>2004</td>\n",
       "      <td>0</td>\n",
       "      <td>2</td>\n",
       "      <td>NaN</td>\n",
       "      <td>White</td>\n",
       "      <td>United-States</td>\n",
       "      <td>High school graduate</td>\n",
       "      <td>Householder</td>\n",
       "      <td>Wholesale trade</td>\n",
       "      <td>...</td>\n",
       "      <td>NaN</td>\n",
       "      <td>47</td>\n",
       "      <td>NaN</td>\n",
       "      <td>0.0</td>\n",
       "      <td>NaN</td>\n",
       "      <td>NB_US</td>\n",
       "      <td>Pvt</td>\n",
       "      <td>Single</td>\n",
       "      <td>Children/Armed_Forces</td>\n",
       "      <td>More than 50K $</td>\n",
       "    </tr>\n",
       "  </tbody>\n",
       "</table>\n",
       "<p>5 rows × 34 columns</p>\n",
       "</div>"
      ],
      "text/plain": [
       "   ID  year_of_poll  own_self_emp  veteran benefits  currently_enrolled  \\\n",
       "0   0          2004             0                 2         High school   \n",
       "1   1          2005             0                 0  College/University   \n",
       "2   2          2004             0                 2                 NaN   \n",
       "3   3          2004             0                 2  College/University   \n",
       "4   4          2004             0                 2                 NaN   \n",
       "\n",
       "                       race  father_country  \\\n",
       "0                     White   United-States   \n",
       "1                     White           Japan   \n",
       "2                     White   United-States   \n",
       "3  Amer/Indian/Aleut/Eskimo   United-States   \n",
       "4                     White   United-States   \n",
       "\n",
       "                                  educ  \\\n",
       "0   Associates degree-academic program   \n",
       "1                             Children   \n",
       "2           Some college but no degree   \n",
       "3                 High school graduate   \n",
       "4                 High school graduate   \n",
       "\n",
       "                               house_stat                 major_ind_code  ...  \\\n",
       "0                             Householder   Business and repair services  ...   \n",
       "1   Child <18 never marr not in subfamily    Not in universe or children  ...   \n",
       "2                    Secondary individual    Manufacturing-durable goods  ...   \n",
       "3                             Householder                Wholesale trade  ...   \n",
       "4                             Householder                Wholesale trade  ...   \n",
       "\n",
       "  income_filled weeks_worked  under18  hourly_wage unemp_reason citizenship  \\\n",
       "0            No           47      NaN          0.0          NaN       NB_US   \n",
       "1            No            0  Both_Pr          0.0          NaN       NB_US   \n",
       "2           Yes           47      NaN          0.0          NaN       NB_US   \n",
       "3           NaN           47      NaN          0.0          NaN       NB_US   \n",
       "4           NaN           47      NaN          0.0          NaN       NB_US   \n",
       "\n",
       "  woker_type       fed_liability       full_partime_job           income  \n",
       "0        Pvt  Joint_both_under65  Children/Armed_Forces  More than 50K $  \n",
       "1        NaN            Nonfiler  Children/Armed_Forces  More than 50K $  \n",
       "2        Pvt              Single  Children/Armed_Forces  More than 50K $  \n",
       "3        Pvt  Joint_both_under65  Children/Armed_Forces  More than 50K $  \n",
       "4        Pvt              Single  Children/Armed_Forces  More than 50K $  \n",
       "\n",
       "[5 rows x 34 columns]"
      ]
     },
     "execution_count": 4,
     "metadata": {},
     "output_type": "execute_result"
    }
   ],
   "source": [
    "train.head()"
   ]
  },
  {
   "cell_type": "code",
   "execution_count": 5,
   "id": "20e15641",
   "metadata": {},
   "outputs": [
    {
     "name": "stdout",
     "output_type": "stream",
     "text": [
      "<class 'pandas.core.frame.DataFrame'>\n",
      "RangeIndex: 105000 entries, 0 to 104999\n",
      "Data columns (total 34 columns):\n",
      " #   Column              Non-Null Count   Dtype  \n",
      "---  ------              --------------   -----  \n",
      " 0   ID                  105000 non-null  int64  \n",
      " 1   year_of_poll        105000 non-null  int64  \n",
      " 2   own_self_emp        105000 non-null  int64  \n",
      " 3   veteran benefits    105000 non-null  int64  \n",
      " 4   currently_enrolled  73557 non-null   object \n",
      " 5   race                105000 non-null  object \n",
      " 6   father_country      105000 non-null  object \n",
      " 7   educ                105000 non-null  object \n",
      " 8   house_stat          104989 non-null  object \n",
      " 9   major_ind_code      105000 non-null  object \n",
      " 10  labour_union        69669 non-null   object \n",
      " 11  self_country        105000 non-null  object \n",
      " 12  major_occ_code      51945 non-null   object \n",
      " 13  age                 105000 non-null  int64  \n",
      " 14  mother_country      105000 non-null  object \n",
      " 15  house_summary       105000 non-null  object \n",
      " 16  gender              105000 non-null  object \n",
      " 17  hisp_origin         105000 non-null  object \n",
      " 18  gains               105000 non-null  float64\n",
      " 19  dividends           105000 non-null  float64\n",
      " 20  marriage_status     105000 non-null  object \n",
      " 21  losses              105000 non-null  float64\n",
      " 22  employer_of         105000 non-null  int64  \n",
      " 23  house_1yr_ago       51678 non-null   object \n",
      " 24  income_filled       72597 non-null   object \n",
      " 25  weeks_worked        105000 non-null  int64  \n",
      " 26  under18             28984 non-null   object \n",
      " 27  hourly_wage         105000 non-null  float64\n",
      " 28  unemp_reason        3189 non-null    object \n",
      " 29  citizenship         105000 non-null  object \n",
      " 30  woker_type          52165 non-null   object \n",
      " 31  fed_liability       105000 non-null  object \n",
      " 32  full_partime_job    103608 non-null  object \n",
      " 33  income              105000 non-null  object \n",
      "dtypes: float64(4), int64(7), object(23)\n",
      "memory usage: 27.2+ MB\n"
     ]
    }
   ],
   "source": [
    "train.info()"
   ]
  },
  {
   "cell_type": "markdown",
   "id": "8655516e",
   "metadata": {},
   "source": [
    "## Combining Test And Train"
   ]
  },
  {
   "cell_type": "code",
   "execution_count": 6,
   "id": "d96fb6c6",
   "metadata": {},
   "outputs": [],
   "source": [
    "combine=train.append(test)"
   ]
  },
  {
   "cell_type": "code",
   "execution_count": 7,
   "id": "04e2c78a",
   "metadata": {},
   "outputs": [
    {
     "data": {
      "text/plain": [
       "(147000, 34)"
      ]
     },
     "execution_count": 7,
     "metadata": {},
     "output_type": "execute_result"
    }
   ],
   "source": [
    "combine.shape"
   ]
  },
  {
   "cell_type": "markdown",
   "id": "6c8141a4",
   "metadata": {},
   "source": [
    "## Analysis of Data\n",
    "\n",
    " * we have lots of category so lets just do EDA first and then Visualization"
   ]
  },
  {
   "cell_type": "markdown",
   "id": "92a5a86b",
   "metadata": {},
   "source": [
    "# EDA"
   ]
  },
  {
   "cell_type": "markdown",
   "id": "70196bea",
   "metadata": {},
   "source": [
    "## Gains,Losses, Dividends\n",
    "\n",
    "* These three columns have 90 percent + values zero so lets convert them in zero and one ."
   ]
  },
  {
   "cell_type": "code",
   "execution_count": 8,
   "id": "3fef4f08",
   "metadata": {},
   "outputs": [],
   "source": [
    "combine['gains']=combine['gains'].apply(lambda x: 0 if x==0.0 else 1)\n",
    "\n",
    "combine['losses']=combine['losses'].apply(lambda x: 0 if x==0.0 else 1)\n",
    "\n",
    "combine['dividends']=combine['dividends'].apply(lambda x: 0 if x==0.0 else 1)"
   ]
  },
  {
   "cell_type": "markdown",
   "id": "15348360",
   "metadata": {},
   "source": [
    "## Year Of Poll"
   ]
  },
  {
   "cell_type": "code",
   "execution_count": 9,
   "id": "1729a4d7",
   "metadata": {},
   "outputs": [
    {
     "data": {
      "text/plain": [
       "array([2004, 2005], dtype=int64)"
      ]
     },
     "execution_count": 9,
     "metadata": {},
     "output_type": "execute_result"
    }
   ],
   "source": [
    "combine['year_of_poll'].unique()"
   ]
  },
  {
   "cell_type": "code",
   "execution_count": 10,
   "id": "b622252c",
   "metadata": {},
   "outputs": [],
   "source": [
    "#lets convert year of poll to categorical\n",
    "combine['year_of_poll']=combine['year_of_poll'].astype('object')"
   ]
  },
  {
   "cell_type": "markdown",
   "id": "bcb917fe",
   "metadata": {},
   "source": [
    "## Currently Enrolled Binning"
   ]
  },
  {
   "cell_type": "code",
   "execution_count": 11,
   "id": "ce908151",
   "metadata": {},
   "outputs": [],
   "source": [
    "def mapppe(x):\n",
    "    if x==' High school':\n",
    "        return 2\n",
    "    \n",
    "    elif x=='College/University':\n",
    "        return 1\n",
    "    \n",
    "    else:\n",
    "        return 0\n",
    "    "
   ]
  },
  {
   "cell_type": "code",
   "execution_count": 12,
   "id": "e0b9b036",
   "metadata": {},
   "outputs": [],
   "source": [
    "# currently enrolled\n",
    "combine['currently_enrolled']=combine['currently_enrolled'].apply(mapppe)"
   ]
  },
  {
   "cell_type": "markdown",
   "id": "fcbcf985",
   "metadata": {},
   "source": [
    "## Race"
   ]
  },
  {
   "cell_type": "code",
   "execution_count": 13,
   "id": "eb5e1e44",
   "metadata": {},
   "outputs": [],
   "source": [
    "#race\n",
    "def race(x):\n",
    "    if x==' White':\n",
    "        return ('White')\n",
    "    \n",
    "    if x==' Black':\n",
    "        return ('Black')\n",
    "    \n",
    "    else:\n",
    "        return ('others')"
   ]
  },
  {
   "cell_type": "code",
   "execution_count": 14,
   "id": "e4b95f65",
   "metadata": {},
   "outputs": [],
   "source": [
    "combine['race']=combine['race'].apply(race)"
   ]
  },
  {
   "cell_type": "markdown",
   "id": "4415f0c7",
   "metadata": {},
   "source": [
    "## Chi Square Test for checking relevence of Country columns"
   ]
  },
  {
   "cell_type": "code",
   "execution_count": 15,
   "id": "4e7b98a0",
   "metadata": {},
   "outputs": [],
   "source": [
    "from scipy.stats import chi2_contingency"
   ]
  },
  {
   "cell_type": "code",
   "execution_count": 16,
   "id": "3ccf2857",
   "metadata": {},
   "outputs": [],
   "source": [
    "#Ho: not relevant\n",
    "#Ha: relevent\n"
   ]
  },
  {
   "cell_type": "code",
   "execution_count": 17,
   "id": "f085322b",
   "metadata": {},
   "outputs": [
    {
     "name": "stdout",
     "output_type": "stream",
     "text": [
      "1.20696112370483e-05\n"
     ]
    }
   ],
   "source": [
    "# contigency Table for father country\n",
    "tbl=pd.crosstab(combine.father_country,combine.income)\n",
    "chi2, p, dof, ex = chi2_contingency(tbl, correction=False)\n",
    "print(p) "
   ]
  },
  {
   "cell_type": "code",
   "execution_count": 18,
   "id": "c78e40f8",
   "metadata": {},
   "outputs": [
    {
     "name": "stdout",
     "output_type": "stream",
     "text": [
      "0.0010242700211882283\n"
     ]
    }
   ],
   "source": [
    "# contigency Table for self country\n",
    "tbl=pd.crosstab(combine.self_country,combine.income)\n",
    "chi2, p, dof, ex = chi2_contingency(tbl, correction=False)\n",
    "print(p)"
   ]
  },
  {
   "cell_type": "code",
   "execution_count": 19,
   "id": "224ce736",
   "metadata": {},
   "outputs": [
    {
     "name": "stdout",
     "output_type": "stream",
     "text": [
      "2.1508053477525524e-07\n"
     ]
    }
   ],
   "source": [
    "# contigency Table for Mother country\n",
    "tbl=pd.crosstab(combine.mother_country,combine.income)\n",
    "chi2, p, dof, ex = chi2_contingency(tbl, correction=False)\n",
    "print(p)"
   ]
  },
  {
   "cell_type": "markdown",
   "id": "8e780617",
   "metadata": {},
   "source": [
    "### We can see that all three colums are relevent Here\n",
    "\n",
    " * lets just make a function and apply on all three"
   ]
  },
  {
   "cell_type": "code",
   "execution_count": 20,
   "id": "26f2d7da",
   "metadata": {},
   "outputs": [
    {
     "data": {
      "text/plain": [
       "array([' United-States', ' Puerto-Rico', ' Philippines', ' Haiti',\n",
       "       ' Mexico', ' Dominican-Republic', ' ?', ' Guatemala', ' Italy',\n",
       "       ' Cuba', ' Canada', ' El-Salvador', ' Hungary', ' Nicaragua',\n",
       "       ' England', ' Vietnam', ' China', ' Peru', ' Germany', ' Greece',\n",
       "       ' Ireland', ' Poland', ' Japan', ' Yugoslavia', ' South Korea',\n",
       "       ' Trinadad&Tobago', ' Portugal', ' Laos', ' Scotland', ' India',\n",
       "       ' Columbia', ' Iran', ' France', ' Cambodia',\n",
       "       ' Outlying-U S (Guam USVI etc)', ' Honduras', ' Jamaica',\n",
       "       ' Ecuador', ' Thailand', ' Taiwan', ' Hong Kong',\n",
       "       ' Holand-Netherlands', ' Panama'], dtype=object)"
      ]
     },
     "execution_count": 20,
     "metadata": {},
     "output_type": "execute_result"
    }
   ],
   "source": [
    "# mother country\n",
    "\n",
    "combine['mother_country'].unique()"
   ]
  },
  {
   "cell_type": "code",
   "execution_count": 21,
   "id": "bda52d1b",
   "metadata": {},
   "outputs": [],
   "source": [
    "lst=[' United-States',' Mexico',' Canada',' Cuba',' Haiti']"
   ]
  },
  {
   "cell_type": "markdown",
   "id": "1eafdbc4",
   "metadata": {},
   "source": [
    "* Maximum enteries are from United States"
   ]
  },
  {
   "cell_type": "code",
   "execution_count": 22,
   "id": "830a98ff",
   "metadata": {},
   "outputs": [],
   "source": [
    "def mother(x):\n",
    "    if x in lst:\n",
    "        return ('America')\n",
    "        \n",
    "    else:\n",
    "        return ('others')"
   ]
  },
  {
   "cell_type": "code",
   "execution_count": 23,
   "id": "653bb346",
   "metadata": {},
   "outputs": [],
   "source": [
    "combine['mother_country']=combine['mother_country'].apply(mother)\n",
    "\n",
    "combine['father_country']=combine['father_country'].apply(mother)\n",
    "\n",
    "combine['self_country']=combine['self_country'].apply(mother)"
   ]
  },
  {
   "cell_type": "markdown",
   "id": "2080abb8",
   "metadata": {},
   "source": [
    "## Educ"
   ]
  },
  {
   "cell_type": "code",
   "execution_count": 24,
   "id": "e98318ff",
   "metadata": {},
   "outputs": [
    {
     "data": {
      "text/plain": [
       "array([' Associates degree-academic program', ' Children',\n",
       "       ' Some college but no degree', ' High school graduate',\n",
       "       ' 10th grade', ' Prof school degree (MD DDS DVM LLB JD)',\n",
       "       ' Bachelors degree(BA AB BS)', ' 7th and 8th grade',\n",
       "       ' 5th or 6th grade', ' 9th grade', ' 11th grade',\n",
       "       ' Masters degree(MA MS MEng MEd MSW MBA)',\n",
       "       ' Associates degree-occup /vocational',\n",
       "       ' 1st 2nd 3rd or 4th grade', ' Less than 1st grade',\n",
       "       ' 12th grade no diploma', ' Doctorate degree(PhD EdD)'],\n",
       "      dtype=object)"
      ]
     },
     "execution_count": 24,
     "metadata": {},
     "output_type": "execute_result"
    }
   ],
   "source": [
    "#educ\n",
    "combine['educ'].unique()"
   ]
  },
  {
   "cell_type": "code",
   "execution_count": 25,
   "id": "b7cf1951",
   "metadata": {},
   "outputs": [],
   "source": [
    "lst1=[' Doctorate degree(PhD EdD)',' Prof school degree (MD DDS DVM LLB JD)',\n",
    "      ' Masters degree(MA MS MEng MEd MSW MBA)',' Bachelors degree(BA AB BS)',\n",
    "     ' Associates degree-occup /vocational',' Associates degree-academic program']\n",
    "\n",
    "lst2=[' High school graduate',' 10th grade']\n",
    "\n",
    "lst3=[' 12th grade no diploma',' Some college but no degree',' 11th grade']\n",
    "\n",
    "lst4=[' Children']"
   ]
  },
  {
   "cell_type": "markdown",
   "id": "a14104b2",
   "metadata": {},
   "source": [
    "## Binning of educ column"
   ]
  },
  {
   "cell_type": "code",
   "execution_count": 26,
   "id": "378ef311",
   "metadata": {},
   "outputs": [
    {
     "data": {
      "text/html": [
       "<div>\n",
       "<style scoped>\n",
       "    .dataframe tbody tr th:only-of-type {\n",
       "        vertical-align: middle;\n",
       "    }\n",
       "\n",
       "    .dataframe tbody tr th {\n",
       "        vertical-align: top;\n",
       "    }\n",
       "\n",
       "    .dataframe thead th {\n",
       "        text-align: right;\n",
       "    }\n",
       "</style>\n",
       "<table border=\"1\" class=\"dataframe\">\n",
       "  <thead>\n",
       "    <tr style=\"text-align: right;\">\n",
       "      <th></th>\n",
       "      <th>count</th>\n",
       "      <th>unique</th>\n",
       "      <th>top</th>\n",
       "      <th>freq</th>\n",
       "    </tr>\n",
       "    <tr>\n",
       "      <th>educ</th>\n",
       "      <th></th>\n",
       "      <th></th>\n",
       "      <th></th>\n",
       "      <th></th>\n",
       "    </tr>\n",
       "  </thead>\n",
       "  <tbody>\n",
       "    <tr>\n",
       "      <th>10th grade</th>\n",
       "      <td>3962</td>\n",
       "      <td>2</td>\n",
       "      <td>Less than 50K $</td>\n",
       "      <td>2615</td>\n",
       "    </tr>\n",
       "    <tr>\n",
       "      <th>11th grade</th>\n",
       "      <td>3611</td>\n",
       "      <td>2</td>\n",
       "      <td>Less than 50K $</td>\n",
       "      <td>2402</td>\n",
       "    </tr>\n",
       "    <tr>\n",
       "      <th>12th grade no diploma</th>\n",
       "      <td>1082</td>\n",
       "      <td>2</td>\n",
       "      <td>Less than 50K $</td>\n",
       "      <td>687</td>\n",
       "    </tr>\n",
       "    <tr>\n",
       "      <th>1st 2nd 3rd or 4th grade</th>\n",
       "      <td>963</td>\n",
       "      <td>2</td>\n",
       "      <td>Less than 50K $</td>\n",
       "      <td>649</td>\n",
       "    </tr>\n",
       "    <tr>\n",
       "      <th>5th or 6th grade</th>\n",
       "      <td>1735</td>\n",
       "      <td>2</td>\n",
       "      <td>Less than 50K $</td>\n",
       "      <td>1173</td>\n",
       "    </tr>\n",
       "    <tr>\n",
       "      <th>7th and 8th grade</th>\n",
       "      <td>4239</td>\n",
       "      <td>2</td>\n",
       "      <td>Less than 50K $</td>\n",
       "      <td>2831</td>\n",
       "    </tr>\n",
       "    <tr>\n",
       "      <th>9th grade</th>\n",
       "      <td>3275</td>\n",
       "      <td>2</td>\n",
       "      <td>Less than 50K $</td>\n",
       "      <td>2177</td>\n",
       "    </tr>\n",
       "    <tr>\n",
       "      <th>Associates degree-academic program</th>\n",
       "      <td>2289</td>\n",
       "      <td>2</td>\n",
       "      <td>Less than 50K $</td>\n",
       "      <td>1378</td>\n",
       "    </tr>\n",
       "    <tr>\n",
       "      <th>Associates degree-occup /vocational</th>\n",
       "      <td>2857</td>\n",
       "      <td>2</td>\n",
       "      <td>Less than 50K $</td>\n",
       "      <td>1789</td>\n",
       "    </tr>\n",
       "    <tr>\n",
       "      <th>Bachelors degree(BA AB BS)</th>\n",
       "      <td>10403</td>\n",
       "      <td>2</td>\n",
       "      <td>Less than 50K $</td>\n",
       "      <td>5490</td>\n",
       "    </tr>\n",
       "    <tr>\n",
       "      <th>Children</th>\n",
       "      <td>24831</td>\n",
       "      <td>2</td>\n",
       "      <td>Less than 50K $</td>\n",
       "      <td>16386</td>\n",
       "    </tr>\n",
       "    <tr>\n",
       "      <th>Doctorate degree(PhD EdD)</th>\n",
       "      <td>651</td>\n",
       "      <td>2</td>\n",
       "      <td>More than 50K $</td>\n",
       "      <td>428</td>\n",
       "    </tr>\n",
       "    <tr>\n",
       "      <th>High school graduate</th>\n",
       "      <td>25608</td>\n",
       "      <td>2</td>\n",
       "      <td>Less than 50K $</td>\n",
       "      <td>16304</td>\n",
       "    </tr>\n",
       "    <tr>\n",
       "      <th>Less than 1st grade</th>\n",
       "      <td>449</td>\n",
       "      <td>2</td>\n",
       "      <td>Less than 50K $</td>\n",
       "      <td>306</td>\n",
       "    </tr>\n",
       "    <tr>\n",
       "      <th>Masters degree(MA MS MEng MEd MSW MBA)</th>\n",
       "      <td>3471</td>\n",
       "      <td>2</td>\n",
       "      <td>More than 50K $</td>\n",
       "      <td>1903</td>\n",
       "    </tr>\n",
       "    <tr>\n",
       "      <th>Prof school degree (MD DDS DVM LLB JD)</th>\n",
       "      <td>937</td>\n",
       "      <td>2</td>\n",
       "      <td>More than 50K $</td>\n",
       "      <td>669</td>\n",
       "    </tr>\n",
       "    <tr>\n",
       "      <th>Some college but no degree</th>\n",
       "      <td>14637</td>\n",
       "      <td>2</td>\n",
       "      <td>Less than 50K $</td>\n",
       "      <td>9026</td>\n",
       "    </tr>\n",
       "  </tbody>\n",
       "</table>\n",
       "</div>"
      ],
      "text/plain": [
       "                                         count unique              top   freq\n",
       "educ                                                                         \n",
       " 10th grade                               3962      2  Less than 50K $   2615\n",
       " 11th grade                               3611      2  Less than 50K $   2402\n",
       " 12th grade no diploma                    1082      2  Less than 50K $    687\n",
       " 1st 2nd 3rd or 4th grade                  963      2  Less than 50K $    649\n",
       " 5th or 6th grade                         1735      2  Less than 50K $   1173\n",
       " 7th and 8th grade                        4239      2  Less than 50K $   2831\n",
       " 9th grade                                3275      2  Less than 50K $   2177\n",
       " Associates degree-academic program       2289      2  Less than 50K $   1378\n",
       " Associates degree-occup /vocational      2857      2  Less than 50K $   1789\n",
       " Bachelors degree(BA AB BS)              10403      2  Less than 50K $   5490\n",
       " Children                                24831      2  Less than 50K $  16386\n",
       " Doctorate degree(PhD EdD)                 651      2  More than 50K $    428\n",
       " High school graduate                    25608      2  Less than 50K $  16304\n",
       " Less than 1st grade                       449      2  Less than 50K $    306\n",
       " Masters degree(MA MS MEng MEd MSW MBA)   3471      2  More than 50K $   1903\n",
       " Prof school degree (MD DDS DVM LLB JD)    937      2  More than 50K $    669\n",
       " Some college but no degree              14637      2  Less than 50K $   9026"
      ]
     },
     "execution_count": 26,
     "metadata": {},
     "output_type": "execute_result"
    }
   ],
   "source": [
    "# check distribution with target\n",
    "train.groupby('educ')['income'].describe()"
   ]
  },
  {
   "cell_type": "code",
   "execution_count": 27,
   "id": "e7145e64",
   "metadata": {},
   "outputs": [],
   "source": [
    "def edu(x):\n",
    "    if x in lst1:\n",
    "        return 0\n",
    "    elif x in lst3:\n",
    "        return 1\n",
    "    \n",
    "    elif x in lst2:\n",
    "        return 2\n",
    "    \n",
    "    elif x in lst4:\n",
    "        return 3\n",
    "    \n",
    "    else:\n",
    "        return 4\n",
    "        \n",
    "        \n",
    "    "
   ]
  },
  {
   "cell_type": "code",
   "execution_count": 28,
   "id": "b5694e4d",
   "metadata": {},
   "outputs": [],
   "source": [
    "#changing values according to target distribution\n",
    "combine['educ']=combine['educ'].apply(edu)"
   ]
  },
  {
   "cell_type": "markdown",
   "id": "fd6e8bef",
   "metadata": {},
   "source": [
    "## House Stats"
   ]
  },
  {
   "cell_type": "code",
   "execution_count": 29,
   "id": "9a9ee851",
   "metadata": {},
   "outputs": [
    {
     "data": {
      "text/plain": [
       "array([' Householder', ' Child <18 never marr not in subfamily',\n",
       "       ' Secondary individual',\n",
       "       ' Child 18+ never marr Not in a subfamily',\n",
       "       ' Spouse of householder', ' Nonfamily householder',\n",
       "       ' Other Rel 18+ never marr not in subfamily',\n",
       "       ' Child 18+ never marr RP of subfamily',\n",
       "       ' Child 18+ ever marr RP of subfamily',\n",
       "       ' Other Rel <18 never marr not in subfamily',\n",
       "       ' Other Rel 18+ ever marr not in subfamily',\n",
       "       ' RP of unrelated subfamily',\n",
       "       ' Other Rel <18 never marr child of subfamily RP',\n",
       "       ' Child under 18 of RP of unrel subfamily',\n",
       "       ' Grandchild <18 never marr child of subfamily RP',\n",
       "       ' Other Rel 18+ spouse of subfamily RP',\n",
       "       ' Grandchild <18 never marr not in subfamily',\n",
       "       ' Child <18 never marr RP of subfamily',\n",
       "       ' Other Rel 18+ ever marr RP of subfamily',\n",
       "       ' Child <18 ever marr RP of subfamily',\n",
       "       ' Child 18+ ever marr Not in a subfamily',\n",
       "       ' Child 18+ spouse of subfamily RP',\n",
       "       ' Grandchild 18+ never marr not in subfamily',\n",
       "       ' In group quarters', ' Other Rel 18+ never marr RP of subfamily',\n",
       "       ' Spouse of RP of unrelated subfamily',\n",
       "       ' Grandchild 18+ ever marr not in subfamily',\n",
       "       ' Grandchild 18+ ever marr RP of subfamily',\n",
       "       ' Child <18 ever marr not in subfamily', nan,\n",
       "       ' Grandchild 18+ spouse of subfamily RP',\n",
       "       ' Other Rel <18 never married RP of subfamily'], dtype=object)"
      ]
     },
     "execution_count": 29,
     "metadata": {},
     "output_type": "execute_result"
    }
   ],
   "source": [
    "# House Stat\n",
    "\n",
    "combine['house_stat'].unique()"
   ]
  },
  {
   "cell_type": "code",
   "execution_count": 30,
   "id": "3b5b8b0d",
   "metadata": {},
   "outputs": [
    {
     "data": {
      "text/html": [
       "<div>\n",
       "<style scoped>\n",
       "    .dataframe tbody tr th:only-of-type {\n",
       "        vertical-align: middle;\n",
       "    }\n",
       "\n",
       "    .dataframe tbody tr th {\n",
       "        vertical-align: top;\n",
       "    }\n",
       "\n",
       "    .dataframe thead th {\n",
       "        text-align: right;\n",
       "    }\n",
       "</style>\n",
       "<table border=\"1\" class=\"dataframe\">\n",
       "  <thead>\n",
       "    <tr style=\"text-align: right;\">\n",
       "      <th></th>\n",
       "      <th>count</th>\n",
       "      <th>unique</th>\n",
       "      <th>top</th>\n",
       "      <th>freq</th>\n",
       "    </tr>\n",
       "    <tr>\n",
       "      <th>house_stat</th>\n",
       "      <th></th>\n",
       "      <th></th>\n",
       "      <th></th>\n",
       "      <th></th>\n",
       "    </tr>\n",
       "  </thead>\n",
       "  <tbody>\n",
       "    <tr>\n",
       "      <th>Child 18+ ever marr Not in a subfamily</th>\n",
       "      <td>547</td>\n",
       "      <td>2</td>\n",
       "      <td>Less than 50K $</td>\n",
       "      <td>340</td>\n",
       "    </tr>\n",
       "    <tr>\n",
       "      <th>Child 18+ ever marr RP of subfamily</th>\n",
       "      <td>350</td>\n",
       "      <td>2</td>\n",
       "      <td>Less than 50K $</td>\n",
       "      <td>233</td>\n",
       "    </tr>\n",
       "    <tr>\n",
       "      <th>Child 18+ never marr Not in a subfamily</th>\n",
       "      <td>6320</td>\n",
       "      <td>2</td>\n",
       "      <td>Less than 50K $</td>\n",
       "      <td>4142</td>\n",
       "    </tr>\n",
       "    <tr>\n",
       "      <th>Child 18+ never marr RP of subfamily</th>\n",
       "      <td>308</td>\n",
       "      <td>2</td>\n",
       "      <td>Less than 50K $</td>\n",
       "      <td>203</td>\n",
       "    </tr>\n",
       "    <tr>\n",
       "      <th>Child 18+ spouse of subfamily RP</th>\n",
       "      <td>64</td>\n",
       "      <td>2</td>\n",
       "      <td>Less than 50K $</td>\n",
       "      <td>38</td>\n",
       "    </tr>\n",
       "    <tr>\n",
       "      <th>Child &lt;18 ever marr RP of subfamily</th>\n",
       "      <td>3</td>\n",
       "      <td>2</td>\n",
       "      <td>Less than 50K $</td>\n",
       "      <td>2</td>\n",
       "    </tr>\n",
       "    <tr>\n",
       "      <th>Child &lt;18 ever marr not in subfamily</th>\n",
       "      <td>14</td>\n",
       "      <td>2</td>\n",
       "      <td>Less than 50K $</td>\n",
       "      <td>9</td>\n",
       "    </tr>\n",
       "    <tr>\n",
       "      <th>Child &lt;18 never marr RP of subfamily</th>\n",
       "      <td>46</td>\n",
       "      <td>2</td>\n",
       "      <td>Less than 50K $</td>\n",
       "      <td>30</td>\n",
       "    </tr>\n",
       "    <tr>\n",
       "      <th>Child &lt;18 never marr not in subfamily</th>\n",
       "      <td>26380</td>\n",
       "      <td>2</td>\n",
       "      <td>Less than 50K $</td>\n",
       "      <td>17424</td>\n",
       "    </tr>\n",
       "    <tr>\n",
       "      <th>Child under 18 of RP of unrel subfamily</th>\n",
       "      <td>390</td>\n",
       "      <td>2</td>\n",
       "      <td>Less than 50K $</td>\n",
       "      <td>251</td>\n",
       "    </tr>\n",
       "    <tr>\n",
       "      <th>Grandchild 18+ ever marr RP of subfamily</th>\n",
       "      <td>5</td>\n",
       "      <td>2</td>\n",
       "      <td>Less than 50K $</td>\n",
       "      <td>4</td>\n",
       "    </tr>\n",
       "    <tr>\n",
       "      <th>Grandchild 18+ ever marr not in subfamily</th>\n",
       "      <td>19</td>\n",
       "      <td>2</td>\n",
       "      <td>Less than 50K $</td>\n",
       "      <td>12</td>\n",
       "    </tr>\n",
       "    <tr>\n",
       "      <th>Grandchild 18+ never marr not in subfamily</th>\n",
       "      <td>195</td>\n",
       "      <td>2</td>\n",
       "      <td>Less than 50K $</td>\n",
       "      <td>121</td>\n",
       "    </tr>\n",
       "    <tr>\n",
       "      <th>Grandchild 18+ spouse of subfamily RP</th>\n",
       "      <td>3</td>\n",
       "      <td>2</td>\n",
       "      <td>Less than 50K $</td>\n",
       "      <td>2</td>\n",
       "    </tr>\n",
       "    <tr>\n",
       "      <th>Grandchild &lt;18 never marr child of subfamily RP</th>\n",
       "      <td>980</td>\n",
       "      <td>2</td>\n",
       "      <td>Less than 50K $</td>\n",
       "      <td>657</td>\n",
       "    </tr>\n",
       "    <tr>\n",
       "      <th>Grandchild &lt;18 never marr not in subfamily</th>\n",
       "      <td>542</td>\n",
       "      <td>2</td>\n",
       "      <td>Less than 50K $</td>\n",
       "      <td>358</td>\n",
       "    </tr>\n",
       "    <tr>\n",
       "      <th>Householder</th>\n",
       "      <td>28081</td>\n",
       "      <td>2</td>\n",
       "      <td>Less than 50K $</td>\n",
       "      <td>15929</td>\n",
       "    </tr>\n",
       "    <tr>\n",
       "      <th>In group quarters</th>\n",
       "      <td>108</td>\n",
       "      <td>2</td>\n",
       "      <td>Less than 50K $</td>\n",
       "      <td>79</td>\n",
       "    </tr>\n",
       "    <tr>\n",
       "      <th>Nonfamily householder</th>\n",
       "      <td>11728</td>\n",
       "      <td>2</td>\n",
       "      <td>Less than 50K $</td>\n",
       "      <td>7103</td>\n",
       "    </tr>\n",
       "    <tr>\n",
       "      <th>Other Rel 18+ ever marr RP of subfamily</th>\n",
       "      <td>386</td>\n",
       "      <td>2</td>\n",
       "      <td>Less than 50K $</td>\n",
       "      <td>248</td>\n",
       "    </tr>\n",
       "    <tr>\n",
       "      <th>Other Rel 18+ ever marr not in subfamily</th>\n",
       "      <td>997</td>\n",
       "      <td>2</td>\n",
       "      <td>Less than 50K $</td>\n",
       "      <td>679</td>\n",
       "    </tr>\n",
       "    <tr>\n",
       "      <th>Other Rel 18+ never marr RP of subfamily</th>\n",
       "      <td>45</td>\n",
       "      <td>2</td>\n",
       "      <td>Less than 50K $</td>\n",
       "      <td>32</td>\n",
       "    </tr>\n",
       "    <tr>\n",
       "      <th>Other Rel 18+ never marr not in subfamily</th>\n",
       "      <td>929</td>\n",
       "      <td>2</td>\n",
       "      <td>Less than 50K $</td>\n",
       "      <td>595</td>\n",
       "    </tr>\n",
       "    <tr>\n",
       "      <th>Other Rel 18+ spouse of subfamily RP</th>\n",
       "      <td>308</td>\n",
       "      <td>2</td>\n",
       "      <td>Less than 50K $</td>\n",
       "      <td>193</td>\n",
       "    </tr>\n",
       "    <tr>\n",
       "      <th>Other Rel &lt;18 never marr child of subfamily RP</th>\n",
       "      <td>348</td>\n",
       "      <td>2</td>\n",
       "      <td>Less than 50K $</td>\n",
       "      <td>238</td>\n",
       "    </tr>\n",
       "    <tr>\n",
       "      <th>Other Rel &lt;18 never marr not in subfamily</th>\n",
       "      <td>316</td>\n",
       "      <td>2</td>\n",
       "      <td>Less than 50K $</td>\n",
       "      <td>203</td>\n",
       "    </tr>\n",
       "    <tr>\n",
       "      <th>Other Rel &lt;18 never married RP of subfamily</th>\n",
       "      <td>2</td>\n",
       "      <td>2</td>\n",
       "      <td>Less than 50K $</td>\n",
       "      <td>1</td>\n",
       "    </tr>\n",
       "    <tr>\n",
       "      <th>RP of unrelated subfamily</th>\n",
       "      <td>388</td>\n",
       "      <td>2</td>\n",
       "      <td>Less than 50K $</td>\n",
       "      <td>271</td>\n",
       "    </tr>\n",
       "    <tr>\n",
       "      <th>Secondary individual</th>\n",
       "      <td>3224</td>\n",
       "      <td>2</td>\n",
       "      <td>Less than 50K $</td>\n",
       "      <td>2058</td>\n",
       "    </tr>\n",
       "    <tr>\n",
       "      <th>Spouse of RP of unrelated subfamily</th>\n",
       "      <td>23</td>\n",
       "      <td>2</td>\n",
       "      <td>More than 50K $</td>\n",
       "      <td>13</td>\n",
       "    </tr>\n",
       "    <tr>\n",
       "      <th>Spouse of householder</th>\n",
       "      <td>21940</td>\n",
       "      <td>2</td>\n",
       "      <td>Less than 50K $</td>\n",
       "      <td>13799</td>\n",
       "    </tr>\n",
       "  </tbody>\n",
       "</table>\n",
       "</div>"
      ],
      "text/plain": [
       "                                                  count unique  \\\n",
       "house_stat                                                       \n",
       " Child 18+ ever marr Not in a subfamily             547      2   \n",
       " Child 18+ ever marr RP of subfamily                350      2   \n",
       " Child 18+ never marr Not in a subfamily           6320      2   \n",
       " Child 18+ never marr RP of subfamily               308      2   \n",
       " Child 18+ spouse of subfamily RP                    64      2   \n",
       " Child <18 ever marr RP of subfamily                  3      2   \n",
       " Child <18 ever marr not in subfamily                14      2   \n",
       " Child <18 never marr RP of subfamily                46      2   \n",
       " Child <18 never marr not in subfamily            26380      2   \n",
       " Child under 18 of RP of unrel subfamily            390      2   \n",
       " Grandchild 18+ ever marr RP of subfamily             5      2   \n",
       " Grandchild 18+ ever marr not in subfamily           19      2   \n",
       " Grandchild 18+ never marr not in subfamily         195      2   \n",
       " Grandchild 18+ spouse of subfamily RP                3      2   \n",
       " Grandchild <18 never marr child of subfamily RP    980      2   \n",
       " Grandchild <18 never marr not in subfamily         542      2   \n",
       " Householder                                      28081      2   \n",
       " In group quarters                                  108      2   \n",
       " Nonfamily householder                            11728      2   \n",
       " Other Rel 18+ ever marr RP of subfamily            386      2   \n",
       " Other Rel 18+ ever marr not in subfamily           997      2   \n",
       " Other Rel 18+ never marr RP of subfamily            45      2   \n",
       " Other Rel 18+ never marr not in subfamily          929      2   \n",
       " Other Rel 18+ spouse of subfamily RP               308      2   \n",
       " Other Rel <18 never marr child of subfamily RP     348      2   \n",
       " Other Rel <18 never marr not in subfamily          316      2   \n",
       " Other Rel <18 never married RP of subfamily          2      2   \n",
       " RP of unrelated subfamily                          388      2   \n",
       " Secondary individual                              3224      2   \n",
       " Spouse of RP of unrelated subfamily                 23      2   \n",
       " Spouse of householder                            21940      2   \n",
       "\n",
       "                                                              top   freq  \n",
       "house_stat                                                                \n",
       " Child 18+ ever marr Not in a subfamily           Less than 50K $    340  \n",
       " Child 18+ ever marr RP of subfamily              Less than 50K $    233  \n",
       " Child 18+ never marr Not in a subfamily          Less than 50K $   4142  \n",
       " Child 18+ never marr RP of subfamily             Less than 50K $    203  \n",
       " Child 18+ spouse of subfamily RP                 Less than 50K $     38  \n",
       " Child <18 ever marr RP of subfamily              Less than 50K $      2  \n",
       " Child <18 ever marr not in subfamily             Less than 50K $      9  \n",
       " Child <18 never marr RP of subfamily             Less than 50K $     30  \n",
       " Child <18 never marr not in subfamily            Less than 50K $  17424  \n",
       " Child under 18 of RP of unrel subfamily          Less than 50K $    251  \n",
       " Grandchild 18+ ever marr RP of subfamily         Less than 50K $      4  \n",
       " Grandchild 18+ ever marr not in subfamily        Less than 50K $     12  \n",
       " Grandchild 18+ never marr not in subfamily       Less than 50K $    121  \n",
       " Grandchild 18+ spouse of subfamily RP            Less than 50K $      2  \n",
       " Grandchild <18 never marr child of subfamily RP  Less than 50K $    657  \n",
       " Grandchild <18 never marr not in subfamily       Less than 50K $    358  \n",
       " Householder                                      Less than 50K $  15929  \n",
       " In group quarters                                Less than 50K $     79  \n",
       " Nonfamily householder                            Less than 50K $   7103  \n",
       " Other Rel 18+ ever marr RP of subfamily          Less than 50K $    248  \n",
       " Other Rel 18+ ever marr not in subfamily         Less than 50K $    679  \n",
       " Other Rel 18+ never marr RP of subfamily         Less than 50K $     32  \n",
       " Other Rel 18+ never marr not in subfamily        Less than 50K $    595  \n",
       " Other Rel 18+ spouse of subfamily RP             Less than 50K $    193  \n",
       " Other Rel <18 never marr child of subfamily RP   Less than 50K $    238  \n",
       " Other Rel <18 never marr not in subfamily        Less than 50K $    203  \n",
       " Other Rel <18 never married RP of subfamily      Less than 50K $      1  \n",
       " RP of unrelated subfamily                        Less than 50K $    271  \n",
       " Secondary individual                             Less than 50K $   2058  \n",
       " Spouse of RP of unrelated subfamily              More than 50K $     13  \n",
       " Spouse of householder                            Less than 50K $  13799  "
      ]
     },
     "execution_count": 30,
     "metadata": {},
     "output_type": "execute_result"
    }
   ],
   "source": [
    "train.groupby('house_stat')['income'].describe()"
   ]
  },
  {
   "cell_type": "code",
   "execution_count": 31,
   "id": "e055660c",
   "metadata": {},
   "outputs": [],
   "source": [
    "lst1=[' Child <18 never marr not in subfamily',' Child <18 never marr RP of subfamily',\n",
    "     ' Child <18 ever marr not in subfamily',' Child <18 ever marr RP of subfamily',\n",
    "     ' Grandchild <18 never marr child of subfamily RP',' Grandchild <18 never marr not in subfamily',\n",
    "     ' Other Rel <18 never marr not in subfamily',' Other Rel <18 never marr child of subfamily RP',\n",
    "     ' Other Rel <18 never married RP of subfamily',' Child under 18 of RP of unrel subfamily']\n",
    "\n",
    "lst2=[' Householder',' Spouse of householder',' Nonfamily householder']\n",
    "\n",
    "lst3=[' Child 18+ never marr Not in a subfamily',' Child 18+ ever marr Not in a subfamily',\n",
    "     ' Child 18+ never marr RP of subfamily',' Child 18+ ever marr RP of subfamily',\n",
    "     ' Child 18+ spouse of subfamily RP',' Grandchild 18+ spouse of subfamily RP',\n",
    "      ' Grandchild 18+ ever marr not in subfamily',' Grandchild 18+ ever marr RP of subfamily',\n",
    "     ' Grandchild 18+ never marr not in subfamily',' Other Rel 18+ never marr not in subfamily',\n",
    "      ' Other Rel 18+ ever marr not in subfamily',' Other Rel 18+ ever marr RP of subfamily',\n",
    "      ' Other Rel 18+ ever marr RP of subfamily',' Child 18+ spouse of subfamily RP']\n"
   ]
  },
  {
   "cell_type": "code",
   "execution_count": 32,
   "id": "dc866d80",
   "metadata": {},
   "outputs": [],
   "source": [
    "def stat(x):\n",
    "    if x in lst1:\n",
    "        return ('child18')\n",
    "    elif x in lst2:\n",
    "        return ('Householder')\n",
    "    \n",
    "    elif x in lst3:\n",
    "        return ('child 18+')\n",
    "    \n",
    "    else:\n",
    "        return ('Others')"
   ]
  },
  {
   "cell_type": "code",
   "execution_count": 33,
   "id": "26a0f065",
   "metadata": {},
   "outputs": [],
   "source": [
    "combine['house_stat']=combine['house_stat'].apply(stat)"
   ]
  },
  {
   "cell_type": "markdown",
   "id": "7495dc87",
   "metadata": {},
   "source": [
    "## major ind Code"
   ]
  },
  {
   "cell_type": "code",
   "execution_count": 34,
   "id": "9a4b4f6d",
   "metadata": {},
   "outputs": [
    {
     "data": {
      "text/plain": [
       "array([' Business and repair services', ' Not in universe or children',\n",
       "       ' Manufacturing-durable goods', ' Wholesale trade',\n",
       "       ' Entertainment', ' Construction', ' Hospital services',\n",
       "       ' Finance insurance and real estate',\n",
       "       ' Personal services except private HH', ' Retail trade',\n",
       "       ' Other professional services', ' Communications',\n",
       "       ' Manufacturing-nondurable goods', ' Agriculture', ' Education',\n",
       "       ' Private household services', ' Public administration',\n",
       "       ' Medical except hospital', ' Armed Forces', ' Social services',\n",
       "       ' Transportation', ' Forestry and fisheries', ' Mining',\n",
       "       ' Utilities and sanitary services'], dtype=object)"
      ]
     },
     "execution_count": 34,
     "metadata": {},
     "output_type": "execute_result"
    }
   ],
   "source": [
    "# major_ind_code\n",
    "combine['major_ind_code'].unique()"
   ]
  },
  {
   "cell_type": "code",
   "execution_count": 35,
   "id": "8fa2ab9c",
   "metadata": {},
   "outputs": [
    {
     "data": {
      "text/html": [
       "<div>\n",
       "<style scoped>\n",
       "    .dataframe tbody tr th:only-of-type {\n",
       "        vertical-align: middle;\n",
       "    }\n",
       "\n",
       "    .dataframe tbody tr th {\n",
       "        vertical-align: top;\n",
       "    }\n",
       "\n",
       "    .dataframe thead th {\n",
       "        text-align: right;\n",
       "    }\n",
       "</style>\n",
       "<table border=\"1\" class=\"dataframe\">\n",
       "  <thead>\n",
       "    <tr style=\"text-align: right;\">\n",
       "      <th></th>\n",
       "      <th>count</th>\n",
       "      <th>unique</th>\n",
       "      <th>top</th>\n",
       "      <th>freq</th>\n",
       "    </tr>\n",
       "    <tr>\n",
       "      <th>major_ind_code</th>\n",
       "      <th></th>\n",
       "      <th></th>\n",
       "      <th></th>\n",
       "      <th></th>\n",
       "    </tr>\n",
       "  </thead>\n",
       "  <tbody>\n",
       "    <tr>\n",
       "      <th>Agriculture</th>\n",
       "      <td>1630</td>\n",
       "      <td>2</td>\n",
       "      <td>Less than 50K $</td>\n",
       "      <td>1039</td>\n",
       "    </tr>\n",
       "    <tr>\n",
       "      <th>Armed Forces</th>\n",
       "      <td>21</td>\n",
       "      <td>2</td>\n",
       "      <td>More than 50K $</td>\n",
       "      <td>13</td>\n",
       "    </tr>\n",
       "    <tr>\n",
       "      <th>Business and repair services</th>\n",
       "      <td>2962</td>\n",
       "      <td>2</td>\n",
       "      <td>Less than 50K $</td>\n",
       "      <td>1750</td>\n",
       "    </tr>\n",
       "    <tr>\n",
       "      <th>Communications</th>\n",
       "      <td>655</td>\n",
       "      <td>2</td>\n",
       "      <td>Less than 50K $</td>\n",
       "      <td>337</td>\n",
       "    </tr>\n",
       "    <tr>\n",
       "      <th>Construction</th>\n",
       "      <td>3178</td>\n",
       "      <td>2</td>\n",
       "      <td>Less than 50K $</td>\n",
       "      <td>1932</td>\n",
       "    </tr>\n",
       "    <tr>\n",
       "      <th>Education</th>\n",
       "      <td>4307</td>\n",
       "      <td>2</td>\n",
       "      <td>Less than 50K $</td>\n",
       "      <td>2560</td>\n",
       "    </tr>\n",
       "    <tr>\n",
       "      <th>Entertainment</th>\n",
       "      <td>846</td>\n",
       "      <td>2</td>\n",
       "      <td>Less than 50K $</td>\n",
       "      <td>509</td>\n",
       "    </tr>\n",
       "    <tr>\n",
       "      <th>Finance insurance and real estate</th>\n",
       "      <td>3178</td>\n",
       "      <td>2</td>\n",
       "      <td>Less than 50K $</td>\n",
       "      <td>1708</td>\n",
       "    </tr>\n",
       "    <tr>\n",
       "      <th>Forestry and fisheries</th>\n",
       "      <td>94</td>\n",
       "      <td>2</td>\n",
       "      <td>Less than 50K $</td>\n",
       "      <td>50</td>\n",
       "    </tr>\n",
       "    <tr>\n",
       "      <th>Hospital services</th>\n",
       "      <td>2086</td>\n",
       "      <td>2</td>\n",
       "      <td>Less than 50K $</td>\n",
       "      <td>1252</td>\n",
       "    </tr>\n",
       "    <tr>\n",
       "      <th>Manufacturing-durable goods</th>\n",
       "      <td>4805</td>\n",
       "      <td>2</td>\n",
       "      <td>Less than 50K $</td>\n",
       "      <td>2660</td>\n",
       "    </tr>\n",
       "    <tr>\n",
       "      <th>Manufacturing-nondurable goods</th>\n",
       "      <td>3705</td>\n",
       "      <td>2</td>\n",
       "      <td>Less than 50K $</td>\n",
       "      <td>2192</td>\n",
       "    </tr>\n",
       "    <tr>\n",
       "      <th>Medical except hospital</th>\n",
       "      <td>2484</td>\n",
       "      <td>2</td>\n",
       "      <td>Less than 50K $</td>\n",
       "      <td>1456</td>\n",
       "    </tr>\n",
       "    <tr>\n",
       "      <th>Mining</th>\n",
       "      <td>299</td>\n",
       "      <td>2</td>\n",
       "      <td>Less than 50K $</td>\n",
       "      <td>156</td>\n",
       "    </tr>\n",
       "    <tr>\n",
       "      <th>Not in universe or children</th>\n",
       "      <td>53055</td>\n",
       "      <td>2</td>\n",
       "      <td>Less than 50K $</td>\n",
       "      <td>34844</td>\n",
       "    </tr>\n",
       "    <tr>\n",
       "      <th>Other professional services</th>\n",
       "      <td>2373</td>\n",
       "      <td>2</td>\n",
       "      <td>More than 50K $</td>\n",
       "      <td>1188</td>\n",
       "    </tr>\n",
       "    <tr>\n",
       "      <th>Personal services except private HH</th>\n",
       "      <td>1541</td>\n",
       "      <td>2</td>\n",
       "      <td>Less than 50K $</td>\n",
       "      <td>982</td>\n",
       "    </tr>\n",
       "    <tr>\n",
       "      <th>Private household services</th>\n",
       "      <td>517</td>\n",
       "      <td>2</td>\n",
       "      <td>Less than 50K $</td>\n",
       "      <td>348</td>\n",
       "    </tr>\n",
       "    <tr>\n",
       "      <th>Public administration</th>\n",
       "      <td>2416</td>\n",
       "      <td>2</td>\n",
       "      <td>Less than 50K $</td>\n",
       "      <td>1312</td>\n",
       "    </tr>\n",
       "    <tr>\n",
       "      <th>Retail trade</th>\n",
       "      <td>8889</td>\n",
       "      <td>2</td>\n",
       "      <td>Less than 50K $</td>\n",
       "      <td>5560</td>\n",
       "    </tr>\n",
       "    <tr>\n",
       "      <th>Social services</th>\n",
       "      <td>1336</td>\n",
       "      <td>2</td>\n",
       "      <td>Less than 50K $</td>\n",
       "      <td>845</td>\n",
       "    </tr>\n",
       "    <tr>\n",
       "      <th>Transportation</th>\n",
       "      <td>2157</td>\n",
       "      <td>2</td>\n",
       "      <td>Less than 50K $</td>\n",
       "      <td>1225</td>\n",
       "    </tr>\n",
       "    <tr>\n",
       "      <th>Utilities and sanitary services</th>\n",
       "      <td>608</td>\n",
       "      <td>2</td>\n",
       "      <td>Less than 50K $</td>\n",
       "      <td>305</td>\n",
       "    </tr>\n",
       "    <tr>\n",
       "      <th>Wholesale trade</th>\n",
       "      <td>1858</td>\n",
       "      <td>2</td>\n",
       "      <td>Less than 50K $</td>\n",
       "      <td>1057</td>\n",
       "    </tr>\n",
       "  </tbody>\n",
       "</table>\n",
       "</div>"
      ],
      "text/plain": [
       "                                      count unique              top   freq\n",
       "major_ind_code                                                            \n",
       " Agriculture                           1630      2  Less than 50K $   1039\n",
       " Armed Forces                            21      2  More than 50K $     13\n",
       " Business and repair services          2962      2  Less than 50K $   1750\n",
       " Communications                         655      2  Less than 50K $    337\n",
       " Construction                          3178      2  Less than 50K $   1932\n",
       " Education                             4307      2  Less than 50K $   2560\n",
       " Entertainment                          846      2  Less than 50K $    509\n",
       " Finance insurance and real estate     3178      2  Less than 50K $   1708\n",
       " Forestry and fisheries                  94      2  Less than 50K $     50\n",
       " Hospital services                     2086      2  Less than 50K $   1252\n",
       " Manufacturing-durable goods           4805      2  Less than 50K $   2660\n",
       " Manufacturing-nondurable goods        3705      2  Less than 50K $   2192\n",
       " Medical except hospital               2484      2  Less than 50K $   1456\n",
       " Mining                                 299      2  Less than 50K $    156\n",
       " Not in universe or children          53055      2  Less than 50K $  34844\n",
       " Other professional services           2373      2  More than 50K $   1188\n",
       " Personal services except private HH   1541      2  Less than 50K $    982\n",
       " Private household services             517      2  Less than 50K $    348\n",
       " Public administration                 2416      2  Less than 50K $   1312\n",
       " Retail trade                          8889      2  Less than 50K $   5560\n",
       " Social services                       1336      2  Less than 50K $    845\n",
       " Transportation                        2157      2  Less than 50K $   1225\n",
       " Utilities and sanitary services        608      2  Less than 50K $    305\n",
       " Wholesale trade                       1858      2  Less than 50K $   1057"
      ]
     },
     "execution_count": 35,
     "metadata": {},
     "output_type": "execute_result"
    }
   ],
   "source": [
    "train.groupby('major_ind_code')['income'].describe()"
   ]
  },
  {
   "cell_type": "code",
   "execution_count": 36,
   "id": "2ac5fe6e",
   "metadata": {},
   "outputs": [],
   "source": [
    "lst=[' Not in universe or children']\n",
    "lst2=[' Manufacturing-durable goods',' Manufacturing-nondurable goods',' Business and repair services',\n",
    "     ' Retail trade',' Finance insurance and real estate',' Education']\n",
    "\n",
    "lst3=[' Armed Forces',' Other professional services']"
   ]
  },
  {
   "cell_type": "code",
   "execution_count": 37,
   "id": "5b81298e",
   "metadata": {},
   "outputs": [],
   "source": [
    "def service(x):\n",
    "    if x in lst3:\n",
    "        return 1\n",
    "    elif x in lst2:\n",
    "        return 0\n",
    "    elif x in lst:\n",
    "        return 3\n",
    "    else:\n",
    "        return 2"
   ]
  },
  {
   "cell_type": "code",
   "execution_count": 38,
   "id": "21947857",
   "metadata": {},
   "outputs": [],
   "source": [
    "combine['major_ind_code']=combine['major_ind_code'].apply(service)"
   ]
  },
  {
   "cell_type": "markdown",
   "id": "11890291",
   "metadata": {},
   "source": [
    "## major Occ code"
   ]
  },
  {
   "cell_type": "code",
   "execution_count": 39,
   "id": "6757ca96",
   "metadata": {},
   "outputs": [
    {
     "data": {
      "text/plain": [
       "array([' Protective services', nan,\n",
       "       ' Machine operators assmblrs & inspctrs',\n",
       "       ' Handlers equip cleaners etc ', ' Executive admin and managerial',\n",
       "       ' Professional specialty', ' Adm support including clerical',\n",
       "       ' Other service', ' Sales', ' Precision production craft & repair',\n",
       "       ' Technicians and related support',\n",
       "       ' Transportation and material moving',\n",
       "       ' Farming forestry and fishing', ' Private household services',\n",
       "       ' Armed Forces'], dtype=object)"
      ]
     },
     "execution_count": 39,
     "metadata": {},
     "output_type": "execute_result"
    }
   ],
   "source": [
    "#major occ code\n",
    "combine['major_occ_code'].unique()"
   ]
  },
  {
   "cell_type": "code",
   "execution_count": 40,
   "id": "f6adc7dc",
   "metadata": {},
   "outputs": [],
   "source": [
    "lst=[' Professional specialty', ' Adm support including clerical',\n",
    "       ' Other service', ' Sales']\n",
    "lst1=[' Armed Forces',' Executive admin and managerial']\n"
   ]
  },
  {
   "cell_type": "code",
   "execution_count": 41,
   "id": "513a51cf",
   "metadata": {},
   "outputs": [],
   "source": [
    "def occup(x):\n",
    "    if x in lst:\n",
    "        return 1\n",
    "    if x in lst1:\n",
    "        return 0\n",
    "    else:\n",
    "        return 2"
   ]
  },
  {
   "cell_type": "code",
   "execution_count": 42,
   "id": "7c545f65",
   "metadata": {},
   "outputs": [],
   "source": [
    "combine['major_occ_code']=combine['major_occ_code'].apply(occup)"
   ]
  },
  {
   "cell_type": "code",
   "execution_count": 43,
   "id": "7a74bbcd",
   "metadata": {},
   "outputs": [
    {
     "data": {
      "text/plain": [
       "2    99188\n",
       "1    38530\n",
       "0     9282\n",
       "Name: major_occ_code, dtype: int64"
      ]
     },
     "execution_count": 43,
     "metadata": {},
     "output_type": "execute_result"
    }
   ],
   "source": [
    "combine['major_occ_code'].value_counts()"
   ]
  },
  {
   "cell_type": "markdown",
   "id": "1dcd78ef",
   "metadata": {},
   "source": [
    "## House Summary"
   ]
  },
  {
   "cell_type": "code",
   "execution_count": 44,
   "id": "e01745d9",
   "metadata": {},
   "outputs": [
    {
     "data": {
      "text/plain": [
       "array([' Householder', 'Child_U18_Unmarried', 'Non_Relative',\n",
       "       'Child_Above18', 'Spouse', 'Relative', 'Child_U18_Married',\n",
       "       'Sy_Individual'], dtype=object)"
      ]
     },
     "execution_count": 44,
     "metadata": {},
     "output_type": "execute_result"
    }
   ],
   "source": [
    "combine['house_summary'].unique()"
   ]
  },
  {
   "cell_type": "code",
   "execution_count": 45,
   "id": "8b6706ae",
   "metadata": {},
   "outputs": [],
   "source": [
    "# house summary\n",
    "def house(x):\n",
    "    if x==' Householder':\n",
    "        return ('Householder')\n",
    "    \n",
    "   # elif x == 'Child_U18_Unmarried':\n",
    "        \n",
    "     #   return ('ChildU18')\n",
    "    \n",
    "   ## elif x=='Child_U18_Married':\n",
    "    #    return ('ChildU18')\n",
    "        \n",
    "    else:\n",
    "        return ('others')"
   ]
  },
  {
   "cell_type": "code",
   "execution_count": 46,
   "id": "41e8403b",
   "metadata": {},
   "outputs": [],
   "source": [
    "combine['house_summary']=combine['house_summary'].apply(house)"
   ]
  },
  {
   "cell_type": "code",
   "execution_count": 47,
   "id": "1b5949a8",
   "metadata": {},
   "outputs": [
    {
     "data": {
      "text/plain": [
       "others         91329\n",
       "Householder    55671\n",
       "Name: house_summary, dtype: int64"
      ]
     },
     "execution_count": 47,
     "metadata": {},
     "output_type": "execute_result"
    }
   ],
   "source": [
    "combine['house_summary'].value_counts()"
   ]
  },
  {
   "cell_type": "markdown",
   "id": "4c2b2c37",
   "metadata": {},
   "source": [
    "## hisp origin"
   ]
  },
  {
   "cell_type": "code",
   "execution_count": 48,
   "id": "b84e8bea",
   "metadata": {},
   "outputs": [
    {
     "data": {
      "text/plain": [
       "array(['All_Other', 'Mex_Amer', ' Chicano', 'Puer_Ric', 'Other_Spanish',\n",
       "       'Central/South_American', ' Cuban', 'Mexican_Mexicano', ' NA',\n",
       "       ' Do not know'], dtype=object)"
      ]
     },
     "execution_count": 48,
     "metadata": {},
     "output_type": "execute_result"
    }
   ],
   "source": [
    "# hisp Origin\n",
    "combine['hisp_origin'].unique()"
   ]
  },
  {
   "cell_type": "code",
   "execution_count": 49,
   "id": "bd764e58",
   "metadata": {},
   "outputs": [
    {
     "data": {
      "text/html": [
       "<div>\n",
       "<style scoped>\n",
       "    .dataframe tbody tr th:only-of-type {\n",
       "        vertical-align: middle;\n",
       "    }\n",
       "\n",
       "    .dataframe tbody tr th {\n",
       "        vertical-align: top;\n",
       "    }\n",
       "\n",
       "    .dataframe thead th {\n",
       "        text-align: right;\n",
       "    }\n",
       "</style>\n",
       "<table border=\"1\" class=\"dataframe\">\n",
       "  <thead>\n",
       "    <tr style=\"text-align: right;\">\n",
       "      <th></th>\n",
       "      <th>count</th>\n",
       "      <th>unique</th>\n",
       "      <th>top</th>\n",
       "      <th>freq</th>\n",
       "    </tr>\n",
       "    <tr>\n",
       "      <th>hisp_origin</th>\n",
       "      <th></th>\n",
       "      <th></th>\n",
       "      <th></th>\n",
       "      <th></th>\n",
       "    </tr>\n",
       "  </thead>\n",
       "  <tbody>\n",
       "    <tr>\n",
       "      <th>Chicano</th>\n",
       "      <td>153</td>\n",
       "      <td>2</td>\n",
       "      <td>Less than 50K $</td>\n",
       "      <td>97</td>\n",
       "    </tr>\n",
       "    <tr>\n",
       "      <th>Cuban</th>\n",
       "      <td>601</td>\n",
       "      <td>2</td>\n",
       "      <td>Less than 50K $</td>\n",
       "      <td>364</td>\n",
       "    </tr>\n",
       "    <tr>\n",
       "      <th>Do not know</th>\n",
       "      <td>169</td>\n",
       "      <td>2</td>\n",
       "      <td>Less than 50K $</td>\n",
       "      <td>112</td>\n",
       "    </tr>\n",
       "    <tr>\n",
       "      <th>NA</th>\n",
       "      <td>469</td>\n",
       "      <td>2</td>\n",
       "      <td>Less than 50K $</td>\n",
       "      <td>283</td>\n",
       "    </tr>\n",
       "    <tr>\n",
       "      <th>All_Other</th>\n",
       "      <td>90262</td>\n",
       "      <td>2</td>\n",
       "      <td>Less than 50K $</td>\n",
       "      <td>55713</td>\n",
       "    </tr>\n",
       "    <tr>\n",
       "      <th>Central/South_American</th>\n",
       "      <td>2135</td>\n",
       "      <td>2</td>\n",
       "      <td>Less than 50K $</td>\n",
       "      <td>1389</td>\n",
       "    </tr>\n",
       "    <tr>\n",
       "      <th>Mex_Amer</th>\n",
       "      <td>4282</td>\n",
       "      <td>2</td>\n",
       "      <td>Less than 50K $</td>\n",
       "      <td>2748</td>\n",
       "    </tr>\n",
       "    <tr>\n",
       "      <th>Mexican_Mexicano</th>\n",
       "      <td>3836</td>\n",
       "      <td>2</td>\n",
       "      <td>Less than 50K $</td>\n",
       "      <td>2558</td>\n",
       "    </tr>\n",
       "    <tr>\n",
       "      <th>Other_Spanish</th>\n",
       "      <td>1316</td>\n",
       "      <td>2</td>\n",
       "      <td>Less than 50K $</td>\n",
       "      <td>854</td>\n",
       "    </tr>\n",
       "    <tr>\n",
       "      <th>Puer_Ric</th>\n",
       "      <td>1777</td>\n",
       "      <td>2</td>\n",
       "      <td>Less than 50K $</td>\n",
       "      <td>1154</td>\n",
       "    </tr>\n",
       "  </tbody>\n",
       "</table>\n",
       "</div>"
      ],
      "text/plain": [
       "                        count unique              top   freq\n",
       "hisp_origin                                                 \n",
       " Chicano                  153      2  Less than 50K $     97\n",
       " Cuban                    601      2  Less than 50K $    364\n",
       " Do not know              169      2  Less than 50K $    112\n",
       " NA                       469      2  Less than 50K $    283\n",
       "All_Other               90262      2  Less than 50K $  55713\n",
       "Central/South_American   2135      2  Less than 50K $   1389\n",
       "Mex_Amer                 4282      2  Less than 50K $   2748\n",
       "Mexican_Mexicano         3836      2  Less than 50K $   2558\n",
       "Other_Spanish            1316      2  Less than 50K $    854\n",
       "Puer_Ric                 1777      2  Less than 50K $   1154"
      ]
     },
     "execution_count": 49,
     "metadata": {},
     "output_type": "execute_result"
    }
   ],
   "source": [
    "train.groupby('hisp_origin')['income'].describe()"
   ]
  },
  {
   "cell_type": "code",
   "execution_count": 50,
   "id": "6efa95f4",
   "metadata": {},
   "outputs": [],
   "source": [
    "def origin(x):\n",
    "    if x=='All_Other':\n",
    "        return 1\n",
    "    \n",
    "    else:\n",
    "        return 0"
   ]
  },
  {
   "cell_type": "code",
   "execution_count": 51,
   "id": "a9aea394",
   "metadata": {},
   "outputs": [],
   "source": [
    "combine['hisp_origin']=combine['hisp_origin'].apply(origin)"
   ]
  },
  {
   "cell_type": "markdown",
   "id": "d3d1de23",
   "metadata": {},
   "source": [
    "## Marriage Status"
   ]
  },
  {
   "cell_type": "code",
   "execution_count": 52,
   "id": "e4224924",
   "metadata": {},
   "outputs": [
    {
     "data": {
      "text/plain": [
       "array(['Married_civilian_Sp_Pr', 'Unmarried', ' Divorced', ' Widowed',\n",
       "       'Married_AF_Sp_Pr', 'Married_Sp_Ab', ' Separated'], dtype=object)"
      ]
     },
     "execution_count": 52,
     "metadata": {},
     "output_type": "execute_result"
    }
   ],
   "source": [
    "# marriage status\n",
    "combine['marriage_status'].unique()"
   ]
  },
  {
   "cell_type": "code",
   "execution_count": 53,
   "id": "99d66071",
   "metadata": {},
   "outputs": [
    {
     "data": {
      "text/plain": [
       "Unmarried                 63715\n",
       "Married_civilian_Sp_Pr    61995\n",
       " Divorced                  9398\n",
       " Widowed                   7731\n",
       " Separated                 2586\n",
       "Married_Sp_Ab              1075\n",
       "Married_AF_Sp_Pr            500\n",
       "Name: marriage_status, dtype: int64"
      ]
     },
     "execution_count": 53,
     "metadata": {},
     "output_type": "execute_result"
    }
   ],
   "source": [
    "combine['marriage_status'].value_counts()"
   ]
  },
  {
   "cell_type": "code",
   "execution_count": 54,
   "id": "d862067e",
   "metadata": {},
   "outputs": [],
   "source": [
    "lst=[' Separated', ' Divorced', ' Widowed']\n",
    "\n",
    "def marriage(x):\n",
    "    if x in lst:\n",
    "        return ('Single')\n",
    "    \n",
    "    elif x=='Unmarried':\n",
    "        return (x)\n",
    "    \n",
    "    else:\n",
    "        return ('Married')"
   ]
  },
  {
   "cell_type": "code",
   "execution_count": 55,
   "id": "e1aed9fa",
   "metadata": {},
   "outputs": [],
   "source": [
    "combine['marriage_status']=combine['marriage_status'].apply(marriage)"
   ]
  },
  {
   "cell_type": "code",
   "execution_count": 56,
   "id": "eac8444d",
   "metadata": {},
   "outputs": [
    {
     "data": {
      "text/plain": [
       "Unmarried    63715\n",
       "Married      63570\n",
       "Single       19715\n",
       "Name: marriage_status, dtype: int64"
      ]
     },
     "execution_count": 56,
     "metadata": {},
     "output_type": "execute_result"
    }
   ],
   "source": [
    "combine['marriage_status'].value_counts()"
   ]
  },
  {
   "cell_type": "markdown",
   "id": "b9818de9",
   "metadata": {},
   "source": [
    "## Under 18"
   ]
  },
  {
   "cell_type": "code",
   "execution_count": 57,
   "id": "5a5533d4",
   "metadata": {},
   "outputs": [],
   "source": [
    "combine['under18']=combine['under18'].fillna('Both_Ab')"
   ]
  },
  {
   "cell_type": "code",
   "execution_count": 58,
   "id": "ce86e053",
   "metadata": {},
   "outputs": [],
   "source": [
    "combine['under18'].replace({'Only_Mom':'onep','Only_Dad':'onep'},inplace=True)"
   ]
  },
  {
   "cell_type": "markdown",
   "id": "84a64cd2",
   "metadata": {},
   "source": [
    "## unemp reason (drop)"
   ]
  },
  {
   "cell_type": "code",
   "execution_count": 59,
   "id": "e550a070",
   "metadata": {},
   "outputs": [
    {
     "data": {
      "text/plain": [
       "array([nan, 'Job loser_Other', ' Job leaver', ' Re-entrant',\n",
       "       ' New entrant', 'Job loser_layoff'], dtype=object)"
      ]
     },
     "execution_count": 59,
     "metadata": {},
     "output_type": "execute_result"
    }
   ],
   "source": [
    "\n",
    "# ma data missing we will drop it also\n",
    "combine['unemp_reason'].unique()"
   ]
  },
  {
   "cell_type": "markdown",
   "id": "542fc5f4",
   "metadata": {},
   "source": [
    "## Citizenship"
   ]
  },
  {
   "cell_type": "code",
   "execution_count": 60,
   "id": "31c16903",
   "metadata": {},
   "outputs": [
    {
     "data": {
      "text/plain": [
       "array(['NB_US', 'NB_US_Parents', 'NB_PR', 'FB', 'FB_US'], dtype=object)"
      ]
     },
     "execution_count": 60,
     "metadata": {},
     "output_type": "execute_result"
    }
   ],
   "source": [
    "# citizenship\n",
    "combine['citizenship'].unique()"
   ]
  },
  {
   "cell_type": "code",
   "execution_count": 61,
   "id": "0f3604eb",
   "metadata": {},
   "outputs": [],
   "source": [
    "lst=['FB', 'FB_US']\n",
    "\n",
    "def citi(x):\n",
    "    if x in lst:\n",
    "        return 'FB'\n",
    "    \n",
    "    else:\n",
    "        return 'NB'"
   ]
  },
  {
   "cell_type": "code",
   "execution_count": 62,
   "id": "d159bee5",
   "metadata": {},
   "outputs": [],
   "source": [
    "combine['citizenship']=combine['citizenship'].apply(citi)"
   ]
  },
  {
   "cell_type": "code",
   "execution_count": 63,
   "id": "c72d3480",
   "metadata": {},
   "outputs": [
    {
     "data": {
      "text/plain": [
       "NB    132756\n",
       "FB     14244\n",
       "Name: citizenship, dtype: int64"
      ]
     },
     "execution_count": 63,
     "metadata": {},
     "output_type": "execute_result"
    }
   ],
   "source": [
    "combine['citizenship'].value_counts()"
   ]
  },
  {
   "cell_type": "markdown",
   "id": "b8bf3e6d",
   "metadata": {},
   "source": [
    "## Woker Type"
   ]
  },
  {
   "cell_type": "code",
   "execution_count": 64,
   "id": "d14ad26e",
   "metadata": {},
   "outputs": [
    {
     "data": {
      "text/plain": [
       "array(['Pvt', nan, 'St_Govt', 'Loc_Govt', 'Fed_Govt', 'Self_emp_not_inc',\n",
       "       'Self_emp_inc', ' Never worked', ' Without pay'], dtype=object)"
      ]
     },
     "execution_count": 64,
     "metadata": {},
     "output_type": "execute_result"
    }
   ],
   "source": [
    "\n",
    "combine['woker_type'].unique()"
   ]
  },
  {
   "cell_type": "code",
   "execution_count": 65,
   "id": "90e08457",
   "metadata": {},
   "outputs": [],
   "source": [
    "lst1=['Pvt']\n",
    "lst3=['Self_emp_not_inc','Self_emp_inc']\n",
    "lst2=['St_Govt', 'Loc_Govt', 'Fed_Govt']\n",
    "\n",
    "def work(x):\n",
    "    if x in lst1:\n",
    "        return 'Pvt'\n",
    "    elif x in lst2:\n",
    "        return 'Govt'\n",
    "    elif x in lst3:\n",
    "        return 'self'\n",
    "    \n",
    "    else:\n",
    "        return 'Unknown'"
   ]
  },
  {
   "cell_type": "code",
   "execution_count": 66,
   "id": "701c8e3f",
   "metadata": {},
   "outputs": [],
   "source": [
    "combine['woker_type']=combine['woker_type'].apply(work)"
   ]
  },
  {
   "cell_type": "code",
   "execution_count": 67,
   "id": "09daec2e",
   "metadata": {},
   "outputs": [
    {
     "data": {
      "text/plain": [
       "Unknown    74244\n",
       "Pvt        53236\n",
       "Govt       10913\n",
       "self        8607\n",
       "Name: woker_type, dtype: int64"
      ]
     },
     "execution_count": 67,
     "metadata": {},
     "output_type": "execute_result"
    }
   ],
   "source": [
    "combine['woker_type'].value_counts()"
   ]
  },
  {
   "cell_type": "code",
   "execution_count": 68,
   "id": "c4396f76",
   "metadata": {},
   "outputs": [
    {
     "data": {
      "text/html": [
       "<div>\n",
       "<style scoped>\n",
       "    .dataframe tbody tr th:only-of-type {\n",
       "        vertical-align: middle;\n",
       "    }\n",
       "\n",
       "    .dataframe tbody tr th {\n",
       "        vertical-align: top;\n",
       "    }\n",
       "\n",
       "    .dataframe thead th {\n",
       "        text-align: right;\n",
       "    }\n",
       "</style>\n",
       "<table border=\"1\" class=\"dataframe\">\n",
       "  <thead>\n",
       "    <tr style=\"text-align: right;\">\n",
       "      <th></th>\n",
       "      <th>count</th>\n",
       "      <th>unique</th>\n",
       "      <th>top</th>\n",
       "      <th>freq</th>\n",
       "    </tr>\n",
       "    <tr>\n",
       "      <th>woker_type</th>\n",
       "      <th></th>\n",
       "      <th></th>\n",
       "      <th></th>\n",
       "      <th></th>\n",
       "    </tr>\n",
       "  </thead>\n",
       "  <tbody>\n",
       "    <tr>\n",
       "      <th>Govt</th>\n",
       "      <td>7772</td>\n",
       "      <td>2</td>\n",
       "      <td>Less than 50K $</td>\n",
       "      <td>4473</td>\n",
       "    </tr>\n",
       "    <tr>\n",
       "      <th>Pvt</th>\n",
       "      <td>37967</td>\n",
       "      <td>2</td>\n",
       "      <td>Less than 50K $</td>\n",
       "      <td>22604</td>\n",
       "    </tr>\n",
       "    <tr>\n",
       "      <th>Unknown</th>\n",
       "      <td>53138</td>\n",
       "      <td>2</td>\n",
       "      <td>Less than 50K $</td>\n",
       "      <td>34898</td>\n",
       "    </tr>\n",
       "    <tr>\n",
       "      <th>self</th>\n",
       "      <td>6123</td>\n",
       "      <td>2</td>\n",
       "      <td>Less than 50K $</td>\n",
       "      <td>3297</td>\n",
       "    </tr>\n",
       "  </tbody>\n",
       "</table>\n",
       "</div>"
      ],
      "text/plain": [
       "            count unique              top   freq\n",
       "woker_type                                      \n",
       "Govt         7772      2  Less than 50K $   4473\n",
       "Pvt         37967      2  Less than 50K $  22604\n",
       "Unknown     53138      2  Less than 50K $  34898\n",
       "self         6123      2  Less than 50K $   3297"
      ]
     },
     "execution_count": 68,
     "metadata": {},
     "output_type": "execute_result"
    }
   ],
   "source": [
    "combine.groupby('woker_type')['income'].describe()"
   ]
  },
  {
   "cell_type": "markdown",
   "id": "482f6c06",
   "metadata": {},
   "source": [
    "## fed liability"
   ]
  },
  {
   "cell_type": "code",
   "execution_count": 69,
   "id": "d92bd918",
   "metadata": {},
   "outputs": [
    {
     "data": {
      "text/plain": [
       "array(['Joint_both_under65', ' Nonfiler', ' Single', 'Joint_both_Above65',\n",
       "       ' Head of household', 'Joint_one_Under65_one_Above65'],\n",
       "      dtype=object)"
      ]
     },
     "execution_count": 69,
     "metadata": {},
     "output_type": "execute_result"
    }
   ],
   "source": [
    "# fed liability\n",
    "combine['fed_liability'].unique()"
   ]
  },
  {
   "cell_type": "code",
   "execution_count": 70,
   "id": "67e17e87",
   "metadata": {},
   "outputs": [],
   "source": [
    "lst=['Joint_both_Above65','Joint_one_Under65_one_Above65',' Head of household']\n",
    "def fed(x):\n",
    "    if x in lst:\n",
    "        return 0\n",
    "    \n",
    "    else:\n",
    "        return 1"
   ]
  },
  {
   "cell_type": "code",
   "execution_count": 71,
   "id": "728eaa4b",
   "metadata": {},
   "outputs": [],
   "source": [
    "combine['fed_liability']=combine['fed_liability'].apply(fed)"
   ]
  },
  {
   "cell_type": "code",
   "execution_count": 72,
   "id": "c5eaecbb",
   "metadata": {},
   "outputs": [
    {
     "data": {
      "text/plain": [
       "1    132552\n",
       "0     14448\n",
       "Name: fed_liability, dtype: int64"
      ]
     },
     "execution_count": 72,
     "metadata": {},
     "output_type": "execute_result"
    }
   ],
   "source": [
    "combine['fed_liability'].value_counts()"
   ]
  },
  {
   "cell_type": "markdown",
   "id": "14797dd1",
   "metadata": {},
   "source": [
    "## full part time job"
   ]
  },
  {
   "cell_type": "code",
   "execution_count": 73,
   "id": "f0eabf9b",
   "metadata": {},
   "outputs": [
    {
     "data": {
      "text/plain": [
       "array(['Children/Armed_Forces', ' Full-time schedules',\n",
       "       ' Not in labor force', nan, ' PT for econ reasons usually PT',\n",
       "       ' PT for non-econ reasons usually FT', ' Unemployed full-time',\n",
       "       ' Unemployed part- time', ' PT for econ reasons usually FT'],\n",
       "      dtype=object)"
      ]
     },
     "execution_count": 73,
     "metadata": {},
     "output_type": "execute_result"
    }
   ],
   "source": [
    "\n",
    "combine['full_partime_job'].unique()"
   ]
  },
  {
   "cell_type": "code",
   "execution_count": 74,
   "id": "abd6c225",
   "metadata": {},
   "outputs": [],
   "source": [
    "lst=['Children/Armed_Forces',' Unemployed full-time',' Unemployed part- time',\n",
    "     ' PT for econ reasons usually PT']\n",
    "\n",
    "def job(x):\n",
    "    if x in lst:\n",
    "        return 'Part time'\n",
    "    \n",
    "    else:\n",
    "        return 'Full time'"
   ]
  },
  {
   "cell_type": "code",
   "execution_count": 75,
   "id": "5757eaad",
   "metadata": {},
   "outputs": [],
   "source": [
    "combine['full_partime_job']=combine['full_partime_job'].apply(job)"
   ]
  },
  {
   "cell_type": "code",
   "execution_count": 76,
   "id": "7a202a45",
   "metadata": {},
   "outputs": [
    {
     "data": {
      "text/plain": [
       "Part time    93016\n",
       "Full time    53984\n",
       "Name: full_partime_job, dtype: int64"
      ]
     },
     "execution_count": 76,
     "metadata": {},
     "output_type": "execute_result"
    }
   ],
   "source": [
    "combine['full_partime_job'].value_counts()"
   ]
  },
  {
   "cell_type": "markdown",
   "id": "4b276cd9",
   "metadata": {},
   "source": [
    "## Target Variable"
   ]
  },
  {
   "cell_type": "code",
   "execution_count": 77,
   "id": "1c1943ff",
   "metadata": {},
   "outputs": [
    {
     "data": {
      "text/plain": [
       "array(['More than 50K $', 'Less than 50K $', nan], dtype=object)"
      ]
     },
     "execution_count": 77,
     "metadata": {},
     "output_type": "execute_result"
    }
   ],
   "source": [
    "\n",
    "combine['income'].unique()"
   ]
  },
  {
   "cell_type": "code",
   "execution_count": 78,
   "id": "a42f3ef0",
   "metadata": {},
   "outputs": [],
   "source": [
    "combine['income'].replace({'More than 50K $':0,'Less than 50K $':1},inplace=True)"
   ]
  },
  {
   "cell_type": "code",
   "execution_count": 79,
   "id": "d956522b",
   "metadata": {},
   "outputs": [
    {
     "data": {
      "text/plain": [
       "array([ 0.,  1., nan])"
      ]
     },
     "execution_count": 79,
     "metadata": {},
     "output_type": "execute_result"
    }
   ],
   "source": [
    "combine['income'].unique()"
   ]
  },
  {
   "cell_type": "code",
   "execution_count": 80,
   "id": "a427c000",
   "metadata": {},
   "outputs": [
    {
     "data": {
      "text/plain": [
       "Index(['ID', 'year_of_poll', 'own_self_emp', 'veteran benefits',\n",
       "       'currently_enrolled', 'race', 'father_country', 'educ', 'house_stat',\n",
       "       'major_ind_code', 'labour_union', 'self_country', 'major_occ_code',\n",
       "       'age', 'mother_country', 'house_summary', 'gender', 'hisp_origin',\n",
       "       'gains', 'dividends', 'marriage_status', 'losses', 'employer_of',\n",
       "       'house_1yr_ago', 'income_filled', 'weeks_worked', 'under18',\n",
       "       'hourly_wage', 'unemp_reason', 'citizenship', 'woker_type',\n",
       "       'fed_liability', 'full_partime_job', 'income'],\n",
       "      dtype='object')"
      ]
     },
     "execution_count": 80,
     "metadata": {},
     "output_type": "execute_result"
    }
   ],
   "source": [
    "combine.columns"
   ]
  },
  {
   "cell_type": "code",
   "execution_count": 81,
   "id": "16335a40",
   "metadata": {},
   "outputs": [],
   "source": [
    "## Inferences of data Visualization"
   ]
  },
  {
   "cell_type": "code",
   "execution_count": 82,
   "id": "a22727ad",
   "metadata": {},
   "outputs": [
    {
     "data": {
      "image/png": "[encoded data removed]",
      "text/plain": [
       "<Figure size 1440x1440 with 17 Axes>"
      ]
     },
     "metadata": {
      "needs_background": "light"
     },
     "output_type": "display_data"
    }
   ],
   "source": [
    "num=combine.select_dtypes(include=np.number)\n",
    "plt.rcParams['figure.figsize']=[20,20]\n",
    "a=10\n",
    "b=2\n",
    "c=1\n",
    "for i in num:\n",
    "    plt.subplot(a,b,c)\n",
    "    sns.distplot(combine[i])\n",
    "    c+=1\n",
    "    \n",
    "plt.tight_layout()\n",
    "plt.show()"
   ]
  },
  {
   "cell_type": "code",
   "execution_count": 160,
   "id": "c2868446",
   "metadata": {},
   "outputs": [
    {
     "data": {
      "image/png": "[encoded data removed]",
      "text/plain": [
       "<Figure size 1440x2880 with 16 Axes>"
      ]
     },
     "metadata": {
      "needs_background": "light"
     },
     "output_type": "display_data"
    }
   ],
   "source": [
    "cat=combine.select_dtypes(exclude=np.number)\n",
    "plt.rcParams['figure.figsize']=[20,40]\n",
    "a=20\n",
    "b=1\n",
    "c=1\n",
    "for i in cat:\n",
    "    plt.subplot(a,b,c)\n",
    "    sns.countplot(combine[i])\n",
    "    #plt.xticks(rotation=90)\n",
    "    c+=1\n",
    "    \n",
    "plt.tight_layout()\n",
    "plt.show()"
   ]
  },
  {
   "cell_type": "markdown",
   "id": "46070074",
   "metadata": {},
   "source": [
    "## Inference\n",
    "* Part Time Jobs are higher.\n",
    "* Native Born are higher.\n",
    "* Females are higher\n",
    "* Single are less in number.\n",
    "* In all three Countries(Father,Mother and Self) United States is Dominating\n",
    "* Race White is more"
   ]
  },
  {
   "cell_type": "markdown",
   "id": "4dacd0e8",
   "metadata": {},
   "source": [
    "# Dropping Columns"
   ]
  },
  {
   "cell_type": "code",
   "execution_count": 84,
   "id": "7b3be65f",
   "metadata": {},
   "outputs": [],
   "source": [
    "combine=combine.drop(['ID','unemp_reason'],axis=1)"
   ]
  },
  {
   "cell_type": "markdown",
   "id": "993c96f4",
   "metadata": {},
   "source": [
    "## Null values"
   ]
  },
  {
   "cell_type": "code",
   "execution_count": 85,
   "id": "a903126a",
   "metadata": {},
   "outputs": [
    {
     "data": {
      "text/plain": [
       "year_of_poll              0\n",
       "own_self_emp              0\n",
       "veteran benefits          0\n",
       "currently_enrolled        0\n",
       "race                      0\n",
       "father_country            0\n",
       "educ                      0\n",
       "house_stat                0\n",
       "major_ind_code            0\n",
       "labour_union          49668\n",
       "self_country              0\n",
       "major_occ_code            0\n",
       "age                     596\n",
       "mother_country            0\n",
       "house_summary             0\n",
       "gender                    0\n",
       "hisp_origin               0\n",
       "gains                     0\n",
       "dividends                 0\n",
       "marriage_status           0\n",
       "losses                    0\n",
       "employer_of               0\n",
       "house_1yr_ago         74720\n",
       "income_filled         45411\n",
       "weeks_worked              0\n",
       "under18                   0\n",
       "hourly_wage               0\n",
       "citizenship               0\n",
       "woker_type                0\n",
       "fed_liability             0\n",
       "full_partime_job          0\n",
       "income                42000\n",
       "dtype: int64"
      ]
     },
     "execution_count": 85,
     "metadata": {},
     "output_type": "execute_result"
    }
   ],
   "source": [
    "\n",
    "combine.isnull().sum()"
   ]
  },
  {
   "cell_type": "markdown",
   "id": "d7179b1b",
   "metadata": {},
   "source": [
    "## Filling Missing  values"
   ]
  },
  {
   "cell_type": "code",
   "execution_count": 86,
   "id": "db4b1c2f",
   "metadata": {},
   "outputs": [],
   "source": [
    "combine['age']=combine['age'].fillna(combine['age'].mean())\n",
    "\n",
    "combine['labour_union']=combine['labour_union'].fillna('unknown')\n",
    "\n",
    "combine['house_1yr_ago']=combine['house_1yr_ago'].fillna('unknown')\n",
    "\n",
    "combine['income_filled']=combine['income_filled'].fillna(' unknown')"
   ]
  },
  {
   "cell_type": "code",
   "execution_count": 87,
   "id": "8235accd",
   "metadata": {},
   "outputs": [
    {
     "data": {
      "text/plain": [
       "year_of_poll              0\n",
       "own_self_emp              0\n",
       "veteran benefits          0\n",
       "currently_enrolled        0\n",
       "race                      0\n",
       "father_country            0\n",
       "educ                      0\n",
       "house_stat                0\n",
       "major_ind_code            0\n",
       "labour_union              0\n",
       "self_country              0\n",
       "major_occ_code            0\n",
       "age                       0\n",
       "mother_country            0\n",
       "house_summary             0\n",
       "gender                    0\n",
       "hisp_origin               0\n",
       "gains                     0\n",
       "dividends                 0\n",
       "marriage_status           0\n",
       "losses                    0\n",
       "employer_of               0\n",
       "house_1yr_ago             0\n",
       "income_filled             0\n",
       "weeks_worked              0\n",
       "under18                   0\n",
       "hourly_wage               0\n",
       "citizenship               0\n",
       "woker_type                0\n",
       "fed_liability             0\n",
       "full_partime_job          0\n",
       "income                42000\n",
       "dtype: int64"
      ]
     },
     "execution_count": 87,
     "metadata": {},
     "output_type": "execute_result"
    }
   ],
   "source": [
    "combine.isnull().sum()"
   ]
  },
  {
   "cell_type": "markdown",
   "id": "09e43608",
   "metadata": {},
   "source": [
    "## Dummy n-1 encoding"
   ]
  },
  {
   "cell_type": "code",
   "execution_count": 88,
   "id": "2bf5dde7",
   "metadata": {},
   "outputs": [],
   "source": [
    "dummy=pd.get_dummies(combine,drop_first=True)"
   ]
  },
  {
   "cell_type": "markdown",
   "id": "3d252d0e",
   "metadata": {},
   "source": [
    "## Splitting Train and Test"
   ]
  },
  {
   "cell_type": "code",
   "execution_count": 89,
   "id": "f91a9c0c",
   "metadata": {},
   "outputs": [],
   "source": [
    "newtrain=dummy.iloc[0:train.shape[0],:]\n",
    "newtest=dummy.iloc[train.shape[0]:,:]"
   ]
  },
  {
   "cell_type": "code",
   "execution_count": 90,
   "id": "5af6937b",
   "metadata": {},
   "outputs": [
    {
     "data": {
      "text/html": [
       "<div>\n",
       "<style scoped>\n",
       "    .dataframe tbody tr th:only-of-type {\n",
       "        vertical-align: middle;\n",
       "    }\n",
       "\n",
       "    .dataframe tbody tr th {\n",
       "        vertical-align: top;\n",
       "    }\n",
       "\n",
       "    .dataframe thead th {\n",
       "        text-align: right;\n",
       "    }\n",
       "</style>\n",
       "<table border=\"1\" class=\"dataframe\">\n",
       "  <thead>\n",
       "    <tr style=\"text-align: right;\">\n",
       "      <th></th>\n",
       "      <th>own_self_emp</th>\n",
       "      <th>veteran benefits</th>\n",
       "      <th>currently_enrolled</th>\n",
       "      <th>educ</th>\n",
       "      <th>major_ind_code</th>\n",
       "      <th>major_occ_code</th>\n",
       "      <th>age</th>\n",
       "      <th>hisp_origin</th>\n",
       "      <th>gains</th>\n",
       "      <th>dividends</th>\n",
       "      <th>...</th>\n",
       "      <th>house_1yr_ago_unknown</th>\n",
       "      <th>income_filled_ Yes</th>\n",
       "      <th>income_filled_ unknown</th>\n",
       "      <th>under18_Both_Pr</th>\n",
       "      <th>under18_onep</th>\n",
       "      <th>citizenship_NB</th>\n",
       "      <th>woker_type_Pvt</th>\n",
       "      <th>woker_type_Unknown</th>\n",
       "      <th>woker_type_self</th>\n",
       "      <th>full_partime_job_Part time</th>\n",
       "    </tr>\n",
       "  </thead>\n",
       "  <tbody>\n",
       "    <tr>\n",
       "      <th>0</th>\n",
       "      <td>0</td>\n",
       "      <td>2</td>\n",
       "      <td>2</td>\n",
       "      <td>0</td>\n",
       "      <td>0</td>\n",
       "      <td>2</td>\n",
       "      <td>42.0</td>\n",
       "      <td>1</td>\n",
       "      <td>0</td>\n",
       "      <td>0</td>\n",
       "      <td>...</td>\n",
       "      <td>0</td>\n",
       "      <td>0</td>\n",
       "      <td>0</td>\n",
       "      <td>0</td>\n",
       "      <td>0</td>\n",
       "      <td>1</td>\n",
       "      <td>1</td>\n",
       "      <td>0</td>\n",
       "      <td>0</td>\n",
       "      <td>1</td>\n",
       "    </tr>\n",
       "    <tr>\n",
       "      <th>1</th>\n",
       "      <td>0</td>\n",
       "      <td>0</td>\n",
       "      <td>1</td>\n",
       "      <td>3</td>\n",
       "      <td>3</td>\n",
       "      <td>2</td>\n",
       "      <td>10.0</td>\n",
       "      <td>0</td>\n",
       "      <td>0</td>\n",
       "      <td>0</td>\n",
       "      <td>...</td>\n",
       "      <td>1</td>\n",
       "      <td>0</td>\n",
       "      <td>0</td>\n",
       "      <td>1</td>\n",
       "      <td>0</td>\n",
       "      <td>1</td>\n",
       "      <td>0</td>\n",
       "      <td>1</td>\n",
       "      <td>0</td>\n",
       "      <td>1</td>\n",
       "    </tr>\n",
       "    <tr>\n",
       "      <th>2</th>\n",
       "      <td>0</td>\n",
       "      <td>2</td>\n",
       "      <td>0</td>\n",
       "      <td>1</td>\n",
       "      <td>0</td>\n",
       "      <td>2</td>\n",
       "      <td>46.0</td>\n",
       "      <td>1</td>\n",
       "      <td>0</td>\n",
       "      <td>0</td>\n",
       "      <td>...</td>\n",
       "      <td>0</td>\n",
       "      <td>1</td>\n",
       "      <td>0</td>\n",
       "      <td>0</td>\n",
       "      <td>0</td>\n",
       "      <td>1</td>\n",
       "      <td>1</td>\n",
       "      <td>0</td>\n",
       "      <td>0</td>\n",
       "      <td>1</td>\n",
       "    </tr>\n",
       "    <tr>\n",
       "      <th>3</th>\n",
       "      <td>0</td>\n",
       "      <td>2</td>\n",
       "      <td>1</td>\n",
       "      <td>2</td>\n",
       "      <td>2</td>\n",
       "      <td>2</td>\n",
       "      <td>35.0</td>\n",
       "      <td>1</td>\n",
       "      <td>0</td>\n",
       "      <td>0</td>\n",
       "      <td>...</td>\n",
       "      <td>0</td>\n",
       "      <td>0</td>\n",
       "      <td>1</td>\n",
       "      <td>0</td>\n",
       "      <td>0</td>\n",
       "      <td>1</td>\n",
       "      <td>1</td>\n",
       "      <td>0</td>\n",
       "      <td>0</td>\n",
       "      <td>1</td>\n",
       "    </tr>\n",
       "    <tr>\n",
       "      <th>4</th>\n",
       "      <td>0</td>\n",
       "      <td>2</td>\n",
       "      <td>0</td>\n",
       "      <td>2</td>\n",
       "      <td>2</td>\n",
       "      <td>0</td>\n",
       "      <td>61.0</td>\n",
       "      <td>1</td>\n",
       "      <td>0</td>\n",
       "      <td>0</td>\n",
       "      <td>...</td>\n",
       "      <td>0</td>\n",
       "      <td>0</td>\n",
       "      <td>1</td>\n",
       "      <td>0</td>\n",
       "      <td>0</td>\n",
       "      <td>1</td>\n",
       "      <td>1</td>\n",
       "      <td>0</td>\n",
       "      <td>0</td>\n",
       "      <td>1</td>\n",
       "    </tr>\n",
       "  </tbody>\n",
       "</table>\n",
       "<p>5 rows × 42 columns</p>\n",
       "</div>"
      ],
      "text/plain": [
       "   own_self_emp  veteran benefits  currently_enrolled  educ  major_ind_code  \\\n",
       "0             0                 2                   2     0               0   \n",
       "1             0                 0                   1     3               3   \n",
       "2             0                 2                   0     1               0   \n",
       "3             0                 2                   1     2               2   \n",
       "4             0                 2                   0     2               2   \n",
       "\n",
       "   major_occ_code   age  hisp_origin  gains  dividends  ...  \\\n",
       "0               2  42.0            1      0          0  ...   \n",
       "1               2  10.0            0      0          0  ...   \n",
       "2               2  46.0            1      0          0  ...   \n",
       "3               2  35.0            1      0          0  ...   \n",
       "4               0  61.0            1      0          0  ...   \n",
       "\n",
       "   house_1yr_ago_unknown  income_filled_ Yes  income_filled_ unknown  \\\n",
       "0                      0                   0                       0   \n",
       "1                      1                   0                       0   \n",
       "2                      0                   1                       0   \n",
       "3                      0                   0                       1   \n",
       "4                      0                   0                       1   \n",
       "\n",
       "   under18_Both_Pr  under18_onep  citizenship_NB  woker_type_Pvt  \\\n",
       "0                0             0               1               1   \n",
       "1                1             0               1               0   \n",
       "2                0             0               1               1   \n",
       "3                0             0               1               1   \n",
       "4                0             0               1               1   \n",
       "\n",
       "   woker_type_Unknown  woker_type_self  full_partime_job_Part time  \n",
       "0                   0                0                           1  \n",
       "1                   1                0                           1  \n",
       "2                   0                0                           1  \n",
       "3                   0                0                           1  \n",
       "4                   0                0                           1  \n",
       "\n",
       "[5 rows x 42 columns]"
      ]
     },
     "execution_count": 90,
     "metadata": {},
     "output_type": "execute_result"
    }
   ],
   "source": [
    "newtrain.head()"
   ]
  },
  {
   "cell_type": "markdown",
   "id": "be2174cb",
   "metadata": {},
   "source": [
    "## Lets split our Train data into test and train data for Validation\n"
   ]
  },
  {
   "cell_type": "code",
   "execution_count": 91,
   "id": "9d1adaf7",
   "metadata": {},
   "outputs": [],
   "source": [
    "X=newtrain.drop('income',axis=1)\n",
    "y=newtrain['income']"
   ]
  },
  {
   "cell_type": "code",
   "execution_count": 92,
   "id": "fecc4bd5",
   "metadata": {},
   "outputs": [],
   "source": [
    "from sklearn.preprocessing import StandardScaler"
   ]
  },
  {
   "cell_type": "code",
   "execution_count": 93,
   "id": "57cf0c68",
   "metadata": {},
   "outputs": [],
   "source": [
    "Sc=StandardScaler()"
   ]
  },
  {
   "cell_type": "code",
   "execution_count": 94,
   "id": "619a8c2d",
   "metadata": {},
   "outputs": [],
   "source": [
    "X=pd.DataFrame(Sc.fit_transform(X),columns=X.columns)\n",
    "\n",
    "newtest=pd.DataFrame(Sc.transform(newtest.drop('income',axis=1)),columns=X.columns)"
   ]
  },
  {
   "cell_type": "code",
   "execution_count": 96,
   "id": "5dc5c1da",
   "metadata": {},
   "outputs": [],
   "source": [
    "from sklearn.model_selection import train_test_split"
   ]
  },
  {
   "cell_type": "code",
   "execution_count": 97,
   "id": "14025f05",
   "metadata": {},
   "outputs": [],
   "source": [
    "X_train,X_test,y_train,y_test=train_test_split(X,y,test_size=0.2,random_state=2,stratify=y)"
   ]
  },
  {
   "cell_type": "markdown",
   "id": "fbd29af8",
   "metadata": {},
   "source": [
    "## Modelling"
   ]
  },
  {
   "cell_type": "code",
   "execution_count": 98,
   "id": "c20c3216",
   "metadata": {},
   "outputs": [],
   "source": [
    "from sklearn.linear_model import LogisticRegression\n",
    "from sklearn.ensemble import RandomForestClassifier,GradientBoostingClassifier\n",
    "from xgboost import XGBClassifier\n",
    "from catboost import CatBoostClassifier"
   ]
  },
  {
   "cell_type": "code",
   "execution_count": 99,
   "id": "88938ec8",
   "metadata": {},
   "outputs": [],
   "source": [
    "from sklearn.metrics import accuracy_score"
   ]
  },
  {
   "cell_type": "markdown",
   "id": "a80f3598",
   "metadata": {},
   "source": [
    "## logistic Regression"
   ]
  },
  {
   "cell_type": "code",
   "execution_count": 100,
   "id": "d3e08892",
   "metadata": {},
   "outputs": [],
   "source": [
    "import statsmodels.api as sm"
   ]
  },
  {
   "cell_type": "code",
   "execution_count": 101,
   "id": "2c0a58a1",
   "metadata": {},
   "outputs": [],
   "source": [
    "X_train['const']=1\n",
    "X_test['const']=1"
   ]
  },
  {
   "cell_type": "code",
   "execution_count": 102,
   "id": "08e0d9b4",
   "metadata": {},
   "outputs": [
    {
     "name": "stdout",
     "output_type": "stream",
     "text": [
      "Optimization terminated successfully.\n",
      "         Current function value: 0.650877\n",
      "         Iterations 4\n"
     ]
    }
   ],
   "source": [
    "model=sm.Logit(y_train,X_train).fit()"
   ]
  },
  {
   "cell_type": "code",
   "execution_count": 103,
   "id": "a8feffa4",
   "metadata": {},
   "outputs": [
    {
     "data": {
      "text/html": [
       "<table class=\"simpletable\">\n",
       "<caption>Logit Regression Results</caption>\n",
       "<tr>\n",
       "  <th>Dep. Variable:</th>        <td>income</td>      <th>  No. Observations:  </th>  <td> 84000</td> \n",
       "</tr>\n",
       "<tr>\n",
       "  <th>Model:</th>                 <td>Logit</td>      <th>  Df Residuals:      </th>  <td> 83958</td> \n",
       "</tr>\n",
       "<tr>\n",
       "  <th>Method:</th>                 <td>MLE</td>       <th>  Df Model:          </th>  <td>    41</td> \n",
       "</tr>\n",
       "<tr>\n",
       "  <th>Date:</th>            <td>Tue, 13 Sep 2022</td> <th>  Pseudo R-squ.:     </th>  <td>0.01866</td>\n",
       "</tr>\n",
       "<tr>\n",
       "  <th>Time:</th>                <td>12:32:22</td>     <th>  Log-Likelihood:    </th> <td> -54674.</td>\n",
       "</tr>\n",
       "<tr>\n",
       "  <th>converged:</th>             <td>True</td>       <th>  LL-Null:           </th> <td> -55713.</td>\n",
       "</tr>\n",
       "<tr>\n",
       "  <th>Covariance Type:</th>     <td>nonrobust</td>    <th>  LLR p-value:       </th>  <td> 0.000</td> \n",
       "</tr>\n",
       "</table>\n",
       "<table class=\"simpletable\">\n",
       "<tr>\n",
       "               <td></td>                 <th>coef</th>     <th>std err</th>      <th>z</th>      <th>P>|z|</th>  <th>[0.025</th>    <th>0.975]</th>  \n",
       "</tr>\n",
       "<tr>\n",
       "  <th>own_self_emp</th>               <td>    0.0156</td> <td>    0.008</td> <td>    2.063</td> <td> 0.039</td> <td>    0.001</td> <td>    0.030</td>\n",
       "</tr>\n",
       "<tr>\n",
       "  <th>veteran benefits</th>           <td>    0.0671</td> <td>    0.017</td> <td>    3.878</td> <td> 0.000</td> <td>    0.033</td> <td>    0.101</td>\n",
       "</tr>\n",
       "<tr>\n",
       "  <th>currently_enrolled</th>         <td>    0.0081</td> <td>    0.007</td> <td>    1.115</td> <td> 0.265</td> <td>   -0.006</td> <td>    0.022</td>\n",
       "</tr>\n",
       "<tr>\n",
       "  <th>educ</th>                       <td>    0.1025</td> <td>    0.010</td> <td>   10.455</td> <td> 0.000</td> <td>    0.083</td> <td>    0.122</td>\n",
       "</tr>\n",
       "<tr>\n",
       "  <th>major_ind_code</th>             <td>   -0.0143</td> <td>    0.013</td> <td>   -1.072</td> <td> 0.284</td> <td>   -0.041</td> <td>    0.012</td>\n",
       "</tr>\n",
       "<tr>\n",
       "  <th>major_occ_code</th>             <td>    0.1284</td> <td>    0.010</td> <td>   12.978</td> <td> 0.000</td> <td>    0.109</td> <td>    0.148</td>\n",
       "</tr>\n",
       "<tr>\n",
       "  <th>age</th>                        <td>   -0.0488</td> <td>    0.015</td> <td>   -3.284</td> <td> 0.001</td> <td>   -0.078</td> <td>   -0.020</td>\n",
       "</tr>\n",
       "<tr>\n",
       "  <th>hisp_origin</th>                <td>   -0.0083</td> <td>    0.008</td> <td>   -1.017</td> <td> 0.309</td> <td>   -0.024</td> <td>    0.008</td>\n",
       "</tr>\n",
       "<tr>\n",
       "  <th>gains</th>                      <td>   -0.0850</td> <td>    0.007</td> <td>  -11.612</td> <td> 0.000</td> <td>   -0.099</td> <td>   -0.071</td>\n",
       "</tr>\n",
       "<tr>\n",
       "  <th>dividends</th>                  <td>   -0.0998</td> <td>    0.008</td> <td>  -13.176</td> <td> 0.000</td> <td>   -0.115</td> <td>   -0.085</td>\n",
       "</tr>\n",
       "<tr>\n",
       "  <th>losses</th>                     <td>   -0.0591</td> <td>    0.007</td> <td>   -8.289</td> <td> 0.000</td> <td>   -0.073</td> <td>   -0.045</td>\n",
       "</tr>\n",
       "<tr>\n",
       "  <th>employer_of</th>                <td>   -0.0508</td> <td>    0.012</td> <td>   -4.171</td> <td> 0.000</td> <td>   -0.075</td> <td>   -0.027</td>\n",
       "</tr>\n",
       "<tr>\n",
       "  <th>weeks_worked</th>               <td>   -0.0732</td> <td>    0.017</td> <td>   -4.307</td> <td> 0.000</td> <td>   -0.107</td> <td>   -0.040</td>\n",
       "</tr>\n",
       "<tr>\n",
       "  <th>hourly_wage</th>                <td>    0.0097</td> <td>    0.008</td> <td>    1.293</td> <td> 0.196</td> <td>   -0.005</td> <td>    0.024</td>\n",
       "</tr>\n",
       "<tr>\n",
       "  <th>fed_liability</th>              <td>   -0.0289</td> <td>    0.008</td> <td>   -3.721</td> <td> 0.000</td> <td>   -0.044</td> <td>   -0.014</td>\n",
       "</tr>\n",
       "<tr>\n",
       "  <th>year_of_poll_2005</th>          <td>    0.0572</td> <td>    0.043</td> <td>    1.332</td> <td> 0.183</td> <td>   -0.027</td> <td>    0.141</td>\n",
       "</tr>\n",
       "<tr>\n",
       "  <th>race_White</th>                 <td>   -0.0074</td> <td>    0.009</td> <td>   -0.801</td> <td> 0.423</td> <td>   -0.025</td> <td>    0.011</td>\n",
       "</tr>\n",
       "<tr>\n",
       "  <th>race_others</th>                <td>   -0.0043</td> <td>    0.009</td> <td>   -0.457</td> <td> 0.647</td> <td>   -0.023</td> <td>    0.014</td>\n",
       "</tr>\n",
       "<tr>\n",
       "  <th>father_country_others</th>      <td>   -0.0086</td> <td>    0.013</td> <td>   -0.674</td> <td> 0.500</td> <td>   -0.034</td> <td>    0.016</td>\n",
       "</tr>\n",
       "<tr>\n",
       "  <th>house_stat_Others</th>          <td>   -0.0147</td> <td>    0.009</td> <td>   -1.598</td> <td> 0.110</td> <td>   -0.033</td> <td>    0.003</td>\n",
       "</tr>\n",
       "<tr>\n",
       "  <th>house_stat_child 18+</th>       <td>   -0.0292</td> <td>    0.012</td> <td>   -2.517</td> <td> 0.012</td> <td>   -0.052</td> <td>   -0.006</td>\n",
       "</tr>\n",
       "<tr>\n",
       "  <th>house_stat_child18</th>         <td>   -0.1354</td> <td>    0.041</td> <td>   -3.283</td> <td> 0.001</td> <td>   -0.216</td> <td>   -0.055</td>\n",
       "</tr>\n",
       "<tr>\n",
       "  <th>labour_union_unknown</th>       <td>   -0.0008</td> <td>    0.007</td> <td>   -0.111</td> <td> 0.911</td> <td>   -0.016</td> <td>    0.014</td>\n",
       "</tr>\n",
       "<tr>\n",
       "  <th>labour_union_yes</th>           <td>   -0.0024</td> <td>    0.007</td> <td>   -0.322</td> <td> 0.747</td> <td>   -0.017</td> <td>    0.012</td>\n",
       "</tr>\n",
       "<tr>\n",
       "  <th>self_country_others</th>        <td>    0.0062</td> <td>    0.012</td> <td>    0.515</td> <td> 0.606</td> <td>   -0.018</td> <td>    0.030</td>\n",
       "</tr>\n",
       "<tr>\n",
       "  <th>mother_country_others</th>      <td>   -0.0005</td> <td>    0.013</td> <td>   -0.038</td> <td> 0.969</td> <td>   -0.026</td> <td>    0.025</td>\n",
       "</tr>\n",
       "<tr>\n",
       "  <th>house_summary_others</th>       <td>    0.0697</td> <td>    0.012</td> <td>    5.716</td> <td> 0.000</td> <td>    0.046</td> <td>    0.094</td>\n",
       "</tr>\n",
       "<tr>\n",
       "  <th>gender_M</th>                   <td>   -0.0746</td> <td>    0.008</td> <td>   -8.908</td> <td> 0.000</td> <td>   -0.091</td> <td>   -0.058</td>\n",
       "</tr>\n",
       "<tr>\n",
       "  <th>marriage_status_Single</th>     <td>    0.0289</td> <td>    0.009</td> <td>    3.111</td> <td> 0.002</td> <td>    0.011</td> <td>    0.047</td>\n",
       "</tr>\n",
       "<tr>\n",
       "  <th>marriage_status_Unmarried</th>  <td>    0.0877</td> <td>    0.015</td> <td>    5.862</td> <td> 0.000</td> <td>    0.058</td> <td>    0.117</td>\n",
       "</tr>\n",
       "<tr>\n",
       "  <th>house_1yr_ago_ Yes</th>         <td>   -0.0169</td> <td>    0.014</td> <td>   -1.203</td> <td> 0.229</td> <td>   -0.045</td> <td>    0.011</td>\n",
       "</tr>\n",
       "<tr>\n",
       "  <th>house_1yr_ago_unknown</th>      <td>   -0.0574</td> <td>    0.045</td> <td>   -1.289</td> <td> 0.197</td> <td>   -0.145</td> <td>    0.030</td>\n",
       "</tr>\n",
       "<tr>\n",
       "  <th>income_filled_ Yes</th>         <td>    0.0079</td> <td>    0.008</td> <td>    1.051</td> <td> 0.293</td> <td>   -0.007</td> <td>    0.023</td>\n",
       "</tr>\n",
       "<tr>\n",
       "  <th>income_filled_ unknown</th>     <td>   -0.0083</td> <td>    0.008</td> <td>   -1.110</td> <td> 0.267</td> <td>   -0.023</td> <td>    0.006</td>\n",
       "</tr>\n",
       "<tr>\n",
       "  <th>under18_Both_Pr</th>            <td>    0.0106</td> <td>    0.032</td> <td>    0.332</td> <td> 0.740</td> <td>   -0.052</td> <td>    0.073</td>\n",
       "</tr>\n",
       "<tr>\n",
       "  <th>under18_onep</th>               <td>    0.0130</td> <td>    0.022</td> <td>    0.600</td> <td> 0.548</td> <td>   -0.029</td> <td>    0.055</td>\n",
       "</tr>\n",
       "<tr>\n",
       "  <th>citizenship_NB</th>             <td>    0.0157</td> <td>    0.011</td> <td>    1.456</td> <td> 0.145</td> <td>   -0.005</td> <td>    0.037</td>\n",
       "</tr>\n",
       "<tr>\n",
       "  <th>woker_type_Pvt</th>             <td>   -0.0208</td> <td>    0.014</td> <td>   -1.461</td> <td> 0.144</td> <td>   -0.049</td> <td>    0.007</td>\n",
       "</tr>\n",
       "<tr>\n",
       "  <th>woker_type_Unknown</th>         <td>   -0.0845</td> <td>    0.024</td> <td>   -3.561</td> <td> 0.000</td> <td>   -0.131</td> <td>   -0.038</td>\n",
       "</tr>\n",
       "<tr>\n",
       "  <th>woker_type_self</th>            <td>   -0.0356</td> <td>    0.010</td> <td>   -3.534</td> <td> 0.000</td> <td>   -0.055</td> <td>   -0.016</td>\n",
       "</tr>\n",
       "<tr>\n",
       "  <th>full_partime_job_Part time</th> <td>    0.0075</td> <td>    0.013</td> <td>    0.559</td> <td> 0.576</td> <td>   -0.019</td> <td>    0.034</td>\n",
       "</tr>\n",
       "<tr>\n",
       "  <th>const</th>                      <td>    0.5058</td> <td>    0.007</td> <td>   70.106</td> <td> 0.000</td> <td>    0.492</td> <td>    0.520</td>\n",
       "</tr>\n",
       "</table>"
      ],
      "text/plain": [
       "<class 'statsmodels.iolib.summary.Summary'>\n",
       "\"\"\"\n",
       "                           Logit Regression Results                           \n",
       "==============================================================================\n",
       "Dep. Variable:                 income   No. Observations:                84000\n",
       "Model:                          Logit   Df Residuals:                    83958\n",
       "Method:                           MLE   Df Model:                           41\n",
       "Date:                Tue, 13 Sep 2022   Pseudo R-squ.:                 0.01866\n",
       "Time:                        12:32:22   Log-Likelihood:                -54674.\n",
       "converged:                       True   LL-Null:                       -55713.\n",
       "Covariance Type:            nonrobust   LLR p-value:                     0.000\n",
       "==============================================================================================\n",
       "                                 coef    std err          z      P>|z|      [0.025      0.975]\n",
       "----------------------------------------------------------------------------------------------\n",
       "own_self_emp                   0.0156      0.008      2.063      0.039       0.001       0.030\n",
       "veteran benefits               0.0671      0.017      3.878      0.000       0.033       0.101\n",
       "currently_enrolled             0.0081      0.007      1.115      0.265      -0.006       0.022\n",
       "educ                           0.1025      0.010     10.455      0.000       0.083       0.122\n",
       "major_ind_code                -0.0143      0.013     -1.072      0.284      -0.041       0.012\n",
       "major_occ_code                 0.1284      0.010     12.978      0.000       0.109       0.148\n",
       "age                           -0.0488      0.015     -3.284      0.001      -0.078      -0.020\n",
       "hisp_origin                   -0.0083      0.008     -1.017      0.309      -0.024       0.008\n",
       "gains                         -0.0850      0.007    -11.612      0.000      -0.099      -0.071\n",
       "dividends                     -0.0998      0.008    -13.176      0.000      -0.115      -0.085\n",
       "losses                        -0.0591      0.007     -8.289      0.000      -0.073      -0.045\n",
       "employer_of                   -0.0508      0.012     -4.171      0.000      -0.075      -0.027\n",
       "weeks_worked                  -0.0732      0.017     -4.307      0.000      -0.107      -0.040\n",
       "hourly_wage                    0.0097      0.008      1.293      0.196      -0.005       0.024\n",
       "fed_liability                 -0.0289      0.008     -3.721      0.000      -0.044      -0.014\n",
       "year_of_poll_2005              0.0572      0.043      1.332      0.183      -0.027       0.141\n",
       "race_White                    -0.0074      0.009     -0.801      0.423      -0.025       0.011\n",
       "race_others                   -0.0043      0.009     -0.457      0.647      -0.023       0.014\n",
       "father_country_others         -0.0086      0.013     -0.674      0.500      -0.034       0.016\n",
       "house_stat_Others             -0.0147      0.009     -1.598      0.110      -0.033       0.003\n",
       "house_stat_child 18+          -0.0292      0.012     -2.517      0.012      -0.052      -0.006\n",
       "house_stat_child18            -0.1354      0.041     -3.283      0.001      -0.216      -0.055\n",
       "labour_union_unknown          -0.0008      0.007     -0.111      0.911      -0.016       0.014\n",
       "labour_union_yes              -0.0024      0.007     -0.322      0.747      -0.017       0.012\n",
       "self_country_others            0.0062      0.012      0.515      0.606      -0.018       0.030\n",
       "mother_country_others         -0.0005      0.013     -0.038      0.969      -0.026       0.025\n",
       "house_summary_others           0.0697      0.012      5.716      0.000       0.046       0.094\n",
       "gender_M                      -0.0746      0.008     -8.908      0.000      -0.091      -0.058\n",
       "marriage_status_Single         0.0289      0.009      3.111      0.002       0.011       0.047\n",
       "marriage_status_Unmarried      0.0877      0.015      5.862      0.000       0.058       0.117\n",
       "house_1yr_ago_ Yes            -0.0169      0.014     -1.203      0.229      -0.045       0.011\n",
       "house_1yr_ago_unknown         -0.0574      0.045     -1.289      0.197      -0.145       0.030\n",
       "income_filled_ Yes             0.0079      0.008      1.051      0.293      -0.007       0.023\n",
       "income_filled_ unknown        -0.0083      0.008     -1.110      0.267      -0.023       0.006\n",
       "under18_Both_Pr                0.0106      0.032      0.332      0.740      -0.052       0.073\n",
       "under18_onep                   0.0130      0.022      0.600      0.548      -0.029       0.055\n",
       "citizenship_NB                 0.0157      0.011      1.456      0.145      -0.005       0.037\n",
       "woker_type_Pvt                -0.0208      0.014     -1.461      0.144      -0.049       0.007\n",
       "woker_type_Unknown            -0.0845      0.024     -3.561      0.000      -0.131      -0.038\n",
       "woker_type_self               -0.0356      0.010     -3.534      0.000      -0.055      -0.016\n",
       "full_partime_job_Part time     0.0075      0.013      0.559      0.576      -0.019       0.034\n",
       "const                          0.5058      0.007     70.106      0.000       0.492       0.520\n",
       "==============================================================================================\n",
       "\"\"\""
      ]
     },
     "execution_count": 103,
     "metadata": {},
     "output_type": "execute_result"
    }
   ],
   "source": [
    "model.summary()"
   ]
  },
  {
   "cell_type": "markdown",
   "id": "4e47d4ef",
   "metadata": {},
   "source": [
    "## Significant values filteration using p values"
   ]
  },
  {
   "cell_type": "code",
   "execution_count": 104,
   "id": "74382627",
   "metadata": {},
   "outputs": [],
   "source": [
    "signi=model.pvalues[model.pvalues<0.05].index"
   ]
  },
  {
   "cell_type": "code",
   "execution_count": 105,
   "id": "3213e6ec",
   "metadata": {},
   "outputs": [],
   "source": [
    "X_train=X_train.drop('const',axis=1)"
   ]
  },
  {
   "cell_type": "code",
   "execution_count": 106,
   "id": "299d6378",
   "metadata": {},
   "outputs": [],
   "source": [
    "X_test=X_test.drop('const',axis=1)"
   ]
  },
  {
   "cell_type": "markdown",
   "id": "f45db665",
   "metadata": {},
   "source": [
    "## Decision Tree"
   ]
  },
  {
   "cell_type": "code",
   "execution_count": 107,
   "id": "f488b005",
   "metadata": {},
   "outputs": [],
   "source": [
    "from sklearn.tree import DecisionTreeClassifier\n",
    "dct=DecisionTreeClassifier(max_depth=8,min_samples_split=45)"
   ]
  },
  {
   "cell_type": "code",
   "execution_count": 110,
   "id": "2c3dea22",
   "metadata": {},
   "outputs": [],
   "source": [
    "d=dct.fit(X_train,y_train)"
   ]
  },
  {
   "cell_type": "code",
   "execution_count": 111,
   "id": "0708aeea",
   "metadata": {},
   "outputs": [],
   "source": [
    "pr=d.predict(X_test)"
   ]
  },
  {
   "cell_type": "code",
   "execution_count": 112,
   "id": "d310436e",
   "metadata": {},
   "outputs": [
    {
     "data": {
      "text/plain": [
       "0.6399047619047619"
      ]
     },
     "execution_count": 112,
     "metadata": {},
     "output_type": "execute_result"
    }
   ],
   "source": [
    "accuracy_score(y_test,pr)"
   ]
  },
  {
   "cell_type": "markdown",
   "id": "988981af",
   "metadata": {},
   "source": [
    "## Random Forest"
   ]
  },
  {
   "cell_type": "code",
   "execution_count": 113,
   "id": "e3e0e49a",
   "metadata": {},
   "outputs": [],
   "source": [
    "from sklearn.ensemble import RandomForestClassifier\n",
    "rf=RandomForestClassifier(max_depth=8,min_samples_split=50)"
   ]
  },
  {
   "cell_type": "code",
   "execution_count": 118,
   "id": "980c63a9",
   "metadata": {},
   "outputs": [],
   "source": [
    "rf=RandomForestClassifier(n_estimators=350,max_depth=12)"
   ]
  },
  {
   "cell_type": "code",
   "execution_count": 114,
   "id": "9e4b32a5",
   "metadata": {},
   "outputs": [],
   "source": [
    "predrf=rf.fit(X_train,y_train).predict(X_test)"
   ]
  },
  {
   "cell_type": "code",
   "execution_count": 115,
   "id": "056cb2bd",
   "metadata": {},
   "outputs": [
    {
     "data": {
      "text/plain": [
       "0.6439523809523809"
      ]
     },
     "execution_count": 115,
     "metadata": {},
     "output_type": "execute_result"
    }
   ],
   "source": [
    "accuracy_score(y_test,predrf)"
   ]
  },
  {
   "cell_type": "markdown",
   "id": "2c1cbef8",
   "metadata": {},
   "source": [
    "## Gradient Boosting"
   ]
  },
  {
   "cell_type": "code",
   "execution_count": null,
   "id": "d35e8e7e",
   "metadata": {},
   "outputs": [],
   "source": [
    "from sklearn.ensemble import GradientBoostingClassifier\n",
    "g=GradientBoostingClassifier(min_samples_split=45)"
   ]
  },
  {
   "cell_type": "code",
   "execution_count": null,
   "id": "26642e01",
   "metadata": {},
   "outputs": [],
   "source": [
    "G=g.fit(X_train[signi].drop('const',axis=1),y_train)"
   ]
  },
  {
   "cell_type": "code",
   "execution_count": null,
   "id": "6350c720",
   "metadata": {},
   "outputs": [],
   "source": [
    "pg=G.predict(X_test[signi].drop('const',axis=1))"
   ]
  },
  {
   "cell_type": "code",
   "execution_count": null,
   "id": "e2d469c8",
   "metadata": {},
   "outputs": [],
   "source": [
    "accuracy_score(y_test,pg)"
   ]
  },
  {
   "cell_type": "markdown",
   "id": "ff947b24",
   "metadata": {},
   "source": [
    "## Voting And Stacking Classifier\n"
   ]
  },
  {
   "cell_type": "code",
   "execution_count": 128,
   "id": "85efa755",
   "metadata": {},
   "outputs": [],
   "source": [
    "from lightgbm import LGBMClassifier"
   ]
  },
  {
   "cell_type": "code",
   "execution_count": null,
   "id": "f8625495",
   "metadata": {},
   "outputs": [],
   "source": [
    "from sklearn.ensemble import VotingClassifier,StackingClassifier"
   ]
  },
  {
   "cell_type": "code",
   "execution_count": 120,
   "id": "0594cf2e",
   "metadata": {},
   "outputs": [
    {
     "ename": "NameError",
     "evalue": "name 'LGBMClassifier' is not defined",
     "output_type": "error",
     "traceback": [
      "\u001b[1;31m---------------------------------------------------------------------------\u001b[0m",
      "\u001b[1;31mNameError\u001b[0m                                 Traceback (most recent call last)",
      "\u001b[1;32m~\\AppData\\Local\\Temp/ipykernel_13552/3853984441.py\u001b[0m in \u001b[0;36m<module>\u001b[1;34m\u001b[0m\n\u001b[0;32m     10\u001b[0m                                                  \u001b[0mmax_depth\u001b[0m\u001b[1;33m=\u001b[0m\u001b[1;36m5\u001b[0m\u001b[1;33m,\u001b[0m\u001b[1;33m\u001b[0m\u001b[1;33m\u001b[0m\u001b[0m\n\u001b[0;32m     11\u001b[0m                                                scale_pos_weight=2.5)),\n\u001b[1;32m---> 12\u001b[1;33m                ('2.LightGBM' , LGBMClassifier(subsample_freq = 2,\n\u001b[0m\u001b[0;32m     13\u001b[0m                                              \u001b[0mobjective\u001b[0m \u001b[1;33m=\u001b[0m\u001b[1;34m\"binary\"\u001b[0m\u001b[1;33m,\u001b[0m\u001b[1;33m\u001b[0m\u001b[1;33m\u001b[0m\u001b[0m\n\u001b[0;32m     14\u001b[0m                                              \u001b[0mimportance_type\u001b[0m \u001b[1;33m=\u001b[0m \u001b[1;34m\"gain\"\u001b[0m\u001b[1;33m,\u001b[0m\u001b[1;33m\u001b[0m\u001b[1;33m\u001b[0m\u001b[0m\n",
      "\u001b[1;31mNameError\u001b[0m: name 'LGBMClassifier' is not defined"
     ]
    }
   ],
   "source": [
    "Classifierstunned = [('0.XGBoost' , XGBClassifier(learning_rate =0.1,\n",
    "                                           n_estimators=450,\n",
    "                                           max_depth=5,\n",
    "                                           subsample = 0.70,\n",
    "                                           verbosity = 0,\n",
    "                                           scale_pos_weight = 2.5)),\n",
    "               ('1.CatBoost' , CatBoostClassifier(learning_rate=0.15,\n",
    "                                                 n_estimators=450,\n",
    "                                                subsample=0.0185,\n",
    "                                                 max_depth=5,\n",
    "                                               scale_pos_weight=2.5)),\n",
    "               ('2.LightGBM' , LGBMClassifier(subsample_freq = 2,\n",
    "                                             objective =\"binary\",\n",
    "                                             importance_type = \"gain\",\n",
    "                                             verbosity = -1,\n",
    "                                             max_bin = 60,\n",
    "                                             num_leaves = 300,\n",
    "                                             learning_rate=0.15,\n",
    "                                             n_estimators=450,\n",
    "                                             max_depth=5,\n",
    "                                             scale_pos_weight=2.5))]"
   ]
  },
  {
   "cell_type": "code",
   "execution_count": null,
   "id": "65bd2b96",
   "metadata": {},
   "outputs": [],
   "source": [
    "X_train[signi].columns"
   ]
  },
  {
   "cell_type": "code",
   "execution_count": null,
   "id": "bc3d349d",
   "metadata": {},
   "outputs": [],
   "source": [
    "vmtunned=VotingClassifier(estimators=Classifierstunned)\n",
    "model_votingtunned=vmtunned.fit(X_train[signi].drop('const',axis=1),y_train)"
   ]
  },
  {
   "cell_type": "code",
   "execution_count": null,
   "id": "58ee7df9",
   "metadata": {},
   "outputs": [],
   "source": [
    "accuracy_score(y_test,pred)"
   ]
  },
  {
   "cell_type": "raw",
   "id": "a02f5691",
   "metadata": {},
   "source": [
    "pred_val"
   ]
  },
  {
   "cell_type": "raw",
   "id": "fa984b9b",
   "metadata": {},
   "source": [
    "pred_val[:,1]"
   ]
  },
  {
   "cell_type": "raw",
   "id": "00896c2d",
   "metadata": {},
   "source": [
    "pred=pred_val[:,1]"
   ]
  },
  {
   "cell_type": "raw",
   "id": "17dc9876",
   "metadata": {},
   "source": [
    "pred=[0 if X<0.6 else 1 for X in pred]"
   ]
  },
  {
   "cell_type": "code",
   "execution_count": null,
   "id": "69d7b398",
   "metadata": {},
   "outputs": [],
   "source": []
  },
  {
   "cell_type": "code",
   "execution_count": 129,
   "id": "b1a3d809",
   "metadata": {},
   "outputs": [],
   "source": [
    "lg = LogisticRegression(random_state=140)\n",
    "rf = RandomForestClassifier(n_estimators=250,max_depth=12)\n",
    "gbm = GradientBoostingClassifier (random_state = 50)\n",
    "xgb = XGBClassifier (random_state = 138)\n",
    "lgbm = LGBMClassifier()\n",
    "cboost=CatBoostClassifier(random_state=42,max_depth=12,n_estimators=100)"
   ]
  },
  {
   "cell_type": "markdown",
   "id": "d31c274a",
   "metadata": {},
   "source": [
    "## Light Gbm"
   ]
  },
  {
   "cell_type": "code",
   "execution_count": 130,
   "id": "c28f3af2",
   "metadata": {},
   "outputs": [],
   "source": [
    "pred_gbm=lgbm.fit(X_train,y_train).predict(X_test)"
   ]
  },
  {
   "cell_type": "code",
   "execution_count": 131,
   "id": "2c5f81ba",
   "metadata": {},
   "outputs": [
    {
     "data": {
      "text/plain": [
       "0.6443333333333333"
      ]
     },
     "execution_count": 131,
     "metadata": {},
     "output_type": "execute_result"
    }
   ],
   "source": [
    "accuracy_score(y_test,pred_gbm)"
   ]
  },
  {
   "cell_type": "code",
   "execution_count": 133,
   "id": "bc83638f",
   "metadata": {},
   "outputs": [],
   "source": [
    "pred_g=gbm.fit(X,y).predict(newtest)"
   ]
  },
  {
   "cell_type": "code",
   "execution_count": 134,
   "id": "c86513c2",
   "metadata": {},
   "outputs": [
    {
     "data": {
      "text/html": [
       "<div>\n",
       "<style scoped>\n",
       "    .dataframe tbody tr th:only-of-type {\n",
       "        vertical-align: middle;\n",
       "    }\n",
       "\n",
       "    .dataframe tbody tr th {\n",
       "        vertical-align: top;\n",
       "    }\n",
       "\n",
       "    .dataframe thead th {\n",
       "        text-align: right;\n",
       "    }\n",
       "</style>\n",
       "<table border=\"1\" class=\"dataframe\">\n",
       "  <thead>\n",
       "    <tr style=\"text-align: right;\">\n",
       "      <th></th>\n",
       "      <th>own_self_emp</th>\n",
       "      <th>veteran benefits</th>\n",
       "      <th>currently_enrolled</th>\n",
       "      <th>educ</th>\n",
       "      <th>major_ind_code</th>\n",
       "      <th>major_occ_code</th>\n",
       "      <th>age</th>\n",
       "      <th>hisp_origin</th>\n",
       "      <th>gains</th>\n",
       "      <th>dividends</th>\n",
       "      <th>losses</th>\n",
       "      <th>employer_of</th>\n",
       "      <th>weeks_worked</th>\n",
       "      <th>hourly_wage</th>\n",
       "      <th>fed_liability</th>\n",
       "      <th>year_of_poll_2005</th>\n",
       "      <th>race_White</th>\n",
       "      <th>race_others</th>\n",
       "      <th>father_country_others</th>\n",
       "      <th>house_stat_Others</th>\n",
       "      <th>house_stat_child 18+</th>\n",
       "      <th>house_stat_child18</th>\n",
       "      <th>labour_union_unknown</th>\n",
       "      <th>labour_union_yes</th>\n",
       "      <th>self_country_others</th>\n",
       "      <th>mother_country_others</th>\n",
       "      <th>house_summary_others</th>\n",
       "      <th>gender_M</th>\n",
       "      <th>marriage_status_Single</th>\n",
       "      <th>marriage_status_Unmarried</th>\n",
       "      <th>house_1yr_ago_ Yes</th>\n",
       "      <th>house_1yr_ago_unknown</th>\n",
       "      <th>income_filled_ Yes</th>\n",
       "      <th>income_filled_ unknown</th>\n",
       "      <th>under18_Both_Pr</th>\n",
       "      <th>under18_onep</th>\n",
       "      <th>citizenship_NB</th>\n",
       "      <th>woker_type_Pvt</th>\n",
       "      <th>woker_type_Unknown</th>\n",
       "      <th>woker_type_self</th>\n",
       "      <th>full_partime_job_Part time</th>\n",
       "    </tr>\n",
       "  </thead>\n",
       "  <tbody>\n",
       "    <tr>\n",
       "      <th>0</th>\n",
       "      <td>-0.318189</td>\n",
       "      <td>0.567847</td>\n",
       "      <td>1.298330</td>\n",
       "      <td>-1.476007</td>\n",
       "      <td>-1.549767</td>\n",
       "      <td>0.642674</td>\n",
       "      <td>0.245296</td>\n",
       "      <td>0.404079</td>\n",
       "      <td>-0.195673</td>\n",
       "      <td>-0.343576</td>\n",
       "      <td>-0.13956</td>\n",
       "      <td>-0.403516</td>\n",
       "      <td>1.184200</td>\n",
       "      <td>-0.202694</td>\n",
       "      <td>0.331</td>\n",
       "      <td>-1.000610</td>\n",
       "      <td>0.438321</td>\n",
       "      <td>-0.249624</td>\n",
       "      <td>-0.400164</td>\n",
       "      <td>-0.201758</td>\n",
       "      <td>-0.326644</td>\n",
       "      <td>-0.618030</td>\n",
       "      <td>-0.712128</td>\n",
       "      <td>-0.331549</td>\n",
       "      <td>-0.286405</td>\n",
       "      <td>-0.391537</td>\n",
       "      <td>-1.279478</td>\n",
       "      <td>1.040476</td>\n",
       "      <td>-0.394154</td>\n",
       "      <td>-0.874831</td>\n",
       "      <td>-0.840098</td>\n",
       "      <td>-1.015782</td>\n",
       "      <td>-0.431089</td>\n",
       "      <td>-0.668087</td>\n",
       "      <td>-0.491458</td>\n",
       "      <td>-0.281253</td>\n",
       "      <td>0.328515</td>\n",
       "      <td>1.328744</td>\n",
       "      <td>-1.012227</td>\n",
       "      <td>-0.248848</td>\n",
       "      <td>0.761557</td>\n",
       "    </tr>\n",
       "    <tr>\n",
       "      <th>1</th>\n",
       "      <td>-0.318189</td>\n",
       "      <td>-1.784970</td>\n",
       "      <td>0.003355</td>\n",
       "      <td>0.900913</td>\n",
       "      <td>0.831943</td>\n",
       "      <td>0.642674</td>\n",
       "      <td>-1.118390</td>\n",
       "      <td>-2.474761</td>\n",
       "      <td>-0.195673</td>\n",
       "      <td>-0.343576</td>\n",
       "      <td>-0.13956</td>\n",
       "      <td>-0.826908</td>\n",
       "      <td>-0.948135</td>\n",
       "      <td>-0.202694</td>\n",
       "      <td>0.331</td>\n",
       "      <td>0.999391</td>\n",
       "      <td>0.438321</td>\n",
       "      <td>-0.249624</td>\n",
       "      <td>2.498975</td>\n",
       "      <td>-0.201758</td>\n",
       "      <td>-0.326644</td>\n",
       "      <td>1.618045</td>\n",
       "      <td>1.404242</td>\n",
       "      <td>-0.331549</td>\n",
       "      <td>-0.286405</td>\n",
       "      <td>-0.391537</td>\n",
       "      <td>0.781569</td>\n",
       "      <td>1.040476</td>\n",
       "      <td>-0.394154</td>\n",
       "      <td>1.143078</td>\n",
       "      <td>-0.840098</td>\n",
       "      <td>0.984464</td>\n",
       "      <td>-0.431089</td>\n",
       "      <td>-0.668087</td>\n",
       "      <td>2.034762</td>\n",
       "      <td>-0.281253</td>\n",
       "      <td>0.328515</td>\n",
       "      <td>-0.752591</td>\n",
       "      <td>0.987921</td>\n",
       "      <td>-0.248848</td>\n",
       "      <td>0.761557</td>\n",
       "    </tr>\n",
       "    <tr>\n",
       "      <th>2</th>\n",
       "      <td>-0.318189</td>\n",
       "      <td>0.567847</td>\n",
       "      <td>-1.291620</td>\n",
       "      <td>-0.683700</td>\n",
       "      <td>-1.549767</td>\n",
       "      <td>0.642674</td>\n",
       "      <td>0.415757</td>\n",
       "      <td>0.404079</td>\n",
       "      <td>-0.195673</td>\n",
       "      <td>-0.343576</td>\n",
       "      <td>-0.13956</td>\n",
       "      <td>1.713442</td>\n",
       "      <td>1.184200</td>\n",
       "      <td>-0.202694</td>\n",
       "      <td>0.331</td>\n",
       "      <td>-1.000610</td>\n",
       "      <td>0.438321</td>\n",
       "      <td>-0.249624</td>\n",
       "      <td>-0.400164</td>\n",
       "      <td>4.956421</td>\n",
       "      <td>-0.326644</td>\n",
       "      <td>-0.618030</td>\n",
       "      <td>1.404242</td>\n",
       "      <td>-0.331549</td>\n",
       "      <td>-0.286405</td>\n",
       "      <td>-0.391537</td>\n",
       "      <td>0.781569</td>\n",
       "      <td>1.040476</td>\n",
       "      <td>2.537082</td>\n",
       "      <td>-0.874831</td>\n",
       "      <td>-0.840098</td>\n",
       "      <td>-1.015782</td>\n",
       "      <td>2.319707</td>\n",
       "      <td>-0.668087</td>\n",
       "      <td>-0.491458</td>\n",
       "      <td>-0.281253</td>\n",
       "      <td>0.328515</td>\n",
       "      <td>1.328744</td>\n",
       "      <td>-1.012227</td>\n",
       "      <td>-0.248848</td>\n",
       "      <td>0.761557</td>\n",
       "    </tr>\n",
       "    <tr>\n",
       "      <th>3</th>\n",
       "      <td>-0.318189</td>\n",
       "      <td>0.567847</td>\n",
       "      <td>0.003355</td>\n",
       "      <td>0.108606</td>\n",
       "      <td>0.038039</td>\n",
       "      <td>0.642674</td>\n",
       "      <td>-0.053010</td>\n",
       "      <td>0.404079</td>\n",
       "      <td>-0.195673</td>\n",
       "      <td>-0.343576</td>\n",
       "      <td>-0.13956</td>\n",
       "      <td>0.019875</td>\n",
       "      <td>1.184200</td>\n",
       "      <td>-0.202694</td>\n",
       "      <td>0.331</td>\n",
       "      <td>-1.000610</td>\n",
       "      <td>-2.281434</td>\n",
       "      <td>4.006023</td>\n",
       "      <td>-0.400164</td>\n",
       "      <td>-0.201758</td>\n",
       "      <td>-0.326644</td>\n",
       "      <td>-0.618030</td>\n",
       "      <td>-0.712128</td>\n",
       "      <td>-0.331549</td>\n",
       "      <td>-0.286405</td>\n",
       "      <td>-0.391537</td>\n",
       "      <td>-1.279478</td>\n",
       "      <td>1.040476</td>\n",
       "      <td>-0.394154</td>\n",
       "      <td>-0.874831</td>\n",
       "      <td>1.190338</td>\n",
       "      <td>-1.015782</td>\n",
       "      <td>-0.431089</td>\n",
       "      <td>1.496810</td>\n",
       "      <td>-0.491458</td>\n",
       "      <td>-0.281253</td>\n",
       "      <td>0.328515</td>\n",
       "      <td>1.328744</td>\n",
       "      <td>-1.012227</td>\n",
       "      <td>-0.248848</td>\n",
       "      <td>0.761557</td>\n",
       "    </tr>\n",
       "    <tr>\n",
       "      <th>4</th>\n",
       "      <td>-0.318189</td>\n",
       "      <td>0.567847</td>\n",
       "      <td>-1.291620</td>\n",
       "      <td>0.108606</td>\n",
       "      <td>0.038039</td>\n",
       "      <td>-2.683057</td>\n",
       "      <td>1.054985</td>\n",
       "      <td>0.404079</td>\n",
       "      <td>-0.195673</td>\n",
       "      <td>-0.343576</td>\n",
       "      <td>-0.13956</td>\n",
       "      <td>0.443267</td>\n",
       "      <td>1.184200</td>\n",
       "      <td>-0.202694</td>\n",
       "      <td>0.331</td>\n",
       "      <td>-1.000610</td>\n",
       "      <td>0.438321</td>\n",
       "      <td>-0.249624</td>\n",
       "      <td>-0.400164</td>\n",
       "      <td>-0.201758</td>\n",
       "      <td>-0.326644</td>\n",
       "      <td>-0.618030</td>\n",
       "      <td>-0.712128</td>\n",
       "      <td>-0.331549</td>\n",
       "      <td>-0.286405</td>\n",
       "      <td>-0.391537</td>\n",
       "      <td>-1.279478</td>\n",
       "      <td>-0.961099</td>\n",
       "      <td>2.537082</td>\n",
       "      <td>-0.874831</td>\n",
       "      <td>1.190338</td>\n",
       "      <td>-1.015782</td>\n",
       "      <td>-0.431089</td>\n",
       "      <td>1.496810</td>\n",
       "      <td>-0.491458</td>\n",
       "      <td>-0.281253</td>\n",
       "      <td>0.328515</td>\n",
       "      <td>1.328744</td>\n",
       "      <td>-1.012227</td>\n",
       "      <td>-0.248848</td>\n",
       "      <td>0.761557</td>\n",
       "    </tr>\n",
       "  </tbody>\n",
       "</table>\n",
       "</div>"
      ],
      "text/plain": [
       "   own_self_emp  veteran benefits  currently_enrolled      educ  \\\n",
       "0     -0.318189          0.567847            1.298330 -1.476007   \n",
       "1     -0.318189         -1.784970            0.003355  0.900913   \n",
       "2     -0.318189          0.567847           -1.291620 -0.683700   \n",
       "3     -0.318189          0.567847            0.003355  0.108606   \n",
       "4     -0.318189          0.567847           -1.291620  0.108606   \n",
       "\n",
       "   major_ind_code  major_occ_code       age  hisp_origin     gains  dividends  \\\n",
       "0       -1.549767        0.642674  0.245296     0.404079 -0.195673  -0.343576   \n",
       "1        0.831943        0.642674 -1.118390    -2.474761 -0.195673  -0.343576   \n",
       "2       -1.549767        0.642674  0.415757     0.404079 -0.195673  -0.343576   \n",
       "3        0.038039        0.642674 -0.053010     0.404079 -0.195673  -0.343576   \n",
       "4        0.038039       -2.683057  1.054985     0.404079 -0.195673  -0.343576   \n",
       "\n",
       "    losses  employer_of  weeks_worked  hourly_wage  fed_liability  \\\n",
       "0 -0.13956    -0.403516      1.184200    -0.202694          0.331   \n",
       "1 -0.13956    -0.826908     -0.948135    -0.202694          0.331   \n",
       "2 -0.13956     1.713442      1.184200    -0.202694          0.331   \n",
       "3 -0.13956     0.019875      1.184200    -0.202694          0.331   \n",
       "4 -0.13956     0.443267      1.184200    -0.202694          0.331   \n",
       "\n",
       "   year_of_poll_2005  race_White  race_others  father_country_others  \\\n",
       "0          -1.000610    0.438321    -0.249624              -0.400164   \n",
       "1           0.999391    0.438321    -0.249624               2.498975   \n",
       "2          -1.000610    0.438321    -0.249624              -0.400164   \n",
       "3          -1.000610   -2.281434     4.006023              -0.400164   \n",
       "4          -1.000610    0.438321    -0.249624              -0.400164   \n",
       "\n",
       "   house_stat_Others  house_stat_child 18+  house_stat_child18  \\\n",
       "0          -0.201758             -0.326644           -0.618030   \n",
       "1          -0.201758             -0.326644            1.618045   \n",
       "2           4.956421             -0.326644           -0.618030   \n",
       "3          -0.201758             -0.326644           -0.618030   \n",
       "4          -0.201758             -0.326644           -0.618030   \n",
       "\n",
       "   labour_union_unknown  labour_union_yes  self_country_others  \\\n",
       "0             -0.712128         -0.331549            -0.286405   \n",
       "1              1.404242         -0.331549            -0.286405   \n",
       "2              1.404242         -0.331549            -0.286405   \n",
       "3             -0.712128         -0.331549            -0.286405   \n",
       "4             -0.712128         -0.331549            -0.286405   \n",
       "\n",
       "   mother_country_others  house_summary_others  gender_M  \\\n",
       "0              -0.391537             -1.279478  1.040476   \n",
       "1              -0.391537              0.781569  1.040476   \n",
       "2              -0.391537              0.781569  1.040476   \n",
       "3              -0.391537             -1.279478  1.040476   \n",
       "4              -0.391537             -1.279478 -0.961099   \n",
       "\n",
       "   marriage_status_Single  marriage_status_Unmarried  house_1yr_ago_ Yes  \\\n",
       "0               -0.394154                  -0.874831           -0.840098   \n",
       "1               -0.394154                   1.143078           -0.840098   \n",
       "2                2.537082                  -0.874831           -0.840098   \n",
       "3               -0.394154                  -0.874831            1.190338   \n",
       "4                2.537082                  -0.874831            1.190338   \n",
       "\n",
       "   house_1yr_ago_unknown  income_filled_ Yes  income_filled_ unknown  \\\n",
       "0              -1.015782           -0.431089               -0.668087   \n",
       "1               0.984464           -0.431089               -0.668087   \n",
       "2              -1.015782            2.319707               -0.668087   \n",
       "3              -1.015782           -0.431089                1.496810   \n",
       "4              -1.015782           -0.431089                1.496810   \n",
       "\n",
       "   under18_Both_Pr  under18_onep  citizenship_NB  woker_type_Pvt  \\\n",
       "0        -0.491458     -0.281253        0.328515        1.328744   \n",
       "1         2.034762     -0.281253        0.328515       -0.752591   \n",
       "2        -0.491458     -0.281253        0.328515        1.328744   \n",
       "3        -0.491458     -0.281253        0.328515        1.328744   \n",
       "4        -0.491458     -0.281253        0.328515        1.328744   \n",
       "\n",
       "   woker_type_Unknown  woker_type_self  full_partime_job_Part time  \n",
       "0           -1.012227        -0.248848                    0.761557  \n",
       "1            0.987921        -0.248848                    0.761557  \n",
       "2           -1.012227        -0.248848                    0.761557  \n",
       "3           -1.012227        -0.248848                    0.761557  \n",
       "4           -1.012227        -0.248848                    0.761557  "
      ]
     },
     "execution_count": 134,
     "metadata": {},
     "output_type": "execute_result"
    }
   ],
   "source": [
    "#to display all columns\n",
    "pd.set_option('display.max_columns', None)\n",
    "X.head()"
   ]
  },
  {
   "cell_type": "code",
   "execution_count": 135,
   "id": "15365478",
   "metadata": {},
   "outputs": [
    {
     "data": {
      "text/plain": [
       "Index(['own_self_emp', 'veteran benefits', 'currently_enrolled', 'educ',\n",
       "       'major_ind_code', 'major_occ_code', 'age', 'hisp_origin', 'gains',\n",
       "       'dividends', 'losses', 'employer_of', 'weeks_worked', 'hourly_wage',\n",
       "       'fed_liability', 'year_of_poll_2005', 'race_White', 'race_others',\n",
       "       'father_country_others', 'house_stat_Others', 'house_stat_child 18+',\n",
       "       'house_stat_child18', 'labour_union_unknown', 'labour_union_yes',\n",
       "       'self_country_others', 'mother_country_others', 'house_summary_others',\n",
       "       'gender_M', 'marriage_status_Single', 'marriage_status_Unmarried',\n",
       "       'house_1yr_ago_ Yes', 'house_1yr_ago_unknown', 'income_filled_ Yes',\n",
       "       'income_filled_ unknown', 'under18_Both_Pr', 'under18_onep',\n",
       "       'citizenship_NB', 'woker_type_Pvt', 'woker_type_Unknown',\n",
       "       'woker_type_self', 'full_partime_job_Part time'],\n",
       "      dtype='object')"
      ]
     },
     "execution_count": 135,
     "metadata": {},
     "output_type": "execute_result"
    }
   ],
   "source": [
    "newtest.columns"
   ]
  },
  {
   "cell_type": "markdown",
   "id": "1de569cc",
   "metadata": {},
   "source": [
    "## Cat Boost"
   ]
  },
  {
   "cell_type": "code",
   "execution_count": 136,
   "id": "a273f09b",
   "metadata": {},
   "outputs": [
    {
     "name": "stdout",
     "output_type": "stream",
     "text": [
      "Learning rate set to 0.5\n",
      "0:\tlearn: 0.6547501\ttotal: 601ms\tremaining: 59.5s\n",
      "1:\tlearn: 0.6422766\ttotal: 1.01s\tremaining: 49.5s\n",
      "2:\tlearn: 0.6368243\ttotal: 1.41s\tremaining: 45.5s\n",
      "3:\tlearn: 0.6326804\ttotal: 1.8s\tremaining: 43.3s\n",
      "4:\tlearn: 0.6272594\ttotal: 2.32s\tremaining: 44.1s\n",
      "5:\tlearn: 0.6244644\ttotal: 3s\tremaining: 47s\n",
      "6:\tlearn: 0.6202446\ttotal: 3.58s\tremaining: 47.5s\n",
      "7:\tlearn: 0.6144066\ttotal: 4.09s\tremaining: 47s\n",
      "8:\tlearn: 0.6098282\ttotal: 4.62s\tremaining: 46.7s\n",
      "9:\tlearn: 0.6055558\ttotal: 4.95s\tremaining: 44.5s\n",
      "10:\tlearn: 0.6006582\ttotal: 5.45s\tremaining: 44.1s\n",
      "11:\tlearn: 0.5976992\ttotal: 5.82s\tremaining: 42.7s\n",
      "12:\tlearn: 0.5921496\ttotal: 6.29s\tremaining: 42.1s\n",
      "13:\tlearn: 0.5891273\ttotal: 6.82s\tremaining: 41.9s\n",
      "14:\tlearn: 0.5866571\ttotal: 7.36s\tremaining: 41.7s\n",
      "15:\tlearn: 0.5838917\ttotal: 7.87s\tremaining: 41.3s\n",
      "16:\tlearn: 0.5807767\ttotal: 8.38s\tremaining: 40.9s\n",
      "17:\tlearn: 0.5763888\ttotal: 8.88s\tremaining: 40.5s\n",
      "18:\tlearn: 0.5763886\ttotal: 8.93s\tremaining: 38s\n",
      "19:\tlearn: 0.5724267\ttotal: 9.39s\tremaining: 37.6s\n",
      "20:\tlearn: 0.5694927\ttotal: 9.74s\tremaining: 36.7s\n",
      "21:\tlearn: 0.5679294\ttotal: 10.1s\tremaining: 35.8s\n",
      "22:\tlearn: 0.5633006\ttotal: 10.5s\tremaining: 35s\n",
      "23:\tlearn: 0.5603367\ttotal: 10.8s\tremaining: 34.3s\n",
      "24:\tlearn: 0.5551832\ttotal: 11.2s\tremaining: 33.7s\n",
      "25:\tlearn: 0.5520674\ttotal: 11.6s\tremaining: 33.1s\n",
      "26:\tlearn: 0.5466383\ttotal: 12.1s\tremaining: 32.7s\n",
      "27:\tlearn: 0.5437839\ttotal: 12.6s\tremaining: 32.4s\n",
      "28:\tlearn: 0.5411480\ttotal: 13.1s\tremaining: 32s\n",
      "29:\tlearn: 0.5381794\ttotal: 13.5s\tremaining: 31.5s\n",
      "30:\tlearn: 0.5333733\ttotal: 13.9s\tremaining: 31s\n",
      "31:\tlearn: 0.5304905\ttotal: 14.3s\tremaining: 30.3s\n",
      "32:\tlearn: 0.5290017\ttotal: 14.6s\tremaining: 29.6s\n",
      "33:\tlearn: 0.5284641\ttotal: 14.9s\tremaining: 28.9s\n",
      "34:\tlearn: 0.5263270\ttotal: 15.2s\tremaining: 28.3s\n",
      "35:\tlearn: 0.5236362\ttotal: 15.6s\tremaining: 27.6s\n",
      "36:\tlearn: 0.5221128\ttotal: 15.9s\tremaining: 27s\n",
      "37:\tlearn: 0.5179261\ttotal: 16.2s\tremaining: 26.4s\n",
      "38:\tlearn: 0.5158636\ttotal: 16.5s\tremaining: 25.8s\n",
      "39:\tlearn: 0.5127289\ttotal: 16.9s\tremaining: 25.3s\n",
      "40:\tlearn: 0.5107498\ttotal: 17.4s\tremaining: 25s\n",
      "41:\tlearn: 0.5081489\ttotal: 17.7s\tremaining: 24.5s\n",
      "42:\tlearn: 0.5062386\ttotal: 18s\tremaining: 23.9s\n",
      "43:\tlearn: 0.5042459\ttotal: 18.4s\tremaining: 23.4s\n",
      "44:\tlearn: 0.5025985\ttotal: 18.7s\tremaining: 22.8s\n",
      "45:\tlearn: 0.4996464\ttotal: 19s\tremaining: 22.3s\n",
      "46:\tlearn: 0.4983067\ttotal: 19.4s\tremaining: 21.8s\n",
      "47:\tlearn: 0.4963745\ttotal: 19.7s\tremaining: 21.3s\n",
      "48:\tlearn: 0.4926511\ttotal: 20.1s\tremaining: 20.9s\n",
      "49:\tlearn: 0.4898939\ttotal: 20.4s\tremaining: 20.4s\n",
      "50:\tlearn: 0.4880535\ttotal: 20.7s\tremaining: 19.9s\n",
      "51:\tlearn: 0.4870142\ttotal: 21s\tremaining: 19.4s\n",
      "52:\tlearn: 0.4859589\ttotal: 21.3s\tremaining: 18.9s\n",
      "53:\tlearn: 0.4825217\ttotal: 21.7s\tremaining: 18.5s\n",
      "54:\tlearn: 0.4806898\ttotal: 22s\tremaining: 18s\n",
      "55:\tlearn: 0.4775019\ttotal: 22.4s\tremaining: 17.6s\n",
      "56:\tlearn: 0.4767812\ttotal: 22.8s\tremaining: 17.2s\n",
      "57:\tlearn: 0.4747091\ttotal: 23.2s\tremaining: 16.8s\n",
      "58:\tlearn: 0.4740916\ttotal: 23.5s\tremaining: 16.3s\n",
      "59:\tlearn: 0.4723978\ttotal: 23.8s\tremaining: 15.9s\n",
      "60:\tlearn: 0.4710662\ttotal: 24.2s\tremaining: 15.4s\n",
      "61:\tlearn: 0.4683640\ttotal: 24.5s\tremaining: 15s\n",
      "62:\tlearn: 0.4662569\ttotal: 24.8s\tremaining: 14.6s\n",
      "63:\tlearn: 0.4643520\ttotal: 25.2s\tremaining: 14.1s\n",
      "64:\tlearn: 0.4633586\ttotal: 25.5s\tremaining: 13.7s\n",
      "65:\tlearn: 0.4608062\ttotal: 25.8s\tremaining: 13.3s\n",
      "66:\tlearn: 0.4592218\ttotal: 26.1s\tremaining: 12.9s\n",
      "67:\tlearn: 0.4560562\ttotal: 26.5s\tremaining: 12.4s\n",
      "68:\tlearn: 0.4542594\ttotal: 26.8s\tremaining: 12s\n",
      "69:\tlearn: 0.4517162\ttotal: 27.2s\tremaining: 11.7s\n",
      "70:\tlearn: 0.4493705\ttotal: 27.6s\tremaining: 11.3s\n",
      "71:\tlearn: 0.4467220\ttotal: 28s\tremaining: 10.9s\n",
      "72:\tlearn: 0.4450427\ttotal: 28.4s\tremaining: 10.5s\n",
      "73:\tlearn: 0.4433738\ttotal: 28.8s\tremaining: 10.1s\n",
      "74:\tlearn: 0.4412541\ttotal: 29.2s\tremaining: 9.73s\n",
      "75:\tlearn: 0.4406771\ttotal: 29.6s\tremaining: 9.36s\n",
      "76:\tlearn: 0.4393039\ttotal: 30s\tremaining: 8.96s\n",
      "77:\tlearn: 0.4386145\ttotal: 30.4s\tremaining: 8.56s\n",
      "78:\tlearn: 0.4369733\ttotal: 30.7s\tremaining: 8.15s\n",
      "79:\tlearn: 0.4346753\ttotal: 31s\tremaining: 7.75s\n",
      "80:\tlearn: 0.4334457\ttotal: 31.3s\tremaining: 7.35s\n",
      "81:\tlearn: 0.4329823\ttotal: 31.7s\tremaining: 6.95s\n",
      "82:\tlearn: 0.4323142\ttotal: 32s\tremaining: 6.55s\n",
      "83:\tlearn: 0.4305298\ttotal: 32.4s\tremaining: 6.17s\n",
      "84:\tlearn: 0.4292413\ttotal: 32.8s\tremaining: 5.78s\n",
      "85:\tlearn: 0.4274147\ttotal: 33.2s\tremaining: 5.4s\n",
      "86:\tlearn: 0.4252231\ttotal: 33.5s\tremaining: 5s\n",
      "87:\tlearn: 0.4225681\ttotal: 33.9s\tremaining: 4.62s\n",
      "88:\tlearn: 0.4212628\ttotal: 34.2s\tremaining: 4.23s\n",
      "89:\tlearn: 0.4188090\ttotal: 34.5s\tremaining: 3.84s\n",
      "90:\tlearn: 0.4167192\ttotal: 34.9s\tremaining: 3.45s\n",
      "91:\tlearn: 0.4159760\ttotal: 35.2s\tremaining: 3.06s\n",
      "92:\tlearn: 0.4146914\ttotal: 35.5s\tremaining: 2.67s\n",
      "93:\tlearn: 0.4139859\ttotal: 35.8s\tremaining: 2.29s\n",
      "94:\tlearn: 0.4131917\ttotal: 36.1s\tremaining: 1.9s\n",
      "95:\tlearn: 0.4105818\ttotal: 36.5s\tremaining: 1.52s\n",
      "96:\tlearn: 0.4092320\ttotal: 36.8s\tremaining: 1.14s\n",
      "97:\tlearn: 0.4076940\ttotal: 37.1s\tremaining: 758ms\n",
      "98:\tlearn: 0.4069752\ttotal: 37.5s\tremaining: 378ms\n",
      "99:\tlearn: 0.4053979\ttotal: 37.8s\tremaining: 0us\n"
     ]
    },
    {
     "data": {
      "text/plain": [
       "<catboost.core.CatBoostClassifier at 0x1c437d644c0>"
      ]
     },
     "execution_count": 136,
     "metadata": {},
     "output_type": "execute_result"
    }
   ],
   "source": [
    "cboost.fit(X,y,verbose=1)"
   ]
  },
  {
   "cell_type": "code",
   "execution_count": 138,
   "id": "ee47d953",
   "metadata": {},
   "outputs": [
    {
     "name": "stdout",
     "output_type": "stream",
     "text": [
      "Learning rate set to 0.5\n",
      "0:\tlearn: 0.6547501\ttotal: 389ms\tremaining: 38.5s\n",
      "1:\tlearn: 0.6422766\ttotal: 777ms\tremaining: 38.1s\n",
      "2:\tlearn: 0.6368243\ttotal: 1.17s\tremaining: 37.9s\n",
      "3:\tlearn: 0.6326804\ttotal: 1.59s\tremaining: 38.1s\n",
      "4:\tlearn: 0.6272594\ttotal: 2s\tremaining: 38s\n",
      "5:\tlearn: 0.6244644\ttotal: 2.42s\tremaining: 37.9s\n",
      "6:\tlearn: 0.6202446\ttotal: 2.81s\tremaining: 37.3s\n",
      "7:\tlearn: 0.6144066\ttotal: 3.21s\tremaining: 36.9s\n",
      "8:\tlearn: 0.6098282\ttotal: 3.61s\tremaining: 36.5s\n",
      "9:\tlearn: 0.6055558\ttotal: 4.3s\tremaining: 38.7s\n",
      "10:\tlearn: 0.6006582\ttotal: 4.89s\tremaining: 39.6s\n",
      "11:\tlearn: 0.5976992\ttotal: 5.25s\tremaining: 38.5s\n",
      "12:\tlearn: 0.5921496\ttotal: 5.62s\tremaining: 37.6s\n",
      "13:\tlearn: 0.5891273\ttotal: 5.98s\tremaining: 36.7s\n",
      "14:\tlearn: 0.5866571\ttotal: 6.31s\tremaining: 35.8s\n",
      "15:\tlearn: 0.5838917\ttotal: 6.66s\tremaining: 34.9s\n",
      "16:\tlearn: 0.5807767\ttotal: 6.98s\tremaining: 34.1s\n",
      "17:\tlearn: 0.5763888\ttotal: 7.33s\tremaining: 33.4s\n",
      "18:\tlearn: 0.5763886\ttotal: 7.36s\tremaining: 31.4s\n",
      "19:\tlearn: 0.5724267\ttotal: 7.67s\tremaining: 30.7s\n",
      "20:\tlearn: 0.5694927\ttotal: 7.98s\tremaining: 30s\n",
      "21:\tlearn: 0.5679294\ttotal: 8.31s\tremaining: 29.5s\n",
      "22:\tlearn: 0.5633006\ttotal: 8.7s\tremaining: 29.1s\n",
      "23:\tlearn: 0.5603367\ttotal: 9.1s\tremaining: 28.8s\n",
      "24:\tlearn: 0.5551832\ttotal: 9.5s\tremaining: 28.5s\n",
      "25:\tlearn: 0.5520674\ttotal: 9.93s\tremaining: 28.3s\n",
      "26:\tlearn: 0.5466383\ttotal: 10.3s\tremaining: 27.9s\n",
      "27:\tlearn: 0.5437839\ttotal: 10.7s\tremaining: 27.6s\n",
      "28:\tlearn: 0.5411480\ttotal: 11.1s\tremaining: 27.2s\n",
      "29:\tlearn: 0.5381794\ttotal: 11.5s\tremaining: 26.7s\n",
      "30:\tlearn: 0.5333733\ttotal: 11.8s\tremaining: 26.2s\n",
      "31:\tlearn: 0.5304905\ttotal: 12.1s\tremaining: 25.7s\n",
      "32:\tlearn: 0.5290017\ttotal: 12.4s\tremaining: 25.2s\n",
      "33:\tlearn: 0.5284641\ttotal: 12.7s\tremaining: 24.7s\n",
      "34:\tlearn: 0.5263270\ttotal: 13.1s\tremaining: 24.2s\n",
      "35:\tlearn: 0.5236362\ttotal: 13.4s\tremaining: 23.8s\n",
      "36:\tlearn: 0.5221128\ttotal: 13.7s\tremaining: 23.4s\n",
      "37:\tlearn: 0.5179261\ttotal: 14.1s\tremaining: 23s\n",
      "38:\tlearn: 0.5158636\ttotal: 14.6s\tremaining: 22.9s\n",
      "39:\tlearn: 0.5127289\ttotal: 15s\tremaining: 22.6s\n",
      "40:\tlearn: 0.5107498\ttotal: 15.4s\tremaining: 22.1s\n",
      "41:\tlearn: 0.5081489\ttotal: 15.8s\tremaining: 21.8s\n",
      "42:\tlearn: 0.5062386\ttotal: 16.1s\tremaining: 21.4s\n",
      "43:\tlearn: 0.5042459\ttotal: 16.4s\tremaining: 20.9s\n",
      "44:\tlearn: 0.5025985\ttotal: 16.7s\tremaining: 20.4s\n",
      "45:\tlearn: 0.4996464\ttotal: 17.1s\tremaining: 20.1s\n",
      "46:\tlearn: 0.4983067\ttotal: 17.7s\tremaining: 19.9s\n",
      "47:\tlearn: 0.4963745\ttotal: 18s\tremaining: 19.5s\n",
      "48:\tlearn: 0.4926511\ttotal: 18.6s\tremaining: 19.3s\n",
      "49:\tlearn: 0.4898939\ttotal: 18.9s\tremaining: 18.9s\n",
      "50:\tlearn: 0.4880535\ttotal: 19.3s\tremaining: 18.5s\n",
      "51:\tlearn: 0.4870142\ttotal: 19.6s\tremaining: 18.1s\n",
      "52:\tlearn: 0.4859589\ttotal: 19.9s\tremaining: 17.7s\n",
      "53:\tlearn: 0.4825217\ttotal: 20.3s\tremaining: 17.3s\n",
      "54:\tlearn: 0.4806898\ttotal: 20.6s\tremaining: 16.9s\n",
      "55:\tlearn: 0.4775019\ttotal: 21s\tremaining: 16.5s\n",
      "56:\tlearn: 0.4767812\ttotal: 21.3s\tremaining: 16.1s\n",
      "57:\tlearn: 0.4747091\ttotal: 21.6s\tremaining: 15.6s\n",
      "58:\tlearn: 0.4740916\ttotal: 21.9s\tremaining: 15.2s\n",
      "59:\tlearn: 0.4723978\ttotal: 22.3s\tremaining: 14.8s\n",
      "60:\tlearn: 0.4710662\ttotal: 22.6s\tremaining: 14.5s\n",
      "61:\tlearn: 0.4683640\ttotal: 22.9s\tremaining: 14.1s\n",
      "62:\tlearn: 0.4662569\ttotal: 23.3s\tremaining: 13.7s\n",
      "63:\tlearn: 0.4643520\ttotal: 23.6s\tremaining: 13.3s\n",
      "64:\tlearn: 0.4633586\ttotal: 24s\tremaining: 12.9s\n",
      "65:\tlearn: 0.4608062\ttotal: 24.4s\tremaining: 12.6s\n",
      "66:\tlearn: 0.4592218\ttotal: 24.9s\tremaining: 12.3s\n",
      "67:\tlearn: 0.4560562\ttotal: 25.3s\tremaining: 11.9s\n",
      "68:\tlearn: 0.4542594\ttotal: 25.7s\tremaining: 11.6s\n",
      "69:\tlearn: 0.4517162\ttotal: 26.1s\tremaining: 11.2s\n",
      "70:\tlearn: 0.4493705\ttotal: 26.5s\tremaining: 10.8s\n",
      "71:\tlearn: 0.4467220\ttotal: 26.9s\tremaining: 10.5s\n",
      "72:\tlearn: 0.4450427\ttotal: 27.3s\tremaining: 10.1s\n",
      "73:\tlearn: 0.4433738\ttotal: 27.6s\tremaining: 9.71s\n",
      "74:\tlearn: 0.4412541\ttotal: 28s\tremaining: 9.33s\n",
      "75:\tlearn: 0.4406771\ttotal: 28.3s\tremaining: 8.95s\n",
      "76:\tlearn: 0.4393039\ttotal: 28.7s\tremaining: 8.57s\n",
      "77:\tlearn: 0.4386145\ttotal: 29s\tremaining: 8.19s\n",
      "78:\tlearn: 0.4369733\ttotal: 29.4s\tremaining: 7.82s\n",
      "79:\tlearn: 0.4346753\ttotal: 29.9s\tremaining: 7.47s\n",
      "80:\tlearn: 0.4334457\ttotal: 30.4s\tremaining: 7.12s\n",
      "81:\tlearn: 0.4329823\ttotal: 30.9s\tremaining: 6.77s\n",
      "82:\tlearn: 0.4323142\ttotal: 31.2s\tremaining: 6.38s\n",
      "83:\tlearn: 0.4305298\ttotal: 31.5s\tremaining: 6s\n",
      "84:\tlearn: 0.4292413\ttotal: 31.8s\tremaining: 5.61s\n",
      "85:\tlearn: 0.4274147\ttotal: 32.1s\tremaining: 5.23s\n",
      "86:\tlearn: 0.4252231\ttotal: 32.5s\tremaining: 4.85s\n",
      "87:\tlearn: 0.4225681\ttotal: 32.8s\tremaining: 4.47s\n",
      "88:\tlearn: 0.4212628\ttotal: 33.1s\tremaining: 4.09s\n",
      "89:\tlearn: 0.4188090\ttotal: 33.4s\tremaining: 3.71s\n",
      "90:\tlearn: 0.4167192\ttotal: 33.8s\tremaining: 3.34s\n",
      "91:\tlearn: 0.4159760\ttotal: 34.2s\tremaining: 2.97s\n",
      "92:\tlearn: 0.4146914\ttotal: 34.5s\tremaining: 2.6s\n",
      "93:\tlearn: 0.4139859\ttotal: 34.9s\tremaining: 2.23s\n",
      "94:\tlearn: 0.4131917\ttotal: 35.2s\tremaining: 1.85s\n",
      "95:\tlearn: 0.4105818\ttotal: 35.6s\tremaining: 1.48s\n",
      "96:\tlearn: 0.4092320\ttotal: 35.9s\tremaining: 1.11s\n",
      "97:\tlearn: 0.4076940\ttotal: 36.2s\tremaining: 740ms\n",
      "98:\tlearn: 0.4069752\ttotal: 36.7s\tremaining: 370ms\n",
      "99:\tlearn: 0.4053979\ttotal: 37s\tremaining: 0us\n"
     ]
    },
    {
     "ename": "KeyError",
     "evalue": "\"['income'] not found in axis\"",
     "output_type": "error",
     "traceback": [
      "\u001b[1;31m---------------------------------------------------------------------------\u001b[0m",
      "\u001b[1;31mKeyError\u001b[0m                                  Traceback (most recent call last)",
      "\u001b[1;32m~\\AppData\\Local\\Temp/ipykernel_13552/1663203118.py\u001b[0m in \u001b[0;36m<module>\u001b[1;34m\u001b[0m\n\u001b[1;32m----> 1\u001b[1;33m \u001b[0mpred_c\u001b[0m\u001b[1;33m=\u001b[0m\u001b[0mcboost\u001b[0m\u001b[1;33m.\u001b[0m\u001b[0mfit\u001b[0m\u001b[1;33m(\u001b[0m\u001b[0mX\u001b[0m\u001b[1;33m,\u001b[0m\u001b[0my\u001b[0m\u001b[1;33m)\u001b[0m\u001b[1;33m.\u001b[0m\u001b[0mpredict\u001b[0m\u001b[1;33m(\u001b[0m\u001b[0mnewtest\u001b[0m\u001b[1;33m.\u001b[0m\u001b[0mdrop\u001b[0m\u001b[1;33m(\u001b[0m\u001b[1;34m'income'\u001b[0m\u001b[1;33m,\u001b[0m\u001b[0maxis\u001b[0m\u001b[1;33m=\u001b[0m\u001b[1;36m1\u001b[0m\u001b[1;33m)\u001b[0m\u001b[1;33m)\u001b[0m\u001b[1;33m\u001b[0m\u001b[1;33m\u001b[0m\u001b[0m\n\u001b[0m",
      "\u001b[1;32m~\\anaconda3\\lib\\site-packages\\pandas\\util\\_decorators.py\u001b[0m in \u001b[0;36mwrapper\u001b[1;34m(*args, **kwargs)\u001b[0m\n\u001b[0;32m    309\u001b[0m                     \u001b[0mstacklevel\u001b[0m\u001b[1;33m=\u001b[0m\u001b[0mstacklevel\u001b[0m\u001b[1;33m,\u001b[0m\u001b[1;33m\u001b[0m\u001b[1;33m\u001b[0m\u001b[0m\n\u001b[0;32m    310\u001b[0m                 )\n\u001b[1;32m--> 311\u001b[1;33m             \u001b[1;32mreturn\u001b[0m \u001b[0mfunc\u001b[0m\u001b[1;33m(\u001b[0m\u001b[1;33m*\u001b[0m\u001b[0margs\u001b[0m\u001b[1;33m,\u001b[0m \u001b[1;33m**\u001b[0m\u001b[0mkwargs\u001b[0m\u001b[1;33m)\u001b[0m\u001b[1;33m\u001b[0m\u001b[1;33m\u001b[0m\u001b[0m\n\u001b[0m\u001b[0;32m    312\u001b[0m \u001b[1;33m\u001b[0m\u001b[0m\n\u001b[0;32m    313\u001b[0m         \u001b[1;32mreturn\u001b[0m \u001b[0mwrapper\u001b[0m\u001b[1;33m\u001b[0m\u001b[1;33m\u001b[0m\u001b[0m\n",
      "\u001b[1;32m~\\anaconda3\\lib\\site-packages\\pandas\\core\\frame.py\u001b[0m in \u001b[0;36mdrop\u001b[1;34m(self, labels, axis, index, columns, level, inplace, errors)\u001b[0m\n\u001b[0;32m   4904\u001b[0m                 \u001b[0mweight\u001b[0m  \u001b[1;36m1.0\u001b[0m     \u001b[1;36m0.8\u001b[0m\u001b[1;33m\u001b[0m\u001b[1;33m\u001b[0m\u001b[0m\n\u001b[0;32m   4905\u001b[0m         \"\"\"\n\u001b[1;32m-> 4906\u001b[1;33m         return super().drop(\n\u001b[0m\u001b[0;32m   4907\u001b[0m             \u001b[0mlabels\u001b[0m\u001b[1;33m=\u001b[0m\u001b[0mlabels\u001b[0m\u001b[1;33m,\u001b[0m\u001b[1;33m\u001b[0m\u001b[1;33m\u001b[0m\u001b[0m\n\u001b[0;32m   4908\u001b[0m             \u001b[0maxis\u001b[0m\u001b[1;33m=\u001b[0m\u001b[0maxis\u001b[0m\u001b[1;33m,\u001b[0m\u001b[1;33m\u001b[0m\u001b[1;33m\u001b[0m\u001b[0m\n",
      "\u001b[1;32m~\\anaconda3\\lib\\site-packages\\pandas\\core\\generic.py\u001b[0m in \u001b[0;36mdrop\u001b[1;34m(self, labels, axis, index, columns, level, inplace, errors)\u001b[0m\n\u001b[0;32m   4148\u001b[0m         \u001b[1;32mfor\u001b[0m \u001b[0maxis\u001b[0m\u001b[1;33m,\u001b[0m \u001b[0mlabels\u001b[0m \u001b[1;32min\u001b[0m \u001b[0maxes\u001b[0m\u001b[1;33m.\u001b[0m\u001b[0mitems\u001b[0m\u001b[1;33m(\u001b[0m\u001b[1;33m)\u001b[0m\u001b[1;33m:\u001b[0m\u001b[1;33m\u001b[0m\u001b[1;33m\u001b[0m\u001b[0m\n\u001b[0;32m   4149\u001b[0m             \u001b[1;32mif\u001b[0m \u001b[0mlabels\u001b[0m \u001b[1;32mis\u001b[0m \u001b[1;32mnot\u001b[0m \u001b[1;32mNone\u001b[0m\u001b[1;33m:\u001b[0m\u001b[1;33m\u001b[0m\u001b[1;33m\u001b[0m\u001b[0m\n\u001b[1;32m-> 4150\u001b[1;33m                 \u001b[0mobj\u001b[0m \u001b[1;33m=\u001b[0m \u001b[0mobj\u001b[0m\u001b[1;33m.\u001b[0m\u001b[0m_drop_axis\u001b[0m\u001b[1;33m(\u001b[0m\u001b[0mlabels\u001b[0m\u001b[1;33m,\u001b[0m \u001b[0maxis\u001b[0m\u001b[1;33m,\u001b[0m \u001b[0mlevel\u001b[0m\u001b[1;33m=\u001b[0m\u001b[0mlevel\u001b[0m\u001b[1;33m,\u001b[0m \u001b[0merrors\u001b[0m\u001b[1;33m=\u001b[0m\u001b[0merrors\u001b[0m\u001b[1;33m)\u001b[0m\u001b[1;33m\u001b[0m\u001b[1;33m\u001b[0m\u001b[0m\n\u001b[0m\u001b[0;32m   4151\u001b[0m \u001b[1;33m\u001b[0m\u001b[0m\n\u001b[0;32m   4152\u001b[0m         \u001b[1;32mif\u001b[0m \u001b[0minplace\u001b[0m\u001b[1;33m:\u001b[0m\u001b[1;33m\u001b[0m\u001b[1;33m\u001b[0m\u001b[0m\n",
      "\u001b[1;32m~\\anaconda3\\lib\\site-packages\\pandas\\core\\generic.py\u001b[0m in \u001b[0;36m_drop_axis\u001b[1;34m(self, labels, axis, level, errors)\u001b[0m\n\u001b[0;32m   4183\u001b[0m                 \u001b[0mnew_axis\u001b[0m \u001b[1;33m=\u001b[0m \u001b[0maxis\u001b[0m\u001b[1;33m.\u001b[0m\u001b[0mdrop\u001b[0m\u001b[1;33m(\u001b[0m\u001b[0mlabels\u001b[0m\u001b[1;33m,\u001b[0m \u001b[0mlevel\u001b[0m\u001b[1;33m=\u001b[0m\u001b[0mlevel\u001b[0m\u001b[1;33m,\u001b[0m \u001b[0merrors\u001b[0m\u001b[1;33m=\u001b[0m\u001b[0merrors\u001b[0m\u001b[1;33m)\u001b[0m\u001b[1;33m\u001b[0m\u001b[1;33m\u001b[0m\u001b[0m\n\u001b[0;32m   4184\u001b[0m             \u001b[1;32melse\u001b[0m\u001b[1;33m:\u001b[0m\u001b[1;33m\u001b[0m\u001b[1;33m\u001b[0m\u001b[0m\n\u001b[1;32m-> 4185\u001b[1;33m                 \u001b[0mnew_axis\u001b[0m \u001b[1;33m=\u001b[0m \u001b[0maxis\u001b[0m\u001b[1;33m.\u001b[0m\u001b[0mdrop\u001b[0m\u001b[1;33m(\u001b[0m\u001b[0mlabels\u001b[0m\u001b[1;33m,\u001b[0m \u001b[0merrors\u001b[0m\u001b[1;33m=\u001b[0m\u001b[0merrors\u001b[0m\u001b[1;33m)\u001b[0m\u001b[1;33m\u001b[0m\u001b[1;33m\u001b[0m\u001b[0m\n\u001b[0m\u001b[0;32m   4186\u001b[0m             \u001b[0mresult\u001b[0m \u001b[1;33m=\u001b[0m \u001b[0mself\u001b[0m\u001b[1;33m.\u001b[0m\u001b[0mreindex\u001b[0m\u001b[1;33m(\u001b[0m\u001b[1;33m**\u001b[0m\u001b[1;33m{\u001b[0m\u001b[0maxis_name\u001b[0m\u001b[1;33m:\u001b[0m \u001b[0mnew_axis\u001b[0m\u001b[1;33m}\u001b[0m\u001b[1;33m)\u001b[0m\u001b[1;33m\u001b[0m\u001b[1;33m\u001b[0m\u001b[0m\n\u001b[0;32m   4187\u001b[0m \u001b[1;33m\u001b[0m\u001b[0m\n",
      "\u001b[1;32m~\\anaconda3\\lib\\site-packages\\pandas\\core\\indexes\\base.py\u001b[0m in \u001b[0;36mdrop\u001b[1;34m(self, labels, errors)\u001b[0m\n\u001b[0;32m   6015\u001b[0m         \u001b[1;32mif\u001b[0m \u001b[0mmask\u001b[0m\u001b[1;33m.\u001b[0m\u001b[0many\u001b[0m\u001b[1;33m(\u001b[0m\u001b[1;33m)\u001b[0m\u001b[1;33m:\u001b[0m\u001b[1;33m\u001b[0m\u001b[1;33m\u001b[0m\u001b[0m\n\u001b[0;32m   6016\u001b[0m             \u001b[1;32mif\u001b[0m \u001b[0merrors\u001b[0m \u001b[1;33m!=\u001b[0m \u001b[1;34m\"ignore\"\u001b[0m\u001b[1;33m:\u001b[0m\u001b[1;33m\u001b[0m\u001b[1;33m\u001b[0m\u001b[0m\n\u001b[1;32m-> 6017\u001b[1;33m                 \u001b[1;32mraise\u001b[0m \u001b[0mKeyError\u001b[0m\u001b[1;33m(\u001b[0m\u001b[1;34mf\"{labels[mask]} not found in axis\"\u001b[0m\u001b[1;33m)\u001b[0m\u001b[1;33m\u001b[0m\u001b[1;33m\u001b[0m\u001b[0m\n\u001b[0m\u001b[0;32m   6018\u001b[0m             \u001b[0mindexer\u001b[0m \u001b[1;33m=\u001b[0m \u001b[0mindexer\u001b[0m\u001b[1;33m[\u001b[0m\u001b[1;33m~\u001b[0m\u001b[0mmask\u001b[0m\u001b[1;33m]\u001b[0m\u001b[1;33m\u001b[0m\u001b[1;33m\u001b[0m\u001b[0m\n\u001b[0;32m   6019\u001b[0m         \u001b[1;32mreturn\u001b[0m \u001b[0mself\u001b[0m\u001b[1;33m.\u001b[0m\u001b[0mdelete\u001b[0m\u001b[1;33m(\u001b[0m\u001b[0mindexer\u001b[0m\u001b[1;33m)\u001b[0m\u001b[1;33m\u001b[0m\u001b[1;33m\u001b[0m\u001b[0m\n",
      "\u001b[1;31mKeyError\u001b[0m: \"['income'] not found in axis\""
     ]
    }
   ],
   "source": [
    "pred_c=cboost.fit(X,y).predict(newtest.drop('income',axis=1))"
   ]
  },
  {
   "cell_type": "markdown",
   "id": "015e21b4",
   "metadata": {},
   "source": [
    "## Stacking CLassifier"
   ]
  },
  {
   "cell_type": "code",
   "execution_count": 139,
   "id": "5351e61d",
   "metadata": {},
   "outputs": [],
   "source": [
    "from sklearn.ensemble import StackingClassifier\n",
    "level1 = [('rf',rf),('lgbm',lgbm)]\n",
    "#level0=[('lgbm',lgbm)]\n",
    "stack = StackingClassifier(estimators=level1,cv = 5,)\n",
    "pred_stack = stack.fit(X_train,y_train).predict(X_test)"
   ]
  },
  {
   "cell_type": "code",
   "execution_count": 140,
   "id": "c6f5a7bf",
   "metadata": {},
   "outputs": [
    {
     "data": {
      "text/plain": [
       "0.6444761904761904"
      ]
     },
     "execution_count": 140,
     "metadata": {},
     "output_type": "execute_result"
    }
   ],
   "source": [
    "accuracy_score(y_test,pred_stack)"
   ]
  },
  {
   "cell_type": "code",
   "execution_count": 142,
   "id": "60be3beb",
   "metadata": {},
   "outputs": [],
   "source": [
    "from sklearn.ensemble import StackingClassifier\n",
    "level1 = [('rf',rf)]\n",
    "level0=[('lgbm',lgbm)]\n",
    "stack = StackingClassifier(estimators=level0,final_estimator=lgbm,cv = 5,)\n",
    "pred_stack1 = stack.fit(X,y).predict(newtest)"
   ]
  },
  {
   "cell_type": "markdown",
   "id": "e23c5e7d",
   "metadata": {},
   "source": [
    "## Support Vector Machine"
   ]
  },
  {
   "cell_type": "raw",
   "id": "bd406eb9",
   "metadata": {},
   "source": [
    "from sklearn.svm import SVC  \n",
    "clf = SVC(kernel='linear') \n",
    "pred=clf.fit(X,y).predict(newtest.drop('income',axis=1))"
   ]
  },
  {
   "cell_type": "markdown",
   "id": "167f0807",
   "metadata": {},
   "source": [
    "## Lets try SMOTE "
   ]
  },
  {
   "cell_type": "code",
   "execution_count": 143,
   "id": "12dc2f8f",
   "metadata": {},
   "outputs": [],
   "source": [
    "from imblearn.over_sampling import SMOTE"
   ]
  },
  {
   "cell_type": "code",
   "execution_count": 144,
   "id": "faa67d31",
   "metadata": {},
   "outputs": [],
   "source": [
    "sm = SMOTE()\n",
    "X_final, y_final = sm.fit_resample(X, y)"
   ]
  },
  {
   "cell_type": "code",
   "execution_count": 146,
   "id": "400ccc9c",
   "metadata": {},
   "outputs": [],
   "source": [
    "predx=lgbm.fit(X_final,y_final).predict(newtest)"
   ]
  },
  {
   "cell_type": "markdown",
   "id": "b96b8673",
   "metadata": {},
   "source": [
    "* SMOTE Not Working Here"
   ]
  },
  {
   "cell_type": "markdown",
   "id": "06e2b953",
   "metadata": {},
   "source": [
    "## Extra Tree Classifier"
   ]
  },
  {
   "cell_type": "code",
   "execution_count": 147,
   "id": "1fb1a966",
   "metadata": {},
   "outputs": [],
   "source": [
    "from sklearn.tree import ExtraTreeClassifier\n"
   ]
  },
  {
   "cell_type": "code",
   "execution_count": 148,
   "id": "b5571dcd",
   "metadata": {},
   "outputs": [],
   "source": [
    "ext=ExtraTreeClassifier()"
   ]
  },
  {
   "cell_type": "code",
   "execution_count": 149,
   "id": "d8282216",
   "metadata": {},
   "outputs": [],
   "source": [
    "pred_r=ext.fit(X_train,y_train).predict(X_test)"
   ]
  },
  {
   "cell_type": "code",
   "execution_count": 150,
   "id": "da37d042",
   "metadata": {},
   "outputs": [
    {
     "data": {
      "text/plain": [
       "0.5435714285714286"
      ]
     },
     "execution_count": 150,
     "metadata": {},
     "output_type": "execute_result"
    }
   ],
   "source": [
    "accuracy_score(y_test,pred_r)"
   ]
  },
  {
   "cell_type": "markdown",
   "id": "e3cd679c",
   "metadata": {},
   "source": [
    "## lgbm tunned"
   ]
  },
  {
   "cell_type": "code",
   "execution_count": 151,
   "id": "5d5c72db",
   "metadata": {},
   "outputs": [],
   "source": [
    "lgbm = LGBMClassifier(n_estimators=100,max_depth=10,random_state=2,learning_rate=0.5)"
   ]
  },
  {
   "cell_type": "code",
   "execution_count": 152,
   "id": "81857c03",
   "metadata": {},
   "outputs": [],
   "source": [
    "pred_l=lgbm.fit(X_train,y_train).predict(X_test)"
   ]
  },
  {
   "cell_type": "code",
   "execution_count": 153,
   "id": "22dacd05",
   "metadata": {},
   "outputs": [
    {
     "data": {
      "text/plain": [
       "0.6282857142857143"
      ]
     },
     "execution_count": 153,
     "metadata": {},
     "output_type": "execute_result"
    }
   ],
   "source": [
    "\n",
    "accuracy_score(y_test,pred_l)"
   ]
  },
  {
   "cell_type": "markdown",
   "id": "653332ab",
   "metadata": {},
   "source": [
    "## Decision tree critrion changed"
   ]
  },
  {
   "cell_type": "code",
   "execution_count": 155,
   "id": "39899647",
   "metadata": {},
   "outputs": [],
   "source": [
    "from sklearn.tree import DecisionTreeClassifier"
   ]
  },
  {
   "cell_type": "code",
   "execution_count": 156,
   "id": "2230817a",
   "metadata": {},
   "outputs": [],
   "source": [
    "dct=DecisionTreeClassifier(criterion='gini')"
   ]
  },
  {
   "cell_type": "code",
   "execution_count": 157,
   "id": "a24dd575",
   "metadata": {},
   "outputs": [],
   "source": [
    "pred_dct=dct.fit(X_train,y_train).predict(X_test)"
   ]
  },
  {
   "cell_type": "code",
   "execution_count": 158,
   "id": "c9625fe9",
   "metadata": {},
   "outputs": [
    {
     "data": {
      "text/plain": [
       "0.542952380952381"
      ]
     },
     "execution_count": 158,
     "metadata": {},
     "output_type": "execute_result"
    }
   ],
   "source": [
    "accuracy_score(y_test,pred_dct)"
   ]
  },
  {
   "cell_type": "markdown",
   "id": "6450bd27",
   "metadata": {},
   "source": [
    "## Grid Search CV for random forest"
   ]
  },
  {
   "cell_type": "code",
   "execution_count": null,
   "id": "ce4d36eb",
   "metadata": {},
   "outputs": [],
   "source": [
    "params=[{'n_estimators':[100,150,180,200,250,500],'max_depth':[5,7,9,11,13,15,17,21], 'min_samples_leaf':[2,4,5,7,9,10],'class_weight' : [\"balanced\", \"balanced_subsample\"]}]"
   ]
  },
  {
   "cell_type": "code",
   "execution_count": null,
   "id": "7c2ae381",
   "metadata": {},
   "outputs": [],
   "source": [
    "from sklearn.model_selection import GridSearchCV"
   ]
  },
  {
   "cell_type": "code",
   "execution_count": null,
   "id": "2f4abc6b",
   "metadata": {},
   "outputs": [],
   "source": [
    "G=GridSearchCV(estimator=rf,param_grid=params,cv=5)"
   ]
  },
  {
   "cell_type": "raw",
   "id": "0ae70472",
   "metadata": {},
   "source": [
    "G.fit(X_train,y_train)"
   ]
  },
  {
   "cell_type": "code",
   "execution_count": null,
   "id": "a2ff3fd0",
   "metadata": {},
   "outputs": [],
   "source": [
    "gbm=LGBMClassifier(learning_rate=0.01,max_depth=10,random_state = 150)"
   ]
  },
  {
   "cell_type": "code",
   "execution_count": null,
   "id": "f68fcb95",
   "metadata": {},
   "outputs": [],
   "source": [
    "pred=gbm.fit(X_train,y_train).predict(X_test)"
   ]
  },
  {
   "cell_type": "code",
   "execution_count": null,
   "id": "52c61ff3",
   "metadata": {},
   "outputs": [],
   "source": [
    "accuracy_score(y_test,pred)"
   ]
  },
  {
   "cell_type": "code",
   "execution_count": null,
   "id": "5b1b459f",
   "metadata": {},
   "outputs": [],
   "source": [
    "from sklearn.ensemble import StackingClassifier\n",
    "level0 = [('cboost', cboost),('rf',rf)]\n",
    "stack = StackingClassifier(estimators=level0,final_estimator=lgbm,cv = 5)\n",
    "pred_stack = stack.fit(X_train, y_train).predict(X_test)\n",
    "print(accuracy_score(y_test,pred_stack))"
   ]
  },
  {
   "cell_type": "code",
   "execution_count": null,
   "id": "dd43197f",
   "metadata": {},
   "outputs": [],
   "source": [
    "cboost=CatBoostClassifier(depth=10,learning_rate=0.484683)"
   ]
  },
  {
   "cell_type": "code",
   "execution_count": null,
   "id": "4c0d0350",
   "metadata": {},
   "outputs": [],
   "source": [
    "pred1=cboost.fit(X_train,y_train).predict(X_test)"
   ]
  },
  {
   "cell_type": "code",
   "execution_count": null,
   "id": "04288027",
   "metadata": {},
   "outputs": [],
   "source": [
    "accuracy_score(y_test,pred1)"
   ]
  },
  {
   "cell_type": "markdown",
   "id": "29638a86",
   "metadata": {},
   "source": [
    "## Modelling Inferences\n",
    "\n",
    "* Our Actual test data is performing with higher accuracy then our validation test .\n",
    "* Light GBM and Random forest are doing really well on this data.\n",
    "* For Stacking we go for Random forest and lgbm.\n",
    "* We can run our random forest multiple times as it takes random values eveytime so it help enhancing the accuracy.\n"
   ]
  },
  {
   "cell_type": "code",
   "execution_count": null,
   "id": "8c63f3e6",
   "metadata": {},
   "outputs": [],
   "source": []
  },
  {
   "cell_type": "code",
   "execution_count": null,
   "id": "22115af0",
   "metadata": {},
   "outputs": [],
   "source": []
  }
 ],
 "metadata": {
  "kernelspec": {
   "display_name": "Python 3 (ipykernel)",
   "language": "python",
   "name": "python3"
  },
  "language_info": {
   "codemirror_mode": {
    "name": "ipython",
    "version": 3
   },
   "file_extension": ".py",
   "mimetype": "text/x-python",
   "name": "python",
   "nbconvert_exporter": "python",
   "pygments_lexer": "ipython3",
   "version": "3.9.7"
  }
 },
 "nbformat": 4,
 "nbformat_minor": 5
}
